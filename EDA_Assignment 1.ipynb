{
 "cells": [
  {
   "cell_type": "code",
   "execution_count": 3,
   "id": "36367a15",
   "metadata": {},
   "outputs": [],
   "source": [
    "import pandas as pd\n",
    "import numpy as np\n",
    "import matplotlib.pyplot as plt\n",
    "import seaborn as sns\n",
    "import warnings\n",
    "warnings.filterwarnings(\"ignore\")"
   ]
  },
  {
   "cell_type": "markdown",
   "id": "69f7f785",
   "metadata": {},
   "source": [
    "# Read Data/ Import Data"
   ]
  },
  {
   "cell_type": "code",
   "execution_count": 4,
   "id": "17793a48",
   "metadata": {},
   "outputs": [],
   "source": [
    "inp0=pd.read_csv(\"previous_application.csv\")\n",
    "inp1=pd.read_csv(\"application_data.csv\")"
   ]
  },
  {
   "cell_type": "code",
   "execution_count": 5,
   "id": "2586a48c",
   "metadata": {},
   "outputs": [],
   "source": [
    "pd.set_option(\"display.max_rows\",1000) ### set the disply row limit"
   ]
  },
  {
   "cell_type": "code",
   "execution_count": 6,
   "id": "56a9c044",
   "metadata": {},
   "outputs": [
    {
     "data": {
      "text/plain": [
       "(307511, 122)"
      ]
     },
     "execution_count": 6,
     "metadata": {},
     "output_type": "execute_result"
    }
   ],
   "source": [
    "inp1.shape"
   ]
  },
  {
   "cell_type": "code",
   "execution_count": 7,
   "id": "9ad7f85b",
   "metadata": {},
   "outputs": [
    {
     "name": "stdout",
     "output_type": "stream",
     "text": [
      "<class 'pandas.core.frame.DataFrame'>\n",
      "RangeIndex: 307511 entries, 0 to 307510\n",
      "Columns: 122 entries, SK_ID_CURR to AMT_REQ_CREDIT_BUREAU_YEAR\n",
      "dtypes: float64(65), int64(41), object(16)\n",
      "memory usage: 286.2+ MB\n"
     ]
    }
   ],
   "source": [
    "inp1.info()"
   ]
  },
  {
   "cell_type": "code",
   "execution_count": 8,
   "id": "74c99eca",
   "metadata": {},
   "outputs": [
    {
     "data": {
      "text/plain": [
       "SK_ID_CURR                       0.000000\n",
       "TARGET                           0.000000\n",
       "NAME_CONTRACT_TYPE               0.000000\n",
       "CODE_GENDER                      0.000000\n",
       "FLAG_OWN_CAR                     0.000000\n",
       "FLAG_OWN_REALTY                  0.000000\n",
       "CNT_CHILDREN                     0.000000\n",
       "AMT_INCOME_TOTAL                 0.000000\n",
       "AMT_CREDIT                       0.000000\n",
       "AMT_ANNUITY                      0.003902\n",
       "AMT_GOODS_PRICE                  0.090403\n",
       "NAME_TYPE_SUITE                  0.420148\n",
       "NAME_INCOME_TYPE                 0.000000\n",
       "NAME_EDUCATION_TYPE              0.000000\n",
       "NAME_FAMILY_STATUS               0.000000\n",
       "NAME_HOUSING_TYPE                0.000000\n",
       "REGION_POPULATION_RELATIVE       0.000000\n",
       "DAYS_BIRTH                       0.000000\n",
       "DAYS_EMPLOYED                    0.000000\n",
       "DAYS_REGISTRATION                0.000000\n",
       "DAYS_ID_PUBLISH                  0.000000\n",
       "OWN_CAR_AGE                     65.990810\n",
       "FLAG_MOBIL                       0.000000\n",
       "FLAG_EMP_PHONE                   0.000000\n",
       "FLAG_WORK_PHONE                  0.000000\n",
       "FLAG_CONT_MOBILE                 0.000000\n",
       "FLAG_PHONE                       0.000000\n",
       "FLAG_EMAIL                       0.000000\n",
       "OCCUPATION_TYPE                 31.345545\n",
       "CNT_FAM_MEMBERS                  0.000650\n",
       "REGION_RATING_CLIENT             0.000000\n",
       "REGION_RATING_CLIENT_W_CITY      0.000000\n",
       "WEEKDAY_APPR_PROCESS_START       0.000000\n",
       "HOUR_APPR_PROCESS_START          0.000000\n",
       "REG_REGION_NOT_LIVE_REGION       0.000000\n",
       "REG_REGION_NOT_WORK_REGION       0.000000\n",
       "LIVE_REGION_NOT_WORK_REGION      0.000000\n",
       "REG_CITY_NOT_LIVE_CITY           0.000000\n",
       "REG_CITY_NOT_WORK_CITY           0.000000\n",
       "LIVE_CITY_NOT_WORK_CITY          0.000000\n",
       "ORGANIZATION_TYPE                0.000000\n",
       "EXT_SOURCE_1                    56.381073\n",
       "EXT_SOURCE_2                     0.214626\n",
       "EXT_SOURCE_3                    19.825307\n",
       "APARTMENTS_AVG                  50.749729\n",
       "BASEMENTAREA_AVG                58.515956\n",
       "YEARS_BEGINEXPLUATATION_AVG     48.781019\n",
       "YEARS_BUILD_AVG                 66.497784\n",
       "COMMONAREA_AVG                  69.872297\n",
       "ELEVATORS_AVG                   53.295980\n",
       "ENTRANCES_AVG                   50.348768\n",
       "FLOORSMAX_AVG                   49.760822\n",
       "FLOORSMIN_AVG                   67.848630\n",
       "LANDAREA_AVG                    59.376738\n",
       "LIVINGAPARTMENTS_AVG            68.354953\n",
       "LIVINGAREA_AVG                  50.193326\n",
       "NONLIVINGAPARTMENTS_AVG         69.432963\n",
       "NONLIVINGAREA_AVG               55.179164\n",
       "APARTMENTS_MODE                 50.749729\n",
       "BASEMENTAREA_MODE               58.515956\n",
       "YEARS_BEGINEXPLUATATION_MODE    48.781019\n",
       "YEARS_BUILD_MODE                66.497784\n",
       "COMMONAREA_MODE                 69.872297\n",
       "ELEVATORS_MODE                  53.295980\n",
       "ENTRANCES_MODE                  50.348768\n",
       "FLOORSMAX_MODE                  49.760822\n",
       "FLOORSMIN_MODE                  67.848630\n",
       "LANDAREA_MODE                   59.376738\n",
       "LIVINGAPARTMENTS_MODE           68.354953\n",
       "LIVINGAREA_MODE                 50.193326\n",
       "NONLIVINGAPARTMENTS_MODE        69.432963\n",
       "NONLIVINGAREA_MODE              55.179164\n",
       "APARTMENTS_MEDI                 50.749729\n",
       "BASEMENTAREA_MEDI               58.515956\n",
       "YEARS_BEGINEXPLUATATION_MEDI    48.781019\n",
       "YEARS_BUILD_MEDI                66.497784\n",
       "COMMONAREA_MEDI                 69.872297\n",
       "ELEVATORS_MEDI                  53.295980\n",
       "ENTRANCES_MEDI                  50.348768\n",
       "FLOORSMAX_MEDI                  49.760822\n",
       "FLOORSMIN_MEDI                  67.848630\n",
       "LANDAREA_MEDI                   59.376738\n",
       "LIVINGAPARTMENTS_MEDI           68.354953\n",
       "LIVINGAREA_MEDI                 50.193326\n",
       "NONLIVINGAPARTMENTS_MEDI        69.432963\n",
       "NONLIVINGAREA_MEDI              55.179164\n",
       "FONDKAPREMONT_MODE              68.386172\n",
       "HOUSETYPE_MODE                  50.176091\n",
       "TOTALAREA_MODE                  48.268517\n",
       "WALLSMATERIAL_MODE              50.840783\n",
       "EMERGENCYSTATE_MODE             47.398304\n",
       "OBS_30_CNT_SOCIAL_CIRCLE         0.332021\n",
       "DEF_30_CNT_SOCIAL_CIRCLE         0.332021\n",
       "OBS_60_CNT_SOCIAL_CIRCLE         0.332021\n",
       "DEF_60_CNT_SOCIAL_CIRCLE         0.332021\n",
       "DAYS_LAST_PHONE_CHANGE           0.000325\n",
       "FLAG_DOCUMENT_2                  0.000000\n",
       "FLAG_DOCUMENT_3                  0.000000\n",
       "FLAG_DOCUMENT_4                  0.000000\n",
       "FLAG_DOCUMENT_5                  0.000000\n",
       "FLAG_DOCUMENT_6                  0.000000\n",
       "FLAG_DOCUMENT_7                  0.000000\n",
       "FLAG_DOCUMENT_8                  0.000000\n",
       "FLAG_DOCUMENT_9                  0.000000\n",
       "FLAG_DOCUMENT_10                 0.000000\n",
       "FLAG_DOCUMENT_11                 0.000000\n",
       "FLAG_DOCUMENT_12                 0.000000\n",
       "FLAG_DOCUMENT_13                 0.000000\n",
       "FLAG_DOCUMENT_14                 0.000000\n",
       "FLAG_DOCUMENT_15                 0.000000\n",
       "FLAG_DOCUMENT_16                 0.000000\n",
       "FLAG_DOCUMENT_17                 0.000000\n",
       "FLAG_DOCUMENT_18                 0.000000\n",
       "FLAG_DOCUMENT_19                 0.000000\n",
       "FLAG_DOCUMENT_20                 0.000000\n",
       "FLAG_DOCUMENT_21                 0.000000\n",
       "AMT_REQ_CREDIT_BUREAU_HOUR      13.501631\n",
       "AMT_REQ_CREDIT_BUREAU_DAY       13.501631\n",
       "AMT_REQ_CREDIT_BUREAU_WEEK      13.501631\n",
       "AMT_REQ_CREDIT_BUREAU_MON       13.501631\n",
       "AMT_REQ_CREDIT_BUREAU_QRT       13.501631\n",
       "AMT_REQ_CREDIT_BUREAU_YEAR      13.501631\n",
       "dtype: float64"
      ]
     },
     "execution_count": 8,
     "metadata": {},
     "output_type": "execute_result"
    }
   ],
   "source": [
    "inp1.isnull().mean()*100"
   ]
  },
  {
   "cell_type": "markdown",
   "id": "bed3d35e",
   "metadata": {},
   "source": [
    "### Droping the columns which has more than 50% missing values"
   ]
  },
  {
   "cell_type": "code",
   "execution_count": 9,
   "id": "be670b1d",
   "metadata": {},
   "outputs": [
    {
     "data": {
      "text/html": [
       "<div>\n",
       "<style scoped>\n",
       "    .dataframe tbody tr th:only-of-type {\n",
       "        vertical-align: middle;\n",
       "    }\n",
       "\n",
       "    .dataframe tbody tr th {\n",
       "        vertical-align: top;\n",
       "    }\n",
       "\n",
       "    .dataframe thead th {\n",
       "        text-align: right;\n",
       "    }\n",
       "</style>\n",
       "<table border=\"1\" class=\"dataframe\">\n",
       "  <thead>\n",
       "    <tr style=\"text-align: right;\">\n",
       "      <th></th>\n",
       "      <th>index</th>\n",
       "      <th>Missing value %</th>\n",
       "    </tr>\n",
       "  </thead>\n",
       "  <tbody>\n",
       "    <tr>\n",
       "      <th>0</th>\n",
       "      <td>SK_ID_CURR</td>\n",
       "      <td>0.000000</td>\n",
       "    </tr>\n",
       "    <tr>\n",
       "      <th>1</th>\n",
       "      <td>TARGET</td>\n",
       "      <td>0.000000</td>\n",
       "    </tr>\n",
       "    <tr>\n",
       "      <th>2</th>\n",
       "      <td>NAME_CONTRACT_TYPE</td>\n",
       "      <td>0.000000</td>\n",
       "    </tr>\n",
       "    <tr>\n",
       "      <th>3</th>\n",
       "      <td>CODE_GENDER</td>\n",
       "      <td>0.000000</td>\n",
       "    </tr>\n",
       "    <tr>\n",
       "      <th>4</th>\n",
       "      <td>FLAG_OWN_CAR</td>\n",
       "      <td>0.000000</td>\n",
       "    </tr>\n",
       "    <tr>\n",
       "      <th>5</th>\n",
       "      <td>FLAG_OWN_REALTY</td>\n",
       "      <td>0.000000</td>\n",
       "    </tr>\n",
       "    <tr>\n",
       "      <th>6</th>\n",
       "      <td>CNT_CHILDREN</td>\n",
       "      <td>0.000000</td>\n",
       "    </tr>\n",
       "    <tr>\n",
       "      <th>7</th>\n",
       "      <td>AMT_INCOME_TOTAL</td>\n",
       "      <td>0.000000</td>\n",
       "    </tr>\n",
       "    <tr>\n",
       "      <th>8</th>\n",
       "      <td>AMT_CREDIT</td>\n",
       "      <td>0.000000</td>\n",
       "    </tr>\n",
       "    <tr>\n",
       "      <th>9</th>\n",
       "      <td>AMT_ANNUITY</td>\n",
       "      <td>0.003902</td>\n",
       "    </tr>\n",
       "    <tr>\n",
       "      <th>10</th>\n",
       "      <td>AMT_GOODS_PRICE</td>\n",
       "      <td>0.090403</td>\n",
       "    </tr>\n",
       "    <tr>\n",
       "      <th>11</th>\n",
       "      <td>NAME_TYPE_SUITE</td>\n",
       "      <td>0.420148</td>\n",
       "    </tr>\n",
       "    <tr>\n",
       "      <th>12</th>\n",
       "      <td>NAME_INCOME_TYPE</td>\n",
       "      <td>0.000000</td>\n",
       "    </tr>\n",
       "    <tr>\n",
       "      <th>13</th>\n",
       "      <td>NAME_EDUCATION_TYPE</td>\n",
       "      <td>0.000000</td>\n",
       "    </tr>\n",
       "    <tr>\n",
       "      <th>14</th>\n",
       "      <td>NAME_FAMILY_STATUS</td>\n",
       "      <td>0.000000</td>\n",
       "    </tr>\n",
       "    <tr>\n",
       "      <th>15</th>\n",
       "      <td>NAME_HOUSING_TYPE</td>\n",
       "      <td>0.000000</td>\n",
       "    </tr>\n",
       "    <tr>\n",
       "      <th>16</th>\n",
       "      <td>REGION_POPULATION_RELATIVE</td>\n",
       "      <td>0.000000</td>\n",
       "    </tr>\n",
       "    <tr>\n",
       "      <th>17</th>\n",
       "      <td>DAYS_BIRTH</td>\n",
       "      <td>0.000000</td>\n",
       "    </tr>\n",
       "    <tr>\n",
       "      <th>18</th>\n",
       "      <td>DAYS_EMPLOYED</td>\n",
       "      <td>0.000000</td>\n",
       "    </tr>\n",
       "    <tr>\n",
       "      <th>19</th>\n",
       "      <td>DAYS_REGISTRATION</td>\n",
       "      <td>0.000000</td>\n",
       "    </tr>\n",
       "    <tr>\n",
       "      <th>20</th>\n",
       "      <td>DAYS_ID_PUBLISH</td>\n",
       "      <td>0.000000</td>\n",
       "    </tr>\n",
       "    <tr>\n",
       "      <th>21</th>\n",
       "      <td>OWN_CAR_AGE</td>\n",
       "      <td>65.990810</td>\n",
       "    </tr>\n",
       "    <tr>\n",
       "      <th>22</th>\n",
       "      <td>FLAG_MOBIL</td>\n",
       "      <td>0.000000</td>\n",
       "    </tr>\n",
       "    <tr>\n",
       "      <th>23</th>\n",
       "      <td>FLAG_EMP_PHONE</td>\n",
       "      <td>0.000000</td>\n",
       "    </tr>\n",
       "    <tr>\n",
       "      <th>24</th>\n",
       "      <td>FLAG_WORK_PHONE</td>\n",
       "      <td>0.000000</td>\n",
       "    </tr>\n",
       "    <tr>\n",
       "      <th>25</th>\n",
       "      <td>FLAG_CONT_MOBILE</td>\n",
       "      <td>0.000000</td>\n",
       "    </tr>\n",
       "    <tr>\n",
       "      <th>26</th>\n",
       "      <td>FLAG_PHONE</td>\n",
       "      <td>0.000000</td>\n",
       "    </tr>\n",
       "    <tr>\n",
       "      <th>27</th>\n",
       "      <td>FLAG_EMAIL</td>\n",
       "      <td>0.000000</td>\n",
       "    </tr>\n",
       "    <tr>\n",
       "      <th>28</th>\n",
       "      <td>OCCUPATION_TYPE</td>\n",
       "      <td>31.345545</td>\n",
       "    </tr>\n",
       "    <tr>\n",
       "      <th>29</th>\n",
       "      <td>CNT_FAM_MEMBERS</td>\n",
       "      <td>0.000650</td>\n",
       "    </tr>\n",
       "    <tr>\n",
       "      <th>30</th>\n",
       "      <td>REGION_RATING_CLIENT</td>\n",
       "      <td>0.000000</td>\n",
       "    </tr>\n",
       "    <tr>\n",
       "      <th>31</th>\n",
       "      <td>REGION_RATING_CLIENT_W_CITY</td>\n",
       "      <td>0.000000</td>\n",
       "    </tr>\n",
       "    <tr>\n",
       "      <th>32</th>\n",
       "      <td>WEEKDAY_APPR_PROCESS_START</td>\n",
       "      <td>0.000000</td>\n",
       "    </tr>\n",
       "    <tr>\n",
       "      <th>33</th>\n",
       "      <td>HOUR_APPR_PROCESS_START</td>\n",
       "      <td>0.000000</td>\n",
       "    </tr>\n",
       "    <tr>\n",
       "      <th>34</th>\n",
       "      <td>REG_REGION_NOT_LIVE_REGION</td>\n",
       "      <td>0.000000</td>\n",
       "    </tr>\n",
       "    <tr>\n",
       "      <th>35</th>\n",
       "      <td>REG_REGION_NOT_WORK_REGION</td>\n",
       "      <td>0.000000</td>\n",
       "    </tr>\n",
       "    <tr>\n",
       "      <th>36</th>\n",
       "      <td>LIVE_REGION_NOT_WORK_REGION</td>\n",
       "      <td>0.000000</td>\n",
       "    </tr>\n",
       "    <tr>\n",
       "      <th>37</th>\n",
       "      <td>REG_CITY_NOT_LIVE_CITY</td>\n",
       "      <td>0.000000</td>\n",
       "    </tr>\n",
       "    <tr>\n",
       "      <th>38</th>\n",
       "      <td>REG_CITY_NOT_WORK_CITY</td>\n",
       "      <td>0.000000</td>\n",
       "    </tr>\n",
       "    <tr>\n",
       "      <th>39</th>\n",
       "      <td>LIVE_CITY_NOT_WORK_CITY</td>\n",
       "      <td>0.000000</td>\n",
       "    </tr>\n",
       "    <tr>\n",
       "      <th>40</th>\n",
       "      <td>ORGANIZATION_TYPE</td>\n",
       "      <td>0.000000</td>\n",
       "    </tr>\n",
       "    <tr>\n",
       "      <th>41</th>\n",
       "      <td>EXT_SOURCE_1</td>\n",
       "      <td>56.381073</td>\n",
       "    </tr>\n",
       "    <tr>\n",
       "      <th>42</th>\n",
       "      <td>EXT_SOURCE_2</td>\n",
       "      <td>0.214626</td>\n",
       "    </tr>\n",
       "    <tr>\n",
       "      <th>43</th>\n",
       "      <td>EXT_SOURCE_3</td>\n",
       "      <td>19.825307</td>\n",
       "    </tr>\n",
       "    <tr>\n",
       "      <th>44</th>\n",
       "      <td>APARTMENTS_AVG</td>\n",
       "      <td>50.749729</td>\n",
       "    </tr>\n",
       "    <tr>\n",
       "      <th>45</th>\n",
       "      <td>BASEMENTAREA_AVG</td>\n",
       "      <td>58.515956</td>\n",
       "    </tr>\n",
       "    <tr>\n",
       "      <th>46</th>\n",
       "      <td>YEARS_BEGINEXPLUATATION_AVG</td>\n",
       "      <td>48.781019</td>\n",
       "    </tr>\n",
       "    <tr>\n",
       "      <th>47</th>\n",
       "      <td>YEARS_BUILD_AVG</td>\n",
       "      <td>66.497784</td>\n",
       "    </tr>\n",
       "    <tr>\n",
       "      <th>48</th>\n",
       "      <td>COMMONAREA_AVG</td>\n",
       "      <td>69.872297</td>\n",
       "    </tr>\n",
       "    <tr>\n",
       "      <th>49</th>\n",
       "      <td>ELEVATORS_AVG</td>\n",
       "      <td>53.295980</td>\n",
       "    </tr>\n",
       "    <tr>\n",
       "      <th>50</th>\n",
       "      <td>ENTRANCES_AVG</td>\n",
       "      <td>50.348768</td>\n",
       "    </tr>\n",
       "    <tr>\n",
       "      <th>51</th>\n",
       "      <td>FLOORSMAX_AVG</td>\n",
       "      <td>49.760822</td>\n",
       "    </tr>\n",
       "    <tr>\n",
       "      <th>52</th>\n",
       "      <td>FLOORSMIN_AVG</td>\n",
       "      <td>67.848630</td>\n",
       "    </tr>\n",
       "    <tr>\n",
       "      <th>53</th>\n",
       "      <td>LANDAREA_AVG</td>\n",
       "      <td>59.376738</td>\n",
       "    </tr>\n",
       "    <tr>\n",
       "      <th>54</th>\n",
       "      <td>LIVINGAPARTMENTS_AVG</td>\n",
       "      <td>68.354953</td>\n",
       "    </tr>\n",
       "    <tr>\n",
       "      <th>55</th>\n",
       "      <td>LIVINGAREA_AVG</td>\n",
       "      <td>50.193326</td>\n",
       "    </tr>\n",
       "    <tr>\n",
       "      <th>56</th>\n",
       "      <td>NONLIVINGAPARTMENTS_AVG</td>\n",
       "      <td>69.432963</td>\n",
       "    </tr>\n",
       "    <tr>\n",
       "      <th>57</th>\n",
       "      <td>NONLIVINGAREA_AVG</td>\n",
       "      <td>55.179164</td>\n",
       "    </tr>\n",
       "    <tr>\n",
       "      <th>58</th>\n",
       "      <td>APARTMENTS_MODE</td>\n",
       "      <td>50.749729</td>\n",
       "    </tr>\n",
       "    <tr>\n",
       "      <th>59</th>\n",
       "      <td>BASEMENTAREA_MODE</td>\n",
       "      <td>58.515956</td>\n",
       "    </tr>\n",
       "    <tr>\n",
       "      <th>60</th>\n",
       "      <td>YEARS_BEGINEXPLUATATION_MODE</td>\n",
       "      <td>48.781019</td>\n",
       "    </tr>\n",
       "    <tr>\n",
       "      <th>61</th>\n",
       "      <td>YEARS_BUILD_MODE</td>\n",
       "      <td>66.497784</td>\n",
       "    </tr>\n",
       "    <tr>\n",
       "      <th>62</th>\n",
       "      <td>COMMONAREA_MODE</td>\n",
       "      <td>69.872297</td>\n",
       "    </tr>\n",
       "    <tr>\n",
       "      <th>63</th>\n",
       "      <td>ELEVATORS_MODE</td>\n",
       "      <td>53.295980</td>\n",
       "    </tr>\n",
       "    <tr>\n",
       "      <th>64</th>\n",
       "      <td>ENTRANCES_MODE</td>\n",
       "      <td>50.348768</td>\n",
       "    </tr>\n",
       "    <tr>\n",
       "      <th>65</th>\n",
       "      <td>FLOORSMAX_MODE</td>\n",
       "      <td>49.760822</td>\n",
       "    </tr>\n",
       "    <tr>\n",
       "      <th>66</th>\n",
       "      <td>FLOORSMIN_MODE</td>\n",
       "      <td>67.848630</td>\n",
       "    </tr>\n",
       "    <tr>\n",
       "      <th>67</th>\n",
       "      <td>LANDAREA_MODE</td>\n",
       "      <td>59.376738</td>\n",
       "    </tr>\n",
       "    <tr>\n",
       "      <th>68</th>\n",
       "      <td>LIVINGAPARTMENTS_MODE</td>\n",
       "      <td>68.354953</td>\n",
       "    </tr>\n",
       "    <tr>\n",
       "      <th>69</th>\n",
       "      <td>LIVINGAREA_MODE</td>\n",
       "      <td>50.193326</td>\n",
       "    </tr>\n",
       "    <tr>\n",
       "      <th>70</th>\n",
       "      <td>NONLIVINGAPARTMENTS_MODE</td>\n",
       "      <td>69.432963</td>\n",
       "    </tr>\n",
       "    <tr>\n",
       "      <th>71</th>\n",
       "      <td>NONLIVINGAREA_MODE</td>\n",
       "      <td>55.179164</td>\n",
       "    </tr>\n",
       "    <tr>\n",
       "      <th>72</th>\n",
       "      <td>APARTMENTS_MEDI</td>\n",
       "      <td>50.749729</td>\n",
       "    </tr>\n",
       "    <tr>\n",
       "      <th>73</th>\n",
       "      <td>BASEMENTAREA_MEDI</td>\n",
       "      <td>58.515956</td>\n",
       "    </tr>\n",
       "    <tr>\n",
       "      <th>74</th>\n",
       "      <td>YEARS_BEGINEXPLUATATION_MEDI</td>\n",
       "      <td>48.781019</td>\n",
       "    </tr>\n",
       "    <tr>\n",
       "      <th>75</th>\n",
       "      <td>YEARS_BUILD_MEDI</td>\n",
       "      <td>66.497784</td>\n",
       "    </tr>\n",
       "    <tr>\n",
       "      <th>76</th>\n",
       "      <td>COMMONAREA_MEDI</td>\n",
       "      <td>69.872297</td>\n",
       "    </tr>\n",
       "    <tr>\n",
       "      <th>77</th>\n",
       "      <td>ELEVATORS_MEDI</td>\n",
       "      <td>53.295980</td>\n",
       "    </tr>\n",
       "    <tr>\n",
       "      <th>78</th>\n",
       "      <td>ENTRANCES_MEDI</td>\n",
       "      <td>50.348768</td>\n",
       "    </tr>\n",
       "    <tr>\n",
       "      <th>79</th>\n",
       "      <td>FLOORSMAX_MEDI</td>\n",
       "      <td>49.760822</td>\n",
       "    </tr>\n",
       "    <tr>\n",
       "      <th>80</th>\n",
       "      <td>FLOORSMIN_MEDI</td>\n",
       "      <td>67.848630</td>\n",
       "    </tr>\n",
       "    <tr>\n",
       "      <th>81</th>\n",
       "      <td>LANDAREA_MEDI</td>\n",
       "      <td>59.376738</td>\n",
       "    </tr>\n",
       "    <tr>\n",
       "      <th>82</th>\n",
       "      <td>LIVINGAPARTMENTS_MEDI</td>\n",
       "      <td>68.354953</td>\n",
       "    </tr>\n",
       "    <tr>\n",
       "      <th>83</th>\n",
       "      <td>LIVINGAREA_MEDI</td>\n",
       "      <td>50.193326</td>\n",
       "    </tr>\n",
       "    <tr>\n",
       "      <th>84</th>\n",
       "      <td>NONLIVINGAPARTMENTS_MEDI</td>\n",
       "      <td>69.432963</td>\n",
       "    </tr>\n",
       "    <tr>\n",
       "      <th>85</th>\n",
       "      <td>NONLIVINGAREA_MEDI</td>\n",
       "      <td>55.179164</td>\n",
       "    </tr>\n",
       "    <tr>\n",
       "      <th>86</th>\n",
       "      <td>FONDKAPREMONT_MODE</td>\n",
       "      <td>68.386172</td>\n",
       "    </tr>\n",
       "    <tr>\n",
       "      <th>87</th>\n",
       "      <td>HOUSETYPE_MODE</td>\n",
       "      <td>50.176091</td>\n",
       "    </tr>\n",
       "    <tr>\n",
       "      <th>88</th>\n",
       "      <td>TOTALAREA_MODE</td>\n",
       "      <td>48.268517</td>\n",
       "    </tr>\n",
       "    <tr>\n",
       "      <th>89</th>\n",
       "      <td>WALLSMATERIAL_MODE</td>\n",
       "      <td>50.840783</td>\n",
       "    </tr>\n",
       "    <tr>\n",
       "      <th>90</th>\n",
       "      <td>EMERGENCYSTATE_MODE</td>\n",
       "      <td>47.398304</td>\n",
       "    </tr>\n",
       "    <tr>\n",
       "      <th>91</th>\n",
       "      <td>OBS_30_CNT_SOCIAL_CIRCLE</td>\n",
       "      <td>0.332021</td>\n",
       "    </tr>\n",
       "    <tr>\n",
       "      <th>92</th>\n",
       "      <td>DEF_30_CNT_SOCIAL_CIRCLE</td>\n",
       "      <td>0.332021</td>\n",
       "    </tr>\n",
       "    <tr>\n",
       "      <th>93</th>\n",
       "      <td>OBS_60_CNT_SOCIAL_CIRCLE</td>\n",
       "      <td>0.332021</td>\n",
       "    </tr>\n",
       "    <tr>\n",
       "      <th>94</th>\n",
       "      <td>DEF_60_CNT_SOCIAL_CIRCLE</td>\n",
       "      <td>0.332021</td>\n",
       "    </tr>\n",
       "    <tr>\n",
       "      <th>95</th>\n",
       "      <td>DAYS_LAST_PHONE_CHANGE</td>\n",
       "      <td>0.000325</td>\n",
       "    </tr>\n",
       "    <tr>\n",
       "      <th>96</th>\n",
       "      <td>FLAG_DOCUMENT_2</td>\n",
       "      <td>0.000000</td>\n",
       "    </tr>\n",
       "    <tr>\n",
       "      <th>97</th>\n",
       "      <td>FLAG_DOCUMENT_3</td>\n",
       "      <td>0.000000</td>\n",
       "    </tr>\n",
       "    <tr>\n",
       "      <th>98</th>\n",
       "      <td>FLAG_DOCUMENT_4</td>\n",
       "      <td>0.000000</td>\n",
       "    </tr>\n",
       "    <tr>\n",
       "      <th>99</th>\n",
       "      <td>FLAG_DOCUMENT_5</td>\n",
       "      <td>0.000000</td>\n",
       "    </tr>\n",
       "    <tr>\n",
       "      <th>100</th>\n",
       "      <td>FLAG_DOCUMENT_6</td>\n",
       "      <td>0.000000</td>\n",
       "    </tr>\n",
       "    <tr>\n",
       "      <th>101</th>\n",
       "      <td>FLAG_DOCUMENT_7</td>\n",
       "      <td>0.000000</td>\n",
       "    </tr>\n",
       "    <tr>\n",
       "      <th>102</th>\n",
       "      <td>FLAG_DOCUMENT_8</td>\n",
       "      <td>0.000000</td>\n",
       "    </tr>\n",
       "    <tr>\n",
       "      <th>103</th>\n",
       "      <td>FLAG_DOCUMENT_9</td>\n",
       "      <td>0.000000</td>\n",
       "    </tr>\n",
       "    <tr>\n",
       "      <th>104</th>\n",
       "      <td>FLAG_DOCUMENT_10</td>\n",
       "      <td>0.000000</td>\n",
       "    </tr>\n",
       "    <tr>\n",
       "      <th>105</th>\n",
       "      <td>FLAG_DOCUMENT_11</td>\n",
       "      <td>0.000000</td>\n",
       "    </tr>\n",
       "    <tr>\n",
       "      <th>106</th>\n",
       "      <td>FLAG_DOCUMENT_12</td>\n",
       "      <td>0.000000</td>\n",
       "    </tr>\n",
       "    <tr>\n",
       "      <th>107</th>\n",
       "      <td>FLAG_DOCUMENT_13</td>\n",
       "      <td>0.000000</td>\n",
       "    </tr>\n",
       "    <tr>\n",
       "      <th>108</th>\n",
       "      <td>FLAG_DOCUMENT_14</td>\n",
       "      <td>0.000000</td>\n",
       "    </tr>\n",
       "    <tr>\n",
       "      <th>109</th>\n",
       "      <td>FLAG_DOCUMENT_15</td>\n",
       "      <td>0.000000</td>\n",
       "    </tr>\n",
       "    <tr>\n",
       "      <th>110</th>\n",
       "      <td>FLAG_DOCUMENT_16</td>\n",
       "      <td>0.000000</td>\n",
       "    </tr>\n",
       "    <tr>\n",
       "      <th>111</th>\n",
       "      <td>FLAG_DOCUMENT_17</td>\n",
       "      <td>0.000000</td>\n",
       "    </tr>\n",
       "    <tr>\n",
       "      <th>112</th>\n",
       "      <td>FLAG_DOCUMENT_18</td>\n",
       "      <td>0.000000</td>\n",
       "    </tr>\n",
       "    <tr>\n",
       "      <th>113</th>\n",
       "      <td>FLAG_DOCUMENT_19</td>\n",
       "      <td>0.000000</td>\n",
       "    </tr>\n",
       "    <tr>\n",
       "      <th>114</th>\n",
       "      <td>FLAG_DOCUMENT_20</td>\n",
       "      <td>0.000000</td>\n",
       "    </tr>\n",
       "    <tr>\n",
       "      <th>115</th>\n",
       "      <td>FLAG_DOCUMENT_21</td>\n",
       "      <td>0.000000</td>\n",
       "    </tr>\n",
       "    <tr>\n",
       "      <th>116</th>\n",
       "      <td>AMT_REQ_CREDIT_BUREAU_HOUR</td>\n",
       "      <td>13.501631</td>\n",
       "    </tr>\n",
       "    <tr>\n",
       "      <th>117</th>\n",
       "      <td>AMT_REQ_CREDIT_BUREAU_DAY</td>\n",
       "      <td>13.501631</td>\n",
       "    </tr>\n",
       "    <tr>\n",
       "      <th>118</th>\n",
       "      <td>AMT_REQ_CREDIT_BUREAU_WEEK</td>\n",
       "      <td>13.501631</td>\n",
       "    </tr>\n",
       "    <tr>\n",
       "      <th>119</th>\n",
       "      <td>AMT_REQ_CREDIT_BUREAU_MON</td>\n",
       "      <td>13.501631</td>\n",
       "    </tr>\n",
       "    <tr>\n",
       "      <th>120</th>\n",
       "      <td>AMT_REQ_CREDIT_BUREAU_QRT</td>\n",
       "      <td>13.501631</td>\n",
       "    </tr>\n",
       "    <tr>\n",
       "      <th>121</th>\n",
       "      <td>AMT_REQ_CREDIT_BUREAU_YEAR</td>\n",
       "      <td>13.501631</td>\n",
       "    </tr>\n",
       "  </tbody>\n",
       "</table>\n",
       "</div>"
      ],
      "text/plain": [
       "                            index  Missing value %\n",
       "0                      SK_ID_CURR         0.000000\n",
       "1                          TARGET         0.000000\n",
       "2              NAME_CONTRACT_TYPE         0.000000\n",
       "3                     CODE_GENDER         0.000000\n",
       "4                    FLAG_OWN_CAR         0.000000\n",
       "5                 FLAG_OWN_REALTY         0.000000\n",
       "6                    CNT_CHILDREN         0.000000\n",
       "7                AMT_INCOME_TOTAL         0.000000\n",
       "8                      AMT_CREDIT         0.000000\n",
       "9                     AMT_ANNUITY         0.003902\n",
       "10                AMT_GOODS_PRICE         0.090403\n",
       "11                NAME_TYPE_SUITE         0.420148\n",
       "12               NAME_INCOME_TYPE         0.000000\n",
       "13            NAME_EDUCATION_TYPE         0.000000\n",
       "14             NAME_FAMILY_STATUS         0.000000\n",
       "15              NAME_HOUSING_TYPE         0.000000\n",
       "16     REGION_POPULATION_RELATIVE         0.000000\n",
       "17                     DAYS_BIRTH         0.000000\n",
       "18                  DAYS_EMPLOYED         0.000000\n",
       "19              DAYS_REGISTRATION         0.000000\n",
       "20                DAYS_ID_PUBLISH         0.000000\n",
       "21                    OWN_CAR_AGE        65.990810\n",
       "22                     FLAG_MOBIL         0.000000\n",
       "23                 FLAG_EMP_PHONE         0.000000\n",
       "24                FLAG_WORK_PHONE         0.000000\n",
       "25               FLAG_CONT_MOBILE         0.000000\n",
       "26                     FLAG_PHONE         0.000000\n",
       "27                     FLAG_EMAIL         0.000000\n",
       "28                OCCUPATION_TYPE        31.345545\n",
       "29                CNT_FAM_MEMBERS         0.000650\n",
       "30           REGION_RATING_CLIENT         0.000000\n",
       "31    REGION_RATING_CLIENT_W_CITY         0.000000\n",
       "32     WEEKDAY_APPR_PROCESS_START         0.000000\n",
       "33        HOUR_APPR_PROCESS_START         0.000000\n",
       "34     REG_REGION_NOT_LIVE_REGION         0.000000\n",
       "35     REG_REGION_NOT_WORK_REGION         0.000000\n",
       "36    LIVE_REGION_NOT_WORK_REGION         0.000000\n",
       "37         REG_CITY_NOT_LIVE_CITY         0.000000\n",
       "38         REG_CITY_NOT_WORK_CITY         0.000000\n",
       "39        LIVE_CITY_NOT_WORK_CITY         0.000000\n",
       "40              ORGANIZATION_TYPE         0.000000\n",
       "41                   EXT_SOURCE_1        56.381073\n",
       "42                   EXT_SOURCE_2         0.214626\n",
       "43                   EXT_SOURCE_3        19.825307\n",
       "44                 APARTMENTS_AVG        50.749729\n",
       "45               BASEMENTAREA_AVG        58.515956\n",
       "46    YEARS_BEGINEXPLUATATION_AVG        48.781019\n",
       "47                YEARS_BUILD_AVG        66.497784\n",
       "48                 COMMONAREA_AVG        69.872297\n",
       "49                  ELEVATORS_AVG        53.295980\n",
       "50                  ENTRANCES_AVG        50.348768\n",
       "51                  FLOORSMAX_AVG        49.760822\n",
       "52                  FLOORSMIN_AVG        67.848630\n",
       "53                   LANDAREA_AVG        59.376738\n",
       "54           LIVINGAPARTMENTS_AVG        68.354953\n",
       "55                 LIVINGAREA_AVG        50.193326\n",
       "56        NONLIVINGAPARTMENTS_AVG        69.432963\n",
       "57              NONLIVINGAREA_AVG        55.179164\n",
       "58                APARTMENTS_MODE        50.749729\n",
       "59              BASEMENTAREA_MODE        58.515956\n",
       "60   YEARS_BEGINEXPLUATATION_MODE        48.781019\n",
       "61               YEARS_BUILD_MODE        66.497784\n",
       "62                COMMONAREA_MODE        69.872297\n",
       "63                 ELEVATORS_MODE        53.295980\n",
       "64                 ENTRANCES_MODE        50.348768\n",
       "65                 FLOORSMAX_MODE        49.760822\n",
       "66                 FLOORSMIN_MODE        67.848630\n",
       "67                  LANDAREA_MODE        59.376738\n",
       "68          LIVINGAPARTMENTS_MODE        68.354953\n",
       "69                LIVINGAREA_MODE        50.193326\n",
       "70       NONLIVINGAPARTMENTS_MODE        69.432963\n",
       "71             NONLIVINGAREA_MODE        55.179164\n",
       "72                APARTMENTS_MEDI        50.749729\n",
       "73              BASEMENTAREA_MEDI        58.515956\n",
       "74   YEARS_BEGINEXPLUATATION_MEDI        48.781019\n",
       "75               YEARS_BUILD_MEDI        66.497784\n",
       "76                COMMONAREA_MEDI        69.872297\n",
       "77                 ELEVATORS_MEDI        53.295980\n",
       "78                 ENTRANCES_MEDI        50.348768\n",
       "79                 FLOORSMAX_MEDI        49.760822\n",
       "80                 FLOORSMIN_MEDI        67.848630\n",
       "81                  LANDAREA_MEDI        59.376738\n",
       "82          LIVINGAPARTMENTS_MEDI        68.354953\n",
       "83                LIVINGAREA_MEDI        50.193326\n",
       "84       NONLIVINGAPARTMENTS_MEDI        69.432963\n",
       "85             NONLIVINGAREA_MEDI        55.179164\n",
       "86             FONDKAPREMONT_MODE        68.386172\n",
       "87                 HOUSETYPE_MODE        50.176091\n",
       "88                 TOTALAREA_MODE        48.268517\n",
       "89             WALLSMATERIAL_MODE        50.840783\n",
       "90            EMERGENCYSTATE_MODE        47.398304\n",
       "91       OBS_30_CNT_SOCIAL_CIRCLE         0.332021\n",
       "92       DEF_30_CNT_SOCIAL_CIRCLE         0.332021\n",
       "93       OBS_60_CNT_SOCIAL_CIRCLE         0.332021\n",
       "94       DEF_60_CNT_SOCIAL_CIRCLE         0.332021\n",
       "95         DAYS_LAST_PHONE_CHANGE         0.000325\n",
       "96                FLAG_DOCUMENT_2         0.000000\n",
       "97                FLAG_DOCUMENT_3         0.000000\n",
       "98                FLAG_DOCUMENT_4         0.000000\n",
       "99                FLAG_DOCUMENT_5         0.000000\n",
       "100               FLAG_DOCUMENT_6         0.000000\n",
       "101               FLAG_DOCUMENT_7         0.000000\n",
       "102               FLAG_DOCUMENT_8         0.000000\n",
       "103               FLAG_DOCUMENT_9         0.000000\n",
       "104              FLAG_DOCUMENT_10         0.000000\n",
       "105              FLAG_DOCUMENT_11         0.000000\n",
       "106              FLAG_DOCUMENT_12         0.000000\n",
       "107              FLAG_DOCUMENT_13         0.000000\n",
       "108              FLAG_DOCUMENT_14         0.000000\n",
       "109              FLAG_DOCUMENT_15         0.000000\n",
       "110              FLAG_DOCUMENT_16         0.000000\n",
       "111              FLAG_DOCUMENT_17         0.000000\n",
       "112              FLAG_DOCUMENT_18         0.000000\n",
       "113              FLAG_DOCUMENT_19         0.000000\n",
       "114              FLAG_DOCUMENT_20         0.000000\n",
       "115              FLAG_DOCUMENT_21         0.000000\n",
       "116    AMT_REQ_CREDIT_BUREAU_HOUR        13.501631\n",
       "117     AMT_REQ_CREDIT_BUREAU_DAY        13.501631\n",
       "118    AMT_REQ_CREDIT_BUREAU_WEEK        13.501631\n",
       "119     AMT_REQ_CREDIT_BUREAU_MON        13.501631\n",
       "120     AMT_REQ_CREDIT_BUREAU_QRT        13.501631\n",
       "121    AMT_REQ_CREDIT_BUREAU_YEAR        13.501631"
      ]
     },
     "execution_count": 9,
     "metadata": {},
     "output_type": "execute_result"
    }
   ],
   "source": [
    "temp=(inp1.isnull().mean()*100).reset_index()\n",
    "temp=temp.rename(columns={0:\"Missing value %\"})\n",
    "temp"
   ]
  },
  {
   "cell_type": "code",
   "execution_count": 10,
   "id": "7e9c1b91",
   "metadata": {},
   "outputs": [],
   "source": [
    "drop_col=list(temp[temp[\"Missing value %\"]>50][\"index\"])"
   ]
  },
  {
   "cell_type": "code",
   "execution_count": 11,
   "id": "06ea6ffa",
   "metadata": {},
   "outputs": [],
   "source": [
    "inp11=inp1.drop(drop_col, axis=1, inplace=True)"
   ]
  },
  {
   "cell_type": "code",
   "execution_count": 12,
   "id": "0a38ca98",
   "metadata": {},
   "outputs": [
    {
     "data": {
      "text/plain": [
       "(307511, 81)"
      ]
     },
     "execution_count": 12,
     "metadata": {},
     "output_type": "execute_result"
    }
   ],
   "source": [
    "inp1.shape"
   ]
  },
  {
   "cell_type": "markdown",
   "id": "19a00853",
   "metadata": {},
   "source": [
    "#### Checking the cloumns are continuous or categorical"
   ]
  },
  {
   "cell_type": "code",
   "execution_count": 13,
   "id": "148cdbd2",
   "metadata": {},
   "outputs": [
    {
     "data": {
      "text/plain": [
       "Index(['SK_ID_CURR', 'TARGET', 'NAME_CONTRACT_TYPE', 'CODE_GENDER',\n",
       "       'FLAG_OWN_CAR', 'FLAG_OWN_REALTY', 'CNT_CHILDREN', 'AMT_INCOME_TOTAL',\n",
       "       'AMT_CREDIT', 'AMT_ANNUITY', 'AMT_GOODS_PRICE', 'NAME_TYPE_SUITE',\n",
       "       'NAME_INCOME_TYPE', 'NAME_EDUCATION_TYPE', 'NAME_FAMILY_STATUS',\n",
       "       'NAME_HOUSING_TYPE', 'REGION_POPULATION_RELATIVE', 'DAYS_BIRTH',\n",
       "       'DAYS_EMPLOYED', 'DAYS_REGISTRATION', 'DAYS_ID_PUBLISH', 'FLAG_MOBIL',\n",
       "       'FLAG_EMP_PHONE', 'FLAG_WORK_PHONE', 'FLAG_CONT_MOBILE', 'FLAG_PHONE',\n",
       "       'FLAG_EMAIL', 'OCCUPATION_TYPE', 'CNT_FAM_MEMBERS',\n",
       "       'REGION_RATING_CLIENT', 'REGION_RATING_CLIENT_W_CITY',\n",
       "       'WEEKDAY_APPR_PROCESS_START', 'HOUR_APPR_PROCESS_START',\n",
       "       'REG_REGION_NOT_LIVE_REGION', 'REG_REGION_NOT_WORK_REGION',\n",
       "       'LIVE_REGION_NOT_WORK_REGION', 'REG_CITY_NOT_LIVE_CITY',\n",
       "       'REG_CITY_NOT_WORK_CITY', 'LIVE_CITY_NOT_WORK_CITY',\n",
       "       'ORGANIZATION_TYPE', 'EXT_SOURCE_2', 'EXT_SOURCE_3',\n",
       "       'YEARS_BEGINEXPLUATATION_AVG', 'FLOORSMAX_AVG',\n",
       "       'YEARS_BEGINEXPLUATATION_MODE', 'FLOORSMAX_MODE',\n",
       "       'YEARS_BEGINEXPLUATATION_MEDI', 'FLOORSMAX_MEDI', 'TOTALAREA_MODE',\n",
       "       'EMERGENCYSTATE_MODE', 'OBS_30_CNT_SOCIAL_CIRCLE',\n",
       "       'DEF_30_CNT_SOCIAL_CIRCLE', 'OBS_60_CNT_SOCIAL_CIRCLE',\n",
       "       'DEF_60_CNT_SOCIAL_CIRCLE', 'DAYS_LAST_PHONE_CHANGE', 'FLAG_DOCUMENT_2',\n",
       "       'FLAG_DOCUMENT_3', 'FLAG_DOCUMENT_4', 'FLAG_DOCUMENT_5',\n",
       "       'FLAG_DOCUMENT_6', 'FLAG_DOCUMENT_7', 'FLAG_DOCUMENT_8',\n",
       "       'FLAG_DOCUMENT_9', 'FLAG_DOCUMENT_10', 'FLAG_DOCUMENT_11',\n",
       "       'FLAG_DOCUMENT_12', 'FLAG_DOCUMENT_13', 'FLAG_DOCUMENT_14',\n",
       "       'FLAG_DOCUMENT_15', 'FLAG_DOCUMENT_16', 'FLAG_DOCUMENT_17',\n",
       "       'FLAG_DOCUMENT_18', 'FLAG_DOCUMENT_19', 'FLAG_DOCUMENT_20',\n",
       "       'FLAG_DOCUMENT_21', 'AMT_REQ_CREDIT_BUREAU_HOUR',\n",
       "       'AMT_REQ_CREDIT_BUREAU_DAY', 'AMT_REQ_CREDIT_BUREAU_WEEK',\n",
       "       'AMT_REQ_CREDIT_BUREAU_MON', 'AMT_REQ_CREDIT_BUREAU_QRT',\n",
       "       'AMT_REQ_CREDIT_BUREAU_YEAR'],\n",
       "      dtype='object')"
      ]
     },
     "execution_count": 13,
     "metadata": {},
     "output_type": "execute_result"
    }
   ],
   "source": [
    "inp1.columns"
   ]
  },
  {
   "cell_type": "code",
   "execution_count": 14,
   "id": "05bd0dd8",
   "metadata": {},
   "outputs": [
    {
     "data": {
      "text/plain": [
       "2"
      ]
     },
     "execution_count": 14,
     "metadata": {},
     "output_type": "execute_result"
    }
   ],
   "source": [
    "inp1.FLAG_OWN_REALTY.nunique()"
   ]
  },
  {
   "cell_type": "code",
   "execution_count": 15,
   "id": "d6b75179",
   "metadata": {},
   "outputs": [],
   "source": [
    "cont_columns=[\"AMT_INCOME_TOTAL\",\"AMT_CREDIT\",\"AMT_ANNUITY\",\"AMT_GOODS_PRICE\",\"REGION_POPULATION_RELATIVE\",\"DAYS_BIRTH\",\"DAYS_EMPLOYED\",\"DAYS_REGISTRATION\",\"DAYS_ID_PUBLISH\",\"EXT_SOURCE_2\",\"EXT_SOURCE_3\",\"FLOORSMAX_MODE\",\"YEARS_BEGINEXPLUATATION_MODE\",\"YEARS_BEGINEXPLUATATION_MEDI\",\"FLOORSMAX_MEDI\",\"FLOORSMAX_AVG\",\"YEARS_BEGINEXPLUATATION_AVG\",\"TOTALAREA_MODE\",\"DAYS_LAST_PHONE_CHANGE\"]\n",
    "categ_columns=[\"TARGET\",\"NAME_CONTRACT_TYPE\",\"CODE_GENDER\",\"FLAG_OWN_CAR\",\"FLAG_OWN_REALTY\",\"CNT_CHILDREN\",\"NAME_TYPE_SUITE\", \"NAME_INCOME_TYPE\",\"NAME_EDUCATION_TYPE\",\"NAME_FAMILY_STATUS\",\"NAME_HOUSING_TYPE\",\"FLAG_MOBIL\",\"FLAG_EMP_PHONE\",\"FLAG_WORK_PHONE\",\"FLAG_CONT_MOBILE\",\"FLAG_PHONE\",\"FLAG_EMAIL\",\"OCCUPATION_TYPE\",\"CNT_FAM_MEMBERS\",\"REGION_RATING_CLIENT\",\"REGION_RATING_CLIENT_W_CITY\",\"WEEKDAY_APPR_PROCESS_START\",\"HOUR_APPR_PROCESS_START\",\"REG_REGION_NOT_LIVE_REGION\",\"REG_REGION_NOT_WORK_REGION\",\"LIVE_REGION_NOT_WORK_REGION\",\"REG_CITY_NOT_LIVE_CITY\",\"REG_CITY_NOT_WORK_CITY\",\"LIVE_CITY_NOT_WORK_CITY\",\"ORGANIZATION_TYPE\",\"EMERGENCYSTATE_MODE\",\"DEF_30_CNT_SOCIAL_CIRCLE\",\"OBS_30_CNT_SOCIAL_CIRCLE\",\"OBS_60_CNT_SOCIAL_CIRCLE\",\"DEF_60_CNT_SOCIAL_CIRCLE\",\"FLAG_DOCUMENT_2\",\"FLAG_DOCUMENT_3\",\"FLAG_DOCUMENT_4\",\"FLAG_DOCUMENT_5\",\"FLAG_DOCUMENT_6\",\"FLAG_DOCUMENT_7\",\"FLAG_DOCUMENT_8\",\"FLAG_DOCUMENT_9\",\"FLAG_DOCUMENT_10\",\"FLAG_DOCUMENT_11\",\"FLAG_DOCUMENT_12\",\"FLAG_DOCUMENT_13\",\"FLAG_DOCUMENT_14\",\"FLAG_DOCUMENT_15\",\"FLAG_DOCUMENT_16\",\"FLAG_DOCUMENT_17\",\"FLAG_DOCUMENT_18\",\"FLAG_DOCUMENT_19\",\"FLAG_DOCUMENT_20\",\"FLAG_DOCUMENT_21\",\"AMT_REQ_CREDIT_BUREAU_HOUR\",\"AMT_REQ_CREDIT_BUREAU_DAY\",\"AMT_REQ_CREDIT_BUREAU_WEEK\",\"AMT_REQ_CREDIT_BUREAU_MON\",\"AMT_REQ_CREDIT_BUREAU_QRT\",\"AMT_REQ_CREDIT_BUREAU_YEAR\"]"
   ]
  },
  {
   "cell_type": "code",
   "execution_count": 16,
   "id": "3974e80a",
   "metadata": {},
   "outputs": [
    {
     "data": {
      "text/plain": [
       "80"
      ]
     },
     "execution_count": 16,
     "metadata": {},
     "output_type": "execute_result"
    }
   ],
   "source": [
    "len(cont_columns)+len(categ_columns)"
   ]
  },
  {
   "cell_type": "code",
   "execution_count": 17,
   "id": "769f7b64",
   "metadata": {},
   "outputs": [
    {
     "data": {
      "text/html": [
       "<div>\n",
       "<style scoped>\n",
       "    .dataframe tbody tr th:only-of-type {\n",
       "        vertical-align: middle;\n",
       "    }\n",
       "\n",
       "    .dataframe tbody tr th {\n",
       "        vertical-align: top;\n",
       "    }\n",
       "\n",
       "    .dataframe thead th {\n",
       "        text-align: right;\n",
       "    }\n",
       "</style>\n",
       "<table border=\"1\" class=\"dataframe\">\n",
       "  <thead>\n",
       "    <tr style=\"text-align: right;\">\n",
       "      <th></th>\n",
       "      <th>index</th>\n",
       "      <th>Missing value %</th>\n",
       "    </tr>\n",
       "  </thead>\n",
       "  <tbody>\n",
       "    <tr>\n",
       "      <th>0</th>\n",
       "      <td>SK_ID_CURR</td>\n",
       "      <td>0.000000</td>\n",
       "    </tr>\n",
       "    <tr>\n",
       "      <th>1</th>\n",
       "      <td>TARGET</td>\n",
       "      <td>0.000000</td>\n",
       "    </tr>\n",
       "    <tr>\n",
       "      <th>2</th>\n",
       "      <td>NAME_CONTRACT_TYPE</td>\n",
       "      <td>0.000000</td>\n",
       "    </tr>\n",
       "    <tr>\n",
       "      <th>3</th>\n",
       "      <td>CODE_GENDER</td>\n",
       "      <td>0.000000</td>\n",
       "    </tr>\n",
       "    <tr>\n",
       "      <th>4</th>\n",
       "      <td>FLAG_OWN_CAR</td>\n",
       "      <td>0.000000</td>\n",
       "    </tr>\n",
       "    <tr>\n",
       "      <th>5</th>\n",
       "      <td>FLAG_OWN_REALTY</td>\n",
       "      <td>0.000000</td>\n",
       "    </tr>\n",
       "    <tr>\n",
       "      <th>6</th>\n",
       "      <td>CNT_CHILDREN</td>\n",
       "      <td>0.000000</td>\n",
       "    </tr>\n",
       "    <tr>\n",
       "      <th>7</th>\n",
       "      <td>AMT_INCOME_TOTAL</td>\n",
       "      <td>0.000000</td>\n",
       "    </tr>\n",
       "    <tr>\n",
       "      <th>8</th>\n",
       "      <td>AMT_CREDIT</td>\n",
       "      <td>0.000000</td>\n",
       "    </tr>\n",
       "    <tr>\n",
       "      <th>9</th>\n",
       "      <td>AMT_ANNUITY</td>\n",
       "      <td>0.003902</td>\n",
       "    </tr>\n",
       "    <tr>\n",
       "      <th>10</th>\n",
       "      <td>AMT_GOODS_PRICE</td>\n",
       "      <td>0.090403</td>\n",
       "    </tr>\n",
       "    <tr>\n",
       "      <th>11</th>\n",
       "      <td>NAME_TYPE_SUITE</td>\n",
       "      <td>0.420148</td>\n",
       "    </tr>\n",
       "    <tr>\n",
       "      <th>12</th>\n",
       "      <td>NAME_INCOME_TYPE</td>\n",
       "      <td>0.000000</td>\n",
       "    </tr>\n",
       "    <tr>\n",
       "      <th>13</th>\n",
       "      <td>NAME_EDUCATION_TYPE</td>\n",
       "      <td>0.000000</td>\n",
       "    </tr>\n",
       "    <tr>\n",
       "      <th>14</th>\n",
       "      <td>NAME_FAMILY_STATUS</td>\n",
       "      <td>0.000000</td>\n",
       "    </tr>\n",
       "    <tr>\n",
       "      <th>15</th>\n",
       "      <td>NAME_HOUSING_TYPE</td>\n",
       "      <td>0.000000</td>\n",
       "    </tr>\n",
       "    <tr>\n",
       "      <th>16</th>\n",
       "      <td>REGION_POPULATION_RELATIVE</td>\n",
       "      <td>0.000000</td>\n",
       "    </tr>\n",
       "    <tr>\n",
       "      <th>17</th>\n",
       "      <td>DAYS_BIRTH</td>\n",
       "      <td>0.000000</td>\n",
       "    </tr>\n",
       "    <tr>\n",
       "      <th>18</th>\n",
       "      <td>DAYS_EMPLOYED</td>\n",
       "      <td>0.000000</td>\n",
       "    </tr>\n",
       "    <tr>\n",
       "      <th>19</th>\n",
       "      <td>DAYS_REGISTRATION</td>\n",
       "      <td>0.000000</td>\n",
       "    </tr>\n",
       "    <tr>\n",
       "      <th>20</th>\n",
       "      <td>DAYS_ID_PUBLISH</td>\n",
       "      <td>0.000000</td>\n",
       "    </tr>\n",
       "    <tr>\n",
       "      <th>21</th>\n",
       "      <td>FLAG_MOBIL</td>\n",
       "      <td>0.000000</td>\n",
       "    </tr>\n",
       "    <tr>\n",
       "      <th>22</th>\n",
       "      <td>FLAG_EMP_PHONE</td>\n",
       "      <td>0.000000</td>\n",
       "    </tr>\n",
       "    <tr>\n",
       "      <th>23</th>\n",
       "      <td>FLAG_WORK_PHONE</td>\n",
       "      <td>0.000000</td>\n",
       "    </tr>\n",
       "    <tr>\n",
       "      <th>24</th>\n",
       "      <td>FLAG_CONT_MOBILE</td>\n",
       "      <td>0.000000</td>\n",
       "    </tr>\n",
       "    <tr>\n",
       "      <th>25</th>\n",
       "      <td>FLAG_PHONE</td>\n",
       "      <td>0.000000</td>\n",
       "    </tr>\n",
       "    <tr>\n",
       "      <th>26</th>\n",
       "      <td>FLAG_EMAIL</td>\n",
       "      <td>0.000000</td>\n",
       "    </tr>\n",
       "    <tr>\n",
       "      <th>27</th>\n",
       "      <td>OCCUPATION_TYPE</td>\n",
       "      <td>31.345545</td>\n",
       "    </tr>\n",
       "    <tr>\n",
       "      <th>28</th>\n",
       "      <td>CNT_FAM_MEMBERS</td>\n",
       "      <td>0.000650</td>\n",
       "    </tr>\n",
       "    <tr>\n",
       "      <th>29</th>\n",
       "      <td>REGION_RATING_CLIENT</td>\n",
       "      <td>0.000000</td>\n",
       "    </tr>\n",
       "    <tr>\n",
       "      <th>30</th>\n",
       "      <td>REGION_RATING_CLIENT_W_CITY</td>\n",
       "      <td>0.000000</td>\n",
       "    </tr>\n",
       "    <tr>\n",
       "      <th>31</th>\n",
       "      <td>WEEKDAY_APPR_PROCESS_START</td>\n",
       "      <td>0.000000</td>\n",
       "    </tr>\n",
       "    <tr>\n",
       "      <th>32</th>\n",
       "      <td>HOUR_APPR_PROCESS_START</td>\n",
       "      <td>0.000000</td>\n",
       "    </tr>\n",
       "    <tr>\n",
       "      <th>33</th>\n",
       "      <td>REG_REGION_NOT_LIVE_REGION</td>\n",
       "      <td>0.000000</td>\n",
       "    </tr>\n",
       "    <tr>\n",
       "      <th>34</th>\n",
       "      <td>REG_REGION_NOT_WORK_REGION</td>\n",
       "      <td>0.000000</td>\n",
       "    </tr>\n",
       "    <tr>\n",
       "      <th>35</th>\n",
       "      <td>LIVE_REGION_NOT_WORK_REGION</td>\n",
       "      <td>0.000000</td>\n",
       "    </tr>\n",
       "    <tr>\n",
       "      <th>36</th>\n",
       "      <td>REG_CITY_NOT_LIVE_CITY</td>\n",
       "      <td>0.000000</td>\n",
       "    </tr>\n",
       "    <tr>\n",
       "      <th>37</th>\n",
       "      <td>REG_CITY_NOT_WORK_CITY</td>\n",
       "      <td>0.000000</td>\n",
       "    </tr>\n",
       "    <tr>\n",
       "      <th>38</th>\n",
       "      <td>LIVE_CITY_NOT_WORK_CITY</td>\n",
       "      <td>0.000000</td>\n",
       "    </tr>\n",
       "    <tr>\n",
       "      <th>39</th>\n",
       "      <td>ORGANIZATION_TYPE</td>\n",
       "      <td>0.000000</td>\n",
       "    </tr>\n",
       "    <tr>\n",
       "      <th>40</th>\n",
       "      <td>EXT_SOURCE_2</td>\n",
       "      <td>0.214626</td>\n",
       "    </tr>\n",
       "    <tr>\n",
       "      <th>41</th>\n",
       "      <td>EXT_SOURCE_3</td>\n",
       "      <td>19.825307</td>\n",
       "    </tr>\n",
       "    <tr>\n",
       "      <th>42</th>\n",
       "      <td>YEARS_BEGINEXPLUATATION_AVG</td>\n",
       "      <td>48.781019</td>\n",
       "    </tr>\n",
       "    <tr>\n",
       "      <th>43</th>\n",
       "      <td>FLOORSMAX_AVG</td>\n",
       "      <td>49.760822</td>\n",
       "    </tr>\n",
       "    <tr>\n",
       "      <th>44</th>\n",
       "      <td>YEARS_BEGINEXPLUATATION_MODE</td>\n",
       "      <td>48.781019</td>\n",
       "    </tr>\n",
       "    <tr>\n",
       "      <th>45</th>\n",
       "      <td>FLOORSMAX_MODE</td>\n",
       "      <td>49.760822</td>\n",
       "    </tr>\n",
       "    <tr>\n",
       "      <th>46</th>\n",
       "      <td>YEARS_BEGINEXPLUATATION_MEDI</td>\n",
       "      <td>48.781019</td>\n",
       "    </tr>\n",
       "    <tr>\n",
       "      <th>47</th>\n",
       "      <td>FLOORSMAX_MEDI</td>\n",
       "      <td>49.760822</td>\n",
       "    </tr>\n",
       "    <tr>\n",
       "      <th>48</th>\n",
       "      <td>TOTALAREA_MODE</td>\n",
       "      <td>48.268517</td>\n",
       "    </tr>\n",
       "    <tr>\n",
       "      <th>49</th>\n",
       "      <td>EMERGENCYSTATE_MODE</td>\n",
       "      <td>47.398304</td>\n",
       "    </tr>\n",
       "    <tr>\n",
       "      <th>50</th>\n",
       "      <td>OBS_30_CNT_SOCIAL_CIRCLE</td>\n",
       "      <td>0.332021</td>\n",
       "    </tr>\n",
       "    <tr>\n",
       "      <th>51</th>\n",
       "      <td>DEF_30_CNT_SOCIAL_CIRCLE</td>\n",
       "      <td>0.332021</td>\n",
       "    </tr>\n",
       "    <tr>\n",
       "      <th>52</th>\n",
       "      <td>OBS_60_CNT_SOCIAL_CIRCLE</td>\n",
       "      <td>0.332021</td>\n",
       "    </tr>\n",
       "    <tr>\n",
       "      <th>53</th>\n",
       "      <td>DEF_60_CNT_SOCIAL_CIRCLE</td>\n",
       "      <td>0.332021</td>\n",
       "    </tr>\n",
       "    <tr>\n",
       "      <th>54</th>\n",
       "      <td>DAYS_LAST_PHONE_CHANGE</td>\n",
       "      <td>0.000325</td>\n",
       "    </tr>\n",
       "    <tr>\n",
       "      <th>55</th>\n",
       "      <td>FLAG_DOCUMENT_2</td>\n",
       "      <td>0.000000</td>\n",
       "    </tr>\n",
       "    <tr>\n",
       "      <th>56</th>\n",
       "      <td>FLAG_DOCUMENT_3</td>\n",
       "      <td>0.000000</td>\n",
       "    </tr>\n",
       "    <tr>\n",
       "      <th>57</th>\n",
       "      <td>FLAG_DOCUMENT_4</td>\n",
       "      <td>0.000000</td>\n",
       "    </tr>\n",
       "    <tr>\n",
       "      <th>58</th>\n",
       "      <td>FLAG_DOCUMENT_5</td>\n",
       "      <td>0.000000</td>\n",
       "    </tr>\n",
       "    <tr>\n",
       "      <th>59</th>\n",
       "      <td>FLAG_DOCUMENT_6</td>\n",
       "      <td>0.000000</td>\n",
       "    </tr>\n",
       "    <tr>\n",
       "      <th>60</th>\n",
       "      <td>FLAG_DOCUMENT_7</td>\n",
       "      <td>0.000000</td>\n",
       "    </tr>\n",
       "    <tr>\n",
       "      <th>61</th>\n",
       "      <td>FLAG_DOCUMENT_8</td>\n",
       "      <td>0.000000</td>\n",
       "    </tr>\n",
       "    <tr>\n",
       "      <th>62</th>\n",
       "      <td>FLAG_DOCUMENT_9</td>\n",
       "      <td>0.000000</td>\n",
       "    </tr>\n",
       "    <tr>\n",
       "      <th>63</th>\n",
       "      <td>FLAG_DOCUMENT_10</td>\n",
       "      <td>0.000000</td>\n",
       "    </tr>\n",
       "    <tr>\n",
       "      <th>64</th>\n",
       "      <td>FLAG_DOCUMENT_11</td>\n",
       "      <td>0.000000</td>\n",
       "    </tr>\n",
       "    <tr>\n",
       "      <th>65</th>\n",
       "      <td>FLAG_DOCUMENT_12</td>\n",
       "      <td>0.000000</td>\n",
       "    </tr>\n",
       "    <tr>\n",
       "      <th>66</th>\n",
       "      <td>FLAG_DOCUMENT_13</td>\n",
       "      <td>0.000000</td>\n",
       "    </tr>\n",
       "    <tr>\n",
       "      <th>67</th>\n",
       "      <td>FLAG_DOCUMENT_14</td>\n",
       "      <td>0.000000</td>\n",
       "    </tr>\n",
       "    <tr>\n",
       "      <th>68</th>\n",
       "      <td>FLAG_DOCUMENT_15</td>\n",
       "      <td>0.000000</td>\n",
       "    </tr>\n",
       "    <tr>\n",
       "      <th>69</th>\n",
       "      <td>FLAG_DOCUMENT_16</td>\n",
       "      <td>0.000000</td>\n",
       "    </tr>\n",
       "    <tr>\n",
       "      <th>70</th>\n",
       "      <td>FLAG_DOCUMENT_17</td>\n",
       "      <td>0.000000</td>\n",
       "    </tr>\n",
       "    <tr>\n",
       "      <th>71</th>\n",
       "      <td>FLAG_DOCUMENT_18</td>\n",
       "      <td>0.000000</td>\n",
       "    </tr>\n",
       "    <tr>\n",
       "      <th>72</th>\n",
       "      <td>FLAG_DOCUMENT_19</td>\n",
       "      <td>0.000000</td>\n",
       "    </tr>\n",
       "    <tr>\n",
       "      <th>73</th>\n",
       "      <td>FLAG_DOCUMENT_20</td>\n",
       "      <td>0.000000</td>\n",
       "    </tr>\n",
       "    <tr>\n",
       "      <th>74</th>\n",
       "      <td>FLAG_DOCUMENT_21</td>\n",
       "      <td>0.000000</td>\n",
       "    </tr>\n",
       "    <tr>\n",
       "      <th>75</th>\n",
       "      <td>AMT_REQ_CREDIT_BUREAU_HOUR</td>\n",
       "      <td>13.501631</td>\n",
       "    </tr>\n",
       "    <tr>\n",
       "      <th>76</th>\n",
       "      <td>AMT_REQ_CREDIT_BUREAU_DAY</td>\n",
       "      <td>13.501631</td>\n",
       "    </tr>\n",
       "    <tr>\n",
       "      <th>77</th>\n",
       "      <td>AMT_REQ_CREDIT_BUREAU_WEEK</td>\n",
       "      <td>13.501631</td>\n",
       "    </tr>\n",
       "    <tr>\n",
       "      <th>78</th>\n",
       "      <td>AMT_REQ_CREDIT_BUREAU_MON</td>\n",
       "      <td>13.501631</td>\n",
       "    </tr>\n",
       "    <tr>\n",
       "      <th>79</th>\n",
       "      <td>AMT_REQ_CREDIT_BUREAU_QRT</td>\n",
       "      <td>13.501631</td>\n",
       "    </tr>\n",
       "    <tr>\n",
       "      <th>80</th>\n",
       "      <td>AMT_REQ_CREDIT_BUREAU_YEAR</td>\n",
       "      <td>13.501631</td>\n",
       "    </tr>\n",
       "  </tbody>\n",
       "</table>\n",
       "</div>"
      ],
      "text/plain": [
       "                           index  Missing value %\n",
       "0                     SK_ID_CURR         0.000000\n",
       "1                         TARGET         0.000000\n",
       "2             NAME_CONTRACT_TYPE         0.000000\n",
       "3                    CODE_GENDER         0.000000\n",
       "4                   FLAG_OWN_CAR         0.000000\n",
       "5                FLAG_OWN_REALTY         0.000000\n",
       "6                   CNT_CHILDREN         0.000000\n",
       "7               AMT_INCOME_TOTAL         0.000000\n",
       "8                     AMT_CREDIT         0.000000\n",
       "9                    AMT_ANNUITY         0.003902\n",
       "10               AMT_GOODS_PRICE         0.090403\n",
       "11               NAME_TYPE_SUITE         0.420148\n",
       "12              NAME_INCOME_TYPE         0.000000\n",
       "13           NAME_EDUCATION_TYPE         0.000000\n",
       "14            NAME_FAMILY_STATUS         0.000000\n",
       "15             NAME_HOUSING_TYPE         0.000000\n",
       "16    REGION_POPULATION_RELATIVE         0.000000\n",
       "17                    DAYS_BIRTH         0.000000\n",
       "18                 DAYS_EMPLOYED         0.000000\n",
       "19             DAYS_REGISTRATION         0.000000\n",
       "20               DAYS_ID_PUBLISH         0.000000\n",
       "21                    FLAG_MOBIL         0.000000\n",
       "22                FLAG_EMP_PHONE         0.000000\n",
       "23               FLAG_WORK_PHONE         0.000000\n",
       "24              FLAG_CONT_MOBILE         0.000000\n",
       "25                    FLAG_PHONE         0.000000\n",
       "26                    FLAG_EMAIL         0.000000\n",
       "27               OCCUPATION_TYPE        31.345545\n",
       "28               CNT_FAM_MEMBERS         0.000650\n",
       "29          REGION_RATING_CLIENT         0.000000\n",
       "30   REGION_RATING_CLIENT_W_CITY         0.000000\n",
       "31    WEEKDAY_APPR_PROCESS_START         0.000000\n",
       "32       HOUR_APPR_PROCESS_START         0.000000\n",
       "33    REG_REGION_NOT_LIVE_REGION         0.000000\n",
       "34    REG_REGION_NOT_WORK_REGION         0.000000\n",
       "35   LIVE_REGION_NOT_WORK_REGION         0.000000\n",
       "36        REG_CITY_NOT_LIVE_CITY         0.000000\n",
       "37        REG_CITY_NOT_WORK_CITY         0.000000\n",
       "38       LIVE_CITY_NOT_WORK_CITY         0.000000\n",
       "39             ORGANIZATION_TYPE         0.000000\n",
       "40                  EXT_SOURCE_2         0.214626\n",
       "41                  EXT_SOURCE_3        19.825307\n",
       "42   YEARS_BEGINEXPLUATATION_AVG        48.781019\n",
       "43                 FLOORSMAX_AVG        49.760822\n",
       "44  YEARS_BEGINEXPLUATATION_MODE        48.781019\n",
       "45                FLOORSMAX_MODE        49.760822\n",
       "46  YEARS_BEGINEXPLUATATION_MEDI        48.781019\n",
       "47                FLOORSMAX_MEDI        49.760822\n",
       "48                TOTALAREA_MODE        48.268517\n",
       "49           EMERGENCYSTATE_MODE        47.398304\n",
       "50      OBS_30_CNT_SOCIAL_CIRCLE         0.332021\n",
       "51      DEF_30_CNT_SOCIAL_CIRCLE         0.332021\n",
       "52      OBS_60_CNT_SOCIAL_CIRCLE         0.332021\n",
       "53      DEF_60_CNT_SOCIAL_CIRCLE         0.332021\n",
       "54        DAYS_LAST_PHONE_CHANGE         0.000325\n",
       "55               FLAG_DOCUMENT_2         0.000000\n",
       "56               FLAG_DOCUMENT_3         0.000000\n",
       "57               FLAG_DOCUMENT_4         0.000000\n",
       "58               FLAG_DOCUMENT_5         0.000000\n",
       "59               FLAG_DOCUMENT_6         0.000000\n",
       "60               FLAG_DOCUMENT_7         0.000000\n",
       "61               FLAG_DOCUMENT_8         0.000000\n",
       "62               FLAG_DOCUMENT_9         0.000000\n",
       "63              FLAG_DOCUMENT_10         0.000000\n",
       "64              FLAG_DOCUMENT_11         0.000000\n",
       "65              FLAG_DOCUMENT_12         0.000000\n",
       "66              FLAG_DOCUMENT_13         0.000000\n",
       "67              FLAG_DOCUMENT_14         0.000000\n",
       "68              FLAG_DOCUMENT_15         0.000000\n",
       "69              FLAG_DOCUMENT_16         0.000000\n",
       "70              FLAG_DOCUMENT_17         0.000000\n",
       "71              FLAG_DOCUMENT_18         0.000000\n",
       "72              FLAG_DOCUMENT_19         0.000000\n",
       "73              FLAG_DOCUMENT_20         0.000000\n",
       "74              FLAG_DOCUMENT_21         0.000000\n",
       "75    AMT_REQ_CREDIT_BUREAU_HOUR        13.501631\n",
       "76     AMT_REQ_CREDIT_BUREAU_DAY        13.501631\n",
       "77    AMT_REQ_CREDIT_BUREAU_WEEK        13.501631\n",
       "78     AMT_REQ_CREDIT_BUREAU_MON        13.501631\n",
       "79     AMT_REQ_CREDIT_BUREAU_QRT        13.501631\n",
       "80    AMT_REQ_CREDIT_BUREAU_YEAR        13.501631"
      ]
     },
     "execution_count": 17,
     "metadata": {},
     "output_type": "execute_result"
    }
   ],
   "source": [
    "temp=(inp1.isnull().mean()*100).reset_index()\n",
    "temp=temp.rename(columns={0:\"Missing value %\"})\n",
    "temp"
   ]
  },
  {
   "cell_type": "code",
   "execution_count": 18,
   "id": "a4cc401c",
   "metadata": {},
   "outputs": [],
   "source": [
    "impute_col=list(temp[temp[\"Missing value %\"]>0][\"index\"])"
   ]
  },
  {
   "cell_type": "code",
   "execution_count": 19,
   "id": "51198798",
   "metadata": {},
   "outputs": [],
   "source": [
    "for i in categ_columns:\n",
    "    mode_=inp1[i].mode()[0]\n",
    "    inp1[i]=inp1[i].fillna(mode_)"
   ]
  },
  {
   "cell_type": "code",
   "execution_count": 20,
   "id": "b8495d10",
   "metadata": {},
   "outputs": [],
   "source": [
    "for i in cont_columns:\n",
    "    median_=inp1[i].median()\n",
    "    inp1[i]=inp1[i].fillna(median_)"
   ]
  },
  {
   "cell_type": "code",
   "execution_count": 21,
   "id": "9ce5fe8f",
   "metadata": {},
   "outputs": [
    {
     "data": {
      "text/plain": [
       "SK_ID_CURR                      0\n",
       "TARGET                          0\n",
       "NAME_CONTRACT_TYPE              0\n",
       "CODE_GENDER                     0\n",
       "FLAG_OWN_CAR                    0\n",
       "FLAG_OWN_REALTY                 0\n",
       "CNT_CHILDREN                    0\n",
       "AMT_INCOME_TOTAL                0\n",
       "AMT_CREDIT                      0\n",
       "AMT_ANNUITY                     0\n",
       "AMT_GOODS_PRICE                 0\n",
       "NAME_TYPE_SUITE                 0\n",
       "NAME_INCOME_TYPE                0\n",
       "NAME_EDUCATION_TYPE             0\n",
       "NAME_FAMILY_STATUS              0\n",
       "NAME_HOUSING_TYPE               0\n",
       "REGION_POPULATION_RELATIVE      0\n",
       "DAYS_BIRTH                      0\n",
       "DAYS_EMPLOYED                   0\n",
       "DAYS_REGISTRATION               0\n",
       "DAYS_ID_PUBLISH                 0\n",
       "FLAG_MOBIL                      0\n",
       "FLAG_EMP_PHONE                  0\n",
       "FLAG_WORK_PHONE                 0\n",
       "FLAG_CONT_MOBILE                0\n",
       "FLAG_PHONE                      0\n",
       "FLAG_EMAIL                      0\n",
       "OCCUPATION_TYPE                 0\n",
       "CNT_FAM_MEMBERS                 0\n",
       "REGION_RATING_CLIENT            0\n",
       "REGION_RATING_CLIENT_W_CITY     0\n",
       "WEEKDAY_APPR_PROCESS_START      0\n",
       "HOUR_APPR_PROCESS_START         0\n",
       "REG_REGION_NOT_LIVE_REGION      0\n",
       "REG_REGION_NOT_WORK_REGION      0\n",
       "LIVE_REGION_NOT_WORK_REGION     0\n",
       "REG_CITY_NOT_LIVE_CITY          0\n",
       "REG_CITY_NOT_WORK_CITY          0\n",
       "LIVE_CITY_NOT_WORK_CITY         0\n",
       "ORGANIZATION_TYPE               0\n",
       "EXT_SOURCE_2                    0\n",
       "EXT_SOURCE_3                    0\n",
       "YEARS_BEGINEXPLUATATION_AVG     0\n",
       "FLOORSMAX_AVG                   0\n",
       "YEARS_BEGINEXPLUATATION_MODE    0\n",
       "FLOORSMAX_MODE                  0\n",
       "YEARS_BEGINEXPLUATATION_MEDI    0\n",
       "FLOORSMAX_MEDI                  0\n",
       "TOTALAREA_MODE                  0\n",
       "EMERGENCYSTATE_MODE             0\n",
       "OBS_30_CNT_SOCIAL_CIRCLE        0\n",
       "DEF_30_CNT_SOCIAL_CIRCLE        0\n",
       "OBS_60_CNT_SOCIAL_CIRCLE        0\n",
       "DEF_60_CNT_SOCIAL_CIRCLE        0\n",
       "DAYS_LAST_PHONE_CHANGE          0\n",
       "FLAG_DOCUMENT_2                 0\n",
       "FLAG_DOCUMENT_3                 0\n",
       "FLAG_DOCUMENT_4                 0\n",
       "FLAG_DOCUMENT_5                 0\n",
       "FLAG_DOCUMENT_6                 0\n",
       "FLAG_DOCUMENT_7                 0\n",
       "FLAG_DOCUMENT_8                 0\n",
       "FLAG_DOCUMENT_9                 0\n",
       "FLAG_DOCUMENT_10                0\n",
       "FLAG_DOCUMENT_11                0\n",
       "FLAG_DOCUMENT_12                0\n",
       "FLAG_DOCUMENT_13                0\n",
       "FLAG_DOCUMENT_14                0\n",
       "FLAG_DOCUMENT_15                0\n",
       "FLAG_DOCUMENT_16                0\n",
       "FLAG_DOCUMENT_17                0\n",
       "FLAG_DOCUMENT_18                0\n",
       "FLAG_DOCUMENT_19                0\n",
       "FLAG_DOCUMENT_20                0\n",
       "FLAG_DOCUMENT_21                0\n",
       "AMT_REQ_CREDIT_BUREAU_HOUR      0\n",
       "AMT_REQ_CREDIT_BUREAU_DAY       0\n",
       "AMT_REQ_CREDIT_BUREAU_WEEK      0\n",
       "AMT_REQ_CREDIT_BUREAU_MON       0\n",
       "AMT_REQ_CREDIT_BUREAU_QRT       0\n",
       "AMT_REQ_CREDIT_BUREAU_YEAR      0\n",
       "dtype: int64"
      ]
     },
     "execution_count": 21,
     "metadata": {},
     "output_type": "execute_result"
    }
   ],
   "source": [
    "inp1.isnull().sum()"
   ]
  },
  {
   "cell_type": "markdown",
   "id": "33bcc53c",
   "metadata": {},
   "source": [
    "Now null values are cleared.\n",
    "\n",
    "Also checked the data type... no need of any changes"
   ]
  },
  {
   "cell_type": "code",
   "execution_count": 22,
   "id": "c927df1c",
   "metadata": {},
   "outputs": [
    {
     "data": {
      "text/plain": [
       "0    282686\n",
       "1     24825\n",
       "Name: TARGET, dtype: int64"
      ]
     },
     "execution_count": 22,
     "metadata": {},
     "output_type": "execute_result"
    }
   ],
   "source": [
    "inp1.TARGET.value_counts()"
   ]
  },
  {
   "cell_type": "code",
   "execution_count": 23,
   "id": "96a3b6d4",
   "metadata": {},
   "outputs": [
    {
     "data": {
      "text/plain": [
       "17460"
      ]
     },
     "execution_count": 23,
     "metadata": {},
     "output_type": "execute_result"
    }
   ],
   "source": [
    "inp1.DAYS_BIRTH.nunique()"
   ]
  },
  {
   "cell_type": "markdown",
   "id": "1d66e432",
   "metadata": {},
   "source": [
    "##### Days are showing in negative values and need necessary changes ---take the absolute values"
   ]
  },
  {
   "cell_type": "code",
   "execution_count": 24,
   "id": "881f0a4f",
   "metadata": {},
   "outputs": [],
   "source": [
    "day_change=['DAYS_BIRTH','DAYS_EMPLOYED','DAYS_REGISTRATION','DAYS_ID_PUBLISH']"
   ]
  },
  {
   "cell_type": "code",
   "execution_count": 25,
   "id": "64f9895c",
   "metadata": {},
   "outputs": [],
   "source": [
    "inp1.DAYS_BIRTH=abs(inp1.DAYS_BIRTH/365)\n",
    "inp1.DAYS_EMPLOYED=abs(inp1.DAYS_EMPLOYED/365)\n",
    "inp1.DAYS_REGISTRATION=abs(inp1.DAYS_REGISTRATION/365)\n",
    "inp1.DAYS_ID_PUBLISH=abs(inp1.DAYS_ID_PUBLISH/365)\n"
   ]
  },
  {
   "cell_type": "code",
   "execution_count": 26,
   "id": "e19a95b2",
   "metadata": {},
   "outputs": [
    {
     "data": {
      "text/plain": [
       "37.668493    43\n",
       "36.934247    42\n",
       "49.994521    41\n",
       "27.452055    41\n",
       "43.208219    40\n",
       "             ..\n",
       "68.213699     1\n",
       "68.131507     1\n",
       "21.964384     1\n",
       "68.761644     1\n",
       "68.660274     1\n",
       "Name: DAYS_BIRTH, Length: 17460, dtype: int64"
      ]
     },
     "execution_count": 26,
     "metadata": {},
     "output_type": "execute_result"
    }
   ],
   "source": [
    "inp1.DAYS_BIRTH.value_counts()"
   ]
  },
  {
   "cell_type": "markdown",
   "id": "54f0d9b1",
   "metadata": {},
   "source": [
    "##### Correlation for continuous values"
   ]
  },
  {
   "cell_type": "code",
   "execution_count": 27,
   "id": "2c38a18b",
   "metadata": {},
   "outputs": [],
   "source": [
    "correlation1=inp1[[\"AMT_INCOME_TOTAL\",\"AMT_CREDIT\",\"AMT_ANNUITY\",\"AMT_GOODS_PRICE\",\"REGION_POPULATION_RELATIVE\",\"DAYS_BIRTH\",\"DAYS_EMPLOYED\",\"DAYS_REGISTRATION\",\"DAYS_ID_PUBLISH\",\"EXT_SOURCE_2\",\"EXT_SOURCE_3\",\"FLOORSMAX_MODE\",\"YEARS_BEGINEXPLUATATION_MODE\",\"YEARS_BEGINEXPLUATATION_MEDI\",\"FLOORSMAX_MEDI\",\"FLOORSMAX_AVG\",\"YEARS_BEGINEXPLUATATION_AVG\",\"TOTALAREA_MODE\",\"DAYS_LAST_PHONE_CHANGE\"]].corr()"
   ]
  },
  {
   "cell_type": "code",
   "execution_count": 28,
   "id": "94185845",
   "metadata": {},
   "outputs": [
    {
     "data": {
      "image/png": "[encoded data removed]",
      "text/plain": [
       "<Figure size 1440x720 with 2 Axes>"
      ]
     },
     "metadata": {
      "needs_background": "light"
     },
     "output_type": "display_data"
    }
   ],
   "source": [
    "plt.figure(figsize=(20,10))\n",
    "sns.heatmap(correlation1,annot=True, cmap=\"YlGnBu\")\n",
    "plt.show()"
   ]
  },
  {
   "cell_type": "markdown",
   "id": "61279214",
   "metadata": {},
   "source": [
    "### Top 10 Correlation: \n",
    "\n",
    "#### \"AMT_CREDIT\", \"AMT_GOODS_PRICE\",  \"FLOORSMAX_MODE\",  \"YEARS_BEGINEXPLUATATION_MODE\", \"YEARS_BEGINEXPLUATATION_MEDI\",  \"FLOORSMAX_MEDI\",\"FLOORSMAX_AVG\",  \"YEARS_BEGINEXPLUATATION_AVG\",  \"AMT_ANNUITY\",\"TOTALAREA_MODE\" "
   ]
  },
  {
   "cell_type": "markdown",
   "id": "976bd00c",
   "metadata": {},
   "source": [
    "#### Observations:\n",
    "\n",
    "    1. \"TARGET\",\"AMT_CREDIT\",\"AMT_ANNUITY\",\"AMT_GOODS_PRICE\", \"FLOORSMAX_MODE\", \"YEARS_BEGINEXPLUATATION_MEDI\",\"FLOORSMAX_MEDI\",\"YEARS_BEGINEXPLUATATION_MODE\",\"FLOORSMAX_AVG\",\"FLOORSMAX_AVG\",\"TOTALAREA_MODE\" has very much correlated.\n",
    "    \n",
    "    2. \"DAYS_BIRTH\",\"DAYS_EMPLOYED\" are partially correlated.\n"
   ]
  },
  {
   "cell_type": "code",
   "execution_count": 29,
   "id": "69ff2223",
   "metadata": {},
   "outputs": [],
   "source": [
    "# Some catagorical correlation sample:\n",
    "    \n",
    "corr1=inp1[[\"TARGET\",\"AMT_CREDIT\",\"AMT_ANNUITY\"]].corr()\n",
    "corr2=inp1[[\"TARGET\",\"AMT_GOODS_PRICE\",\"FLOORSMAX_MODE\"]].corr()"
   ]
  },
  {
   "cell_type": "code",
   "execution_count": 30,
   "id": "56da5fdd",
   "metadata": {},
   "outputs": [
    {
     "data": {
      "image/png": "[encoded data removed]",
      "text/plain": [
       "<Figure size 1080x216 with 4 Axes>"
      ]
     },
     "metadata": {
      "needs_background": "light"
     },
     "output_type": "display_data"
    }
   ],
   "source": [
    "plt.figure(figsize=(15,3))\n",
    "plt.subplot(1,2,1)\n",
    "sns.heatmap(corr1, annot=True,cmap=\"YlGnBu\")\n",
    "\n",
    "plt.subplot(1,2,2)\n",
    "sns.heatmap(corr2, annot=True,cmap=\"YlGnBu\")\n",
    "plt.show()"
   ]
  },
  {
   "cell_type": "markdown",
   "id": "ff9ab5ab",
   "metadata": {},
   "source": [
    "### Data Imbalance"
   ]
  },
  {
   "cell_type": "code",
   "execution_count": 31,
   "id": "5a4986a3",
   "metadata": {},
   "outputs": [
    {
     "data": {
      "text/plain": [
       "0    0.919271\n",
       "1    0.080729\n",
       "Name: TARGET, dtype: float64"
      ]
     },
     "execution_count": 31,
     "metadata": {},
     "output_type": "execute_result"
    }
   ],
   "source": [
    "inp1.TARGET.value_counts(normalize=True)"
   ]
  },
  {
   "cell_type": "markdown",
   "id": "8e35bf6b",
   "metadata": {},
   "source": [
    "#### Observation :\n",
    "\n",
    "    1. More than 90% of the payments are defaulters ie. late payment more than X days on at least one of the first Y installments of the loan in our sample.\n",
    "    \n",
    "    2. Huge difference between defaulters and non defaulters in plot as well."
   ]
  },
  {
   "cell_type": "code",
   "execution_count": 32,
   "id": "d969e6e5",
   "metadata": {},
   "outputs": [
    {
     "data": {
      "text/plain": [
       "11.387150050352467"
      ]
     },
     "execution_count": 32,
     "metadata": {},
     "output_type": "execute_result"
    }
   ],
   "source": [
    "data_imbalance=(inp1.TARGET==0).sum()/(inp1.TARGET==1).sum()\n",
    "data_imbalance"
   ]
  },
  {
   "cell_type": "markdown",
   "id": "d05a2a01",
   "metadata": {},
   "source": [
    "#### Data Imbalance = 11%"
   ]
  },
  {
   "cell_type": "markdown",
   "id": "dca7baa2",
   "metadata": {},
   "source": [
    "#### Outlier Treatment:\n",
    "\n",
    "    1. We check the outliers by using BOX plot or Scatter plot.\n",
    "    \n",
    "    2. Treatment can be don in two ways.\n",
    "        a. Using IQR (Interquartile Range) Method\n",
    "        b. Using capping"
   ]
  },
  {
   "cell_type": "code",
   "execution_count": 33,
   "id": "ced983f3",
   "metadata": {},
   "outputs": [
    {
     "data": {
      "text/plain": [
       "<AxesSubplot:xlabel='REGION_POPULATION_RELATIVE'>"
      ]
     },
     "execution_count": 33,
     "metadata": {},
     "output_type": "execute_result"
    },
    {
     "data": {
      "image/png": "[encoded data removed]",
      "text/plain": [
       "<Figure size 432x288 with 1 Axes>"
      ]
     },
     "metadata": {
      "needs_background": "light"
     },
     "output_type": "display_data"
    }
   ],
   "source": [
    "sns.boxplot(inp1.REGION_POPULATION_RELATIVE)"
   ]
  },
  {
   "cell_type": "code",
   "execution_count": 34,
   "id": "68d4924d",
   "metadata": {},
   "outputs": [
    {
     "data": {
      "text/plain": [
       "count    307511.000000\n",
       "mean          0.020868\n",
       "std           0.013831\n",
       "min           0.000290\n",
       "25%           0.010006\n",
       "50%           0.018850\n",
       "75%           0.028663\n",
       "max           0.072508\n",
       "Name: REGION_POPULATION_RELATIVE, dtype: float64"
      ]
     },
     "execution_count": 34,
     "metadata": {},
     "output_type": "execute_result"
    }
   ],
   "source": [
    "inp1.REGION_POPULATION_RELATIVE.describe()"
   ]
  },
  {
   "cell_type": "code",
   "execution_count": 35,
   "id": "83b7313c",
   "metadata": {},
   "outputs": [],
   "source": [
    "q1=0.010\n",
    "q2=0.018\n",
    "q3=0.26\n",
    "iqr=q3=q1\n",
    "upperwhisk=q3+1.5*iqr\n",
    "lowerwhisk=q1-1.5*iqr"
   ]
  },
  {
   "cell_type": "code",
   "execution_count": 36,
   "id": "4f4be31a",
   "metadata": {},
   "outputs": [],
   "source": [
    "inp1=inp1[inp1.REGION_POPULATION_RELATIVE < upperwhisk]"
   ]
  },
  {
   "cell_type": "code",
   "execution_count": 37,
   "id": "48779585",
   "metadata": {},
   "outputs": [
    {
     "data": {
      "text/plain": [
       "<AxesSubplot:xlabel='REGION_POPULATION_RELATIVE'>"
      ]
     },
     "execution_count": 37,
     "metadata": {},
     "output_type": "execute_result"
    },
    {
     "data": {
      "image/png": "[encoded data removed]",
      "text/plain": [
       "<Figure size 432x288 with 1 Axes>"
      ]
     },
     "metadata": {
      "needs_background": "light"
     },
     "output_type": "display_data"
    }
   ],
   "source": [
    "sns.boxplot(inp1.REGION_POPULATION_RELATIVE)"
   ]
  },
  {
   "cell_type": "markdown",
   "id": "db83e8d4",
   "metadata": {},
   "source": [
    "### Capping the outliers"
   ]
  },
  {
   "cell_type": "code",
   "execution_count": 38,
   "id": "d5f06e0d",
   "metadata": {},
   "outputs": [],
   "source": [
    "cap_data = inp1['AMT_CREDIT'].quantile(0.90)\n",
    "inp1 = inp1[inp1['AMT_CREDIT'] < cap_data]"
   ]
  },
  {
   "cell_type": "code",
   "execution_count": 39,
   "id": "c8f9d416",
   "metadata": {},
   "outputs": [
    {
     "data": {
      "image/png": "[encoded data removed]",
      "text/plain": [
       "<Figure size 432x288 with 1 Axes>"
      ]
     },
     "metadata": {
      "needs_background": "light"
     },
     "output_type": "display_data"
    }
   ],
   "source": [
    "sns.boxplot(inp1['AMT_CREDIT'])\n",
    "plt.show()"
   ]
  },
  {
   "cell_type": "code",
   "execution_count": 40,
   "id": "8f5a0c3c",
   "metadata": {},
   "outputs": [
    {
     "data": {
      "text/plain": [
       "<AxesSubplot:xlabel='AMT_ANNUITY'>"
      ]
     },
     "execution_count": 40,
     "metadata": {},
     "output_type": "execute_result"
    },
    {
     "data": {
      "image/png": "[encoded data removed]",
      "text/plain": [
       "<Figure size 432x288 with 1 Axes>"
      ]
     },
     "metadata": {
      "needs_background": "light"
     },
     "output_type": "display_data"
    }
   ],
   "source": [
    "sns.boxplot(inp1.AMT_ANNUITY)"
   ]
  },
  {
   "cell_type": "markdown",
   "id": "3b2b18ca",
   "metadata": {},
   "source": [
    "AMT_ANNUITY has upper outliers"
   ]
  },
  {
   "cell_type": "code",
   "execution_count": 41,
   "id": "56224e85",
   "metadata": {},
   "outputs": [],
   "source": [
    "cap_data = inp1['AMT_ANNUITY'].quantile(0.95)\n",
    "inp1 = inp1[inp1['AMT_ANNUITY'] < cap_data]"
   ]
  },
  {
   "cell_type": "code",
   "execution_count": 42,
   "id": "afaf0e7d",
   "metadata": {},
   "outputs": [
    {
     "data": {
      "text/plain": [
       "<AxesSubplot:xlabel='AMT_ANNUITY'>"
      ]
     },
     "execution_count": 42,
     "metadata": {},
     "output_type": "execute_result"
    },
    {
     "data": {
      "image/png": "[encoded data removed]",
      "text/plain": [
       "<Figure size 432x288 with 1 Axes>"
      ]
     },
     "metadata": {
      "needs_background": "light"
     },
     "output_type": "display_data"
    }
   ],
   "source": [
    "sns.boxplot(inp1.AMT_ANNUITY)"
   ]
  },
  {
   "cell_type": "code",
   "execution_count": 43,
   "id": "9e7bb433",
   "metadata": {},
   "outputs": [
    {
     "data": {
      "text/plain": [
       "<AxesSubplot:xlabel='DAYS_REGISTRATION'>"
      ]
     },
     "execution_count": 43,
     "metadata": {},
     "output_type": "execute_result"
    },
    {
     "data": {
      "image/png": "[encoded data removed]",
      "text/plain": [
       "<Figure size 432x288 with 1 Axes>"
      ]
     },
     "metadata": {
      "needs_background": "light"
     },
     "output_type": "display_data"
    }
   ],
   "source": [
    "sns.boxplot(inp1['DAYS_REGISTRATION'])"
   ]
  },
  {
   "cell_type": "code",
   "execution_count": 44,
   "id": "061a4703",
   "metadata": {},
   "outputs": [],
   "source": [
    "cap_data = inp1['DAYS_REGISTRATION'].quantile(0.85)\n",
    "inp1 = inp1[inp1['DAYS_REGISTRATION'] < cap_data]"
   ]
  },
  {
   "cell_type": "code",
   "execution_count": 45,
   "id": "2b8dbcd4",
   "metadata": {},
   "outputs": [
    {
     "data": {
      "text/plain": [
       "<AxesSubplot:xlabel='DAYS_REGISTRATION'>"
      ]
     },
     "execution_count": 45,
     "metadata": {},
     "output_type": "execute_result"
    },
    {
     "data": {
      "image/png": "[encoded data removed]",
      "text/plain": [
       "<Figure size 432x288 with 1 Axes>"
      ]
     },
     "metadata": {
      "needs_background": "light"
     },
     "output_type": "display_data"
    }
   ],
   "source": [
    "sns.boxplot(inp1['DAYS_REGISTRATION'])"
   ]
  },
  {
   "cell_type": "code",
   "execution_count": 46,
   "id": "9f1c7393",
   "metadata": {},
   "outputs": [
    {
     "data": {
      "text/plain": [
       "<AxesSubplot:xlabel='EXT_SOURCE_3'>"
      ]
     },
     "execution_count": 46,
     "metadata": {},
     "output_type": "execute_result"
    },
    {
     "data": {
      "image/png": "[encoded data removed]",
      "text/plain": [
       "<Figure size 432x288 with 1 Axes>"
      ]
     },
     "metadata": {
      "needs_background": "light"
     },
     "output_type": "display_data"
    }
   ],
   "source": [
    "sns.boxplot(inp1['EXT_SOURCE_3'])"
   ]
  },
  {
   "cell_type": "code",
   "execution_count": 47,
   "id": "0b234e4c",
   "metadata": {},
   "outputs": [],
   "source": [
    "cap_data = inp1['EXT_SOURCE_3'].quantile(0.1) ## lower bound capping\n",
    "inp1 = inp1[inp1['EXT_SOURCE_3'] < cap_data]"
   ]
  },
  {
   "cell_type": "code",
   "execution_count": 48,
   "id": "fc2ea68c",
   "metadata": {},
   "outputs": [
    {
     "data": {
      "text/plain": [
       "<AxesSubplot:xlabel='EXT_SOURCE_3'>"
      ]
     },
     "execution_count": 48,
     "metadata": {},
     "output_type": "execute_result"
    },
    {
     "data": {
      "image/png": "[encoded data removed]",
      "text/plain": [
       "<Figure size 432x288 with 1 Axes>"
      ]
     },
     "metadata": {
      "needs_background": "light"
     },
     "output_type": "display_data"
    }
   ],
   "source": [
    "sns.boxplot(inp1['EXT_SOURCE_3'])"
   ]
  },
  {
   "cell_type": "code",
   "execution_count": 49,
   "id": "461dcb49",
   "metadata": {},
   "outputs": [],
   "source": [
    "inp1_1=inp1[inp1.TARGET==1]\n",
    "inp1_0=inp1[inp1.TARGET==0]"
   ]
  },
  {
   "cell_type": "code",
   "execution_count": 50,
   "id": "36191eb1",
   "metadata": {},
   "outputs": [
    {
     "data": {
      "text/plain": [
       "(3210, 81)"
      ]
     },
     "execution_count": 50,
     "metadata": {},
     "output_type": "execute_result"
    }
   ],
   "source": [
    "inp1_1.shape"
   ]
  },
  {
   "cell_type": "code",
   "execution_count": 51,
   "id": "3269aee5",
   "metadata": {},
   "outputs": [
    {
     "data": {
      "text/plain": [
       "(11596, 81)"
      ]
     },
     "execution_count": 51,
     "metadata": {},
     "output_type": "execute_result"
    }
   ],
   "source": [
    "inp1_0.shape"
   ]
  },
  {
   "cell_type": "code",
   "execution_count": 52,
   "id": "c7b27897",
   "metadata": {},
   "outputs": [
    {
     "data": {
      "text/html": [
       "<div>\n",
       "<style scoped>\n",
       "    .dataframe tbody tr th:only-of-type {\n",
       "        vertical-align: middle;\n",
       "    }\n",
       "\n",
       "    .dataframe tbody tr th {\n",
       "        vertical-align: top;\n",
       "    }\n",
       "\n",
       "    .dataframe thead th {\n",
       "        text-align: right;\n",
       "    }\n",
       "</style>\n",
       "<table border=\"1\" class=\"dataframe\">\n",
       "  <thead>\n",
       "    <tr style=\"text-align: right;\">\n",
       "      <th></th>\n",
       "      <th>SK_ID_CURR</th>\n",
       "      <th>TARGET</th>\n",
       "      <th>NAME_CONTRACT_TYPE</th>\n",
       "      <th>CODE_GENDER</th>\n",
       "      <th>FLAG_OWN_CAR</th>\n",
       "      <th>FLAG_OWN_REALTY</th>\n",
       "      <th>CNT_CHILDREN</th>\n",
       "      <th>AMT_INCOME_TOTAL</th>\n",
       "      <th>AMT_CREDIT</th>\n",
       "      <th>AMT_ANNUITY</th>\n",
       "      <th>...</th>\n",
       "      <th>FLAG_DOCUMENT_18</th>\n",
       "      <th>FLAG_DOCUMENT_19</th>\n",
       "      <th>FLAG_DOCUMENT_20</th>\n",
       "      <th>FLAG_DOCUMENT_21</th>\n",
       "      <th>AMT_REQ_CREDIT_BUREAU_HOUR</th>\n",
       "      <th>AMT_REQ_CREDIT_BUREAU_DAY</th>\n",
       "      <th>AMT_REQ_CREDIT_BUREAU_WEEK</th>\n",
       "      <th>AMT_REQ_CREDIT_BUREAU_MON</th>\n",
       "      <th>AMT_REQ_CREDIT_BUREAU_QRT</th>\n",
       "      <th>AMT_REQ_CREDIT_BUREAU_YEAR</th>\n",
       "    </tr>\n",
       "  </thead>\n",
       "  <tbody>\n",
       "    <tr>\n",
       "      <th>0</th>\n",
       "      <td>100002</td>\n",
       "      <td>1</td>\n",
       "      <td>Cash loans</td>\n",
       "      <td>M</td>\n",
       "      <td>N</td>\n",
       "      <td>Y</td>\n",
       "      <td>0</td>\n",
       "      <td>202500.0</td>\n",
       "      <td>406597.5</td>\n",
       "      <td>24700.5</td>\n",
       "      <td>...</td>\n",
       "      <td>0</td>\n",
       "      <td>0</td>\n",
       "      <td>0</td>\n",
       "      <td>0</td>\n",
       "      <td>0.0</td>\n",
       "      <td>0.0</td>\n",
       "      <td>0.0</td>\n",
       "      <td>0.0</td>\n",
       "      <td>0.0</td>\n",
       "      <td>1.0</td>\n",
       "    </tr>\n",
       "    <tr>\n",
       "      <th>26</th>\n",
       "      <td>100031</td>\n",
       "      <td>1</td>\n",
       "      <td>Cash loans</td>\n",
       "      <td>F</td>\n",
       "      <td>N</td>\n",
       "      <td>Y</td>\n",
       "      <td>0</td>\n",
       "      <td>112500.0</td>\n",
       "      <td>979992.0</td>\n",
       "      <td>27076.5</td>\n",
       "      <td>...</td>\n",
       "      <td>0</td>\n",
       "      <td>0</td>\n",
       "      <td>0</td>\n",
       "      <td>0</td>\n",
       "      <td>0.0</td>\n",
       "      <td>0.0</td>\n",
       "      <td>0.0</td>\n",
       "      <td>0.0</td>\n",
       "      <td>2.0</td>\n",
       "      <td>2.0</td>\n",
       "    </tr>\n",
       "    <tr>\n",
       "      <th>110</th>\n",
       "      <td>100130</td>\n",
       "      <td>1</td>\n",
       "      <td>Cash loans</td>\n",
       "      <td>F</td>\n",
       "      <td>N</td>\n",
       "      <td>Y</td>\n",
       "      <td>1</td>\n",
       "      <td>157500.0</td>\n",
       "      <td>723996.0</td>\n",
       "      <td>30802.5</td>\n",
       "      <td>...</td>\n",
       "      <td>0</td>\n",
       "      <td>0</td>\n",
       "      <td>0</td>\n",
       "      <td>0</td>\n",
       "      <td>0.0</td>\n",
       "      <td>0.0</td>\n",
       "      <td>0.0</td>\n",
       "      <td>0.0</td>\n",
       "      <td>0.0</td>\n",
       "      <td>0.0</td>\n",
       "    </tr>\n",
       "    <tr>\n",
       "      <th>211</th>\n",
       "      <td>100246</td>\n",
       "      <td>1</td>\n",
       "      <td>Cash loans</td>\n",
       "      <td>F</td>\n",
       "      <td>N</td>\n",
       "      <td>Y</td>\n",
       "      <td>0</td>\n",
       "      <td>135000.0</td>\n",
       "      <td>495216.0</td>\n",
       "      <td>26995.5</td>\n",
       "      <td>...</td>\n",
       "      <td>0</td>\n",
       "      <td>0</td>\n",
       "      <td>0</td>\n",
       "      <td>0</td>\n",
       "      <td>0.0</td>\n",
       "      <td>0.0</td>\n",
       "      <td>0.0</td>\n",
       "      <td>0.0</td>\n",
       "      <td>0.0</td>\n",
       "      <td>0.0</td>\n",
       "    </tr>\n",
       "    <tr>\n",
       "      <th>261</th>\n",
       "      <td>100301</td>\n",
       "      <td>1</td>\n",
       "      <td>Cash loans</td>\n",
       "      <td>M</td>\n",
       "      <td>N</td>\n",
       "      <td>Y</td>\n",
       "      <td>1</td>\n",
       "      <td>112500.0</td>\n",
       "      <td>571486.5</td>\n",
       "      <td>31131.0</td>\n",
       "      <td>...</td>\n",
       "      <td>0</td>\n",
       "      <td>0</td>\n",
       "      <td>0</td>\n",
       "      <td>0</td>\n",
       "      <td>1.0</td>\n",
       "      <td>0.0</td>\n",
       "      <td>0.0</td>\n",
       "      <td>1.0</td>\n",
       "      <td>0.0</td>\n",
       "      <td>2.0</td>\n",
       "    </tr>\n",
       "  </tbody>\n",
       "</table>\n",
       "<p>5 rows × 81 columns</p>\n",
       "</div>"
      ],
      "text/plain": [
       "     SK_ID_CURR  TARGET NAME_CONTRACT_TYPE CODE_GENDER FLAG_OWN_CAR  \\\n",
       "0        100002       1         Cash loans           M            N   \n",
       "26       100031       1         Cash loans           F            N   \n",
       "110      100130       1         Cash loans           F            N   \n",
       "211      100246       1         Cash loans           F            N   \n",
       "261      100301       1         Cash loans           M            N   \n",
       "\n",
       "    FLAG_OWN_REALTY  CNT_CHILDREN  AMT_INCOME_TOTAL  AMT_CREDIT  AMT_ANNUITY  \\\n",
       "0                 Y             0          202500.0    406597.5      24700.5   \n",
       "26                Y             0          112500.0    979992.0      27076.5   \n",
       "110               Y             1          157500.0    723996.0      30802.5   \n",
       "211               Y             0          135000.0    495216.0      26995.5   \n",
       "261               Y             1          112500.0    571486.5      31131.0   \n",
       "\n",
       "     ...  FLAG_DOCUMENT_18 FLAG_DOCUMENT_19 FLAG_DOCUMENT_20 FLAG_DOCUMENT_21  \\\n",
       "0    ...                 0                0                0                0   \n",
       "26   ...                 0                0                0                0   \n",
       "110  ...                 0                0                0                0   \n",
       "211  ...                 0                0                0                0   \n",
       "261  ...                 0                0                0                0   \n",
       "\n",
       "    AMT_REQ_CREDIT_BUREAU_HOUR AMT_REQ_CREDIT_BUREAU_DAY  \\\n",
       "0                          0.0                       0.0   \n",
       "26                         0.0                       0.0   \n",
       "110                        0.0                       0.0   \n",
       "211                        0.0                       0.0   \n",
       "261                        1.0                       0.0   \n",
       "\n",
       "     AMT_REQ_CREDIT_BUREAU_WEEK  AMT_REQ_CREDIT_BUREAU_MON  \\\n",
       "0                           0.0                        0.0   \n",
       "26                          0.0                        0.0   \n",
       "110                         0.0                        0.0   \n",
       "211                         0.0                        0.0   \n",
       "261                         0.0                        1.0   \n",
       "\n",
       "     AMT_REQ_CREDIT_BUREAU_QRT  AMT_REQ_CREDIT_BUREAU_YEAR  \n",
       "0                          0.0                         1.0  \n",
       "26                         2.0                         2.0  \n",
       "110                        0.0                         0.0  \n",
       "211                        0.0                         0.0  \n",
       "261                        0.0                         2.0  \n",
       "\n",
       "[5 rows x 81 columns]"
      ]
     },
     "execution_count": 52,
     "metadata": {},
     "output_type": "execute_result"
    }
   ],
   "source": [
    "inp1_1.head()"
   ]
  },
  {
   "cell_type": "code",
   "execution_count": null,
   "id": "d7d2cc8d",
   "metadata": {},
   "outputs": [],
   "source": []
  },
  {
   "cell_type": "code",
   "execution_count": 99,
   "id": "eeedbb25",
   "metadata": {},
   "outputs": [
    {
     "data": {
      "text/plain": [
       "<BarContainer object of 18150 artists>"
      ]
     },
     "execution_count": 99,
     "metadata": {},
     "output_type": "execute_result"
    },
    {
     "data": {
      "image/png": "[encoded data removed]",
      "text/plain": [
       "<Figure size 432x288 with 1 Axes>"
      ]
     },
     "metadata": {
      "needs_background": "light"
     },
     "output_type": "display_data"
    }
   ],
   "source": [
    "plt.bar(inp1_1.CODE_GENDER,inp1_1.AMT_CREDIT_x)"
   ]
  },
  {
   "cell_type": "code",
   "execution_count": 54,
   "id": "8dc1eebb",
   "metadata": {
    "scrolled": true
   },
   "outputs": [
    {
     "data": {
      "image/png": "[encoded data removed]",
      "text/plain": [
       "<Figure size 1080x216 with 2 Axes>"
      ]
     },
     "metadata": {
      "needs_background": "light"
     },
     "output_type": "display_data"
    }
   ],
   "source": [
    "plt.figure(figsize=(15,3))\n",
    "\n",
    "plt.title(\"Gender Code Vs Loan amount\\n\", fontdict={\"fontsize\":20, 'fontweight':5, 'color':'Blue'})\n",
    "plt.xlabel(\"Code_GENDER\",fontdict={\"fontsize\":10, 'fontweight':5, 'color':'blue'})\n",
    "plt.ylabel(\"AMT_CREDIT\",fontdict={\"fontsize\":10, 'fontweight':5, 'color':'blue'})\n",
    "\n",
    "\n",
    "plt.subplot(1,2,1)\n",
    "plt.bar(inp1_1.CODE_GENDER,inp1_1.AMT_CREDIT,align='center',color=['Orange', 'red'])\n",
    "\n",
    "plt.subplot(1,2,2)\n",
    "plt.bar(inp1_0.CODE_GENDER,inp1_0.AMT_CREDIT,align='center',color=['Orange', 'red'],)\n",
    "plt.show()"
   ]
  },
  {
   "cell_type": "markdown",
   "id": "f7e5dfcf",
   "metadata": {},
   "source": [
    "Observation:\n",
    "\n",
    "    1. Male has more loan granded and they have more difficultied for payments.\n",
    "    \n",
    "    2. In the other cases of payment also Males are high.\n",
    "    \n",
    "    3. Females are alse facing issues for loan payment but that is less that Male. \n",
    "    \n",
    "    4. In other cases of payment females are higher that males"
   ]
  },
  {
   "cell_type": "markdown",
   "id": "f7a275f1",
   "metadata": {},
   "source": [
    "## Previous_application data set"
   ]
  },
  {
   "cell_type": "code",
   "execution_count": 55,
   "id": "a4ef4f4e",
   "metadata": {},
   "outputs": [
    {
     "data": {
      "text/plain": [
       "(1670214, 37)"
      ]
     },
     "execution_count": 55,
     "metadata": {},
     "output_type": "execute_result"
    }
   ],
   "source": [
    "inp0.shape"
   ]
  },
  {
   "cell_type": "code",
   "execution_count": 56,
   "id": "e5fc9965",
   "metadata": {},
   "outputs": [
    {
     "data": {
      "text/html": [
       "<div>\n",
       "<style scoped>\n",
       "    .dataframe tbody tr th:only-of-type {\n",
       "        vertical-align: middle;\n",
       "    }\n",
       "\n",
       "    .dataframe tbody tr th {\n",
       "        vertical-align: top;\n",
       "    }\n",
       "\n",
       "    .dataframe thead th {\n",
       "        text-align: right;\n",
       "    }\n",
       "</style>\n",
       "<table border=\"1\" class=\"dataframe\">\n",
       "  <thead>\n",
       "    <tr style=\"text-align: right;\">\n",
       "      <th></th>\n",
       "      <th>SK_ID_PREV</th>\n",
       "      <th>SK_ID_CURR</th>\n",
       "      <th>NAME_CONTRACT_TYPE</th>\n",
       "      <th>AMT_ANNUITY</th>\n",
       "      <th>AMT_APPLICATION</th>\n",
       "      <th>AMT_CREDIT</th>\n",
       "      <th>AMT_DOWN_PAYMENT</th>\n",
       "      <th>AMT_GOODS_PRICE</th>\n",
       "      <th>WEEKDAY_APPR_PROCESS_START</th>\n",
       "      <th>HOUR_APPR_PROCESS_START</th>\n",
       "      <th>...</th>\n",
       "      <th>NAME_SELLER_INDUSTRY</th>\n",
       "      <th>CNT_PAYMENT</th>\n",
       "      <th>NAME_YIELD_GROUP</th>\n",
       "      <th>PRODUCT_COMBINATION</th>\n",
       "      <th>DAYS_FIRST_DRAWING</th>\n",
       "      <th>DAYS_FIRST_DUE</th>\n",
       "      <th>DAYS_LAST_DUE_1ST_VERSION</th>\n",
       "      <th>DAYS_LAST_DUE</th>\n",
       "      <th>DAYS_TERMINATION</th>\n",
       "      <th>NFLAG_INSURED_ON_APPROVAL</th>\n",
       "    </tr>\n",
       "  </thead>\n",
       "  <tbody>\n",
       "    <tr>\n",
       "      <th>0</th>\n",
       "      <td>2030495</td>\n",
       "      <td>271877</td>\n",
       "      <td>Consumer loans</td>\n",
       "      <td>1730.430</td>\n",
       "      <td>17145.0</td>\n",
       "      <td>17145.0</td>\n",
       "      <td>0.0</td>\n",
       "      <td>17145.0</td>\n",
       "      <td>SATURDAY</td>\n",
       "      <td>15</td>\n",
       "      <td>...</td>\n",
       "      <td>Connectivity</td>\n",
       "      <td>12.0</td>\n",
       "      <td>middle</td>\n",
       "      <td>POS mobile with interest</td>\n",
       "      <td>365243.0</td>\n",
       "      <td>-42.0</td>\n",
       "      <td>300.0</td>\n",
       "      <td>-42.0</td>\n",
       "      <td>-37.0</td>\n",
       "      <td>0.0</td>\n",
       "    </tr>\n",
       "    <tr>\n",
       "      <th>1</th>\n",
       "      <td>2802425</td>\n",
       "      <td>108129</td>\n",
       "      <td>Cash loans</td>\n",
       "      <td>25188.615</td>\n",
       "      <td>607500.0</td>\n",
       "      <td>679671.0</td>\n",
       "      <td>NaN</td>\n",
       "      <td>607500.0</td>\n",
       "      <td>THURSDAY</td>\n",
       "      <td>11</td>\n",
       "      <td>...</td>\n",
       "      <td>XNA</td>\n",
       "      <td>36.0</td>\n",
       "      <td>low_action</td>\n",
       "      <td>Cash X-Sell: low</td>\n",
       "      <td>365243.0</td>\n",
       "      <td>-134.0</td>\n",
       "      <td>916.0</td>\n",
       "      <td>365243.0</td>\n",
       "      <td>365243.0</td>\n",
       "      <td>1.0</td>\n",
       "    </tr>\n",
       "    <tr>\n",
       "      <th>2</th>\n",
       "      <td>2523466</td>\n",
       "      <td>122040</td>\n",
       "      <td>Cash loans</td>\n",
       "      <td>15060.735</td>\n",
       "      <td>112500.0</td>\n",
       "      <td>136444.5</td>\n",
       "      <td>NaN</td>\n",
       "      <td>112500.0</td>\n",
       "      <td>TUESDAY</td>\n",
       "      <td>11</td>\n",
       "      <td>...</td>\n",
       "      <td>XNA</td>\n",
       "      <td>12.0</td>\n",
       "      <td>high</td>\n",
       "      <td>Cash X-Sell: high</td>\n",
       "      <td>365243.0</td>\n",
       "      <td>-271.0</td>\n",
       "      <td>59.0</td>\n",
       "      <td>365243.0</td>\n",
       "      <td>365243.0</td>\n",
       "      <td>1.0</td>\n",
       "    </tr>\n",
       "    <tr>\n",
       "      <th>3</th>\n",
       "      <td>2819243</td>\n",
       "      <td>176158</td>\n",
       "      <td>Cash loans</td>\n",
       "      <td>47041.335</td>\n",
       "      <td>450000.0</td>\n",
       "      <td>470790.0</td>\n",
       "      <td>NaN</td>\n",
       "      <td>450000.0</td>\n",
       "      <td>MONDAY</td>\n",
       "      <td>7</td>\n",
       "      <td>...</td>\n",
       "      <td>XNA</td>\n",
       "      <td>12.0</td>\n",
       "      <td>middle</td>\n",
       "      <td>Cash X-Sell: middle</td>\n",
       "      <td>365243.0</td>\n",
       "      <td>-482.0</td>\n",
       "      <td>-152.0</td>\n",
       "      <td>-182.0</td>\n",
       "      <td>-177.0</td>\n",
       "      <td>1.0</td>\n",
       "    </tr>\n",
       "    <tr>\n",
       "      <th>4</th>\n",
       "      <td>1784265</td>\n",
       "      <td>202054</td>\n",
       "      <td>Cash loans</td>\n",
       "      <td>31924.395</td>\n",
       "      <td>337500.0</td>\n",
       "      <td>404055.0</td>\n",
       "      <td>NaN</td>\n",
       "      <td>337500.0</td>\n",
       "      <td>THURSDAY</td>\n",
       "      <td>9</td>\n",
       "      <td>...</td>\n",
       "      <td>XNA</td>\n",
       "      <td>24.0</td>\n",
       "      <td>high</td>\n",
       "      <td>Cash Street: high</td>\n",
       "      <td>NaN</td>\n",
       "      <td>NaN</td>\n",
       "      <td>NaN</td>\n",
       "      <td>NaN</td>\n",
       "      <td>NaN</td>\n",
       "      <td>NaN</td>\n",
       "    </tr>\n",
       "  </tbody>\n",
       "</table>\n",
       "<p>5 rows × 37 columns</p>\n",
       "</div>"
      ],
      "text/plain": [
       "   SK_ID_PREV  SK_ID_CURR NAME_CONTRACT_TYPE  AMT_ANNUITY  AMT_APPLICATION  \\\n",
       "0     2030495      271877     Consumer loans     1730.430          17145.0   \n",
       "1     2802425      108129         Cash loans    25188.615         607500.0   \n",
       "2     2523466      122040         Cash loans    15060.735         112500.0   \n",
       "3     2819243      176158         Cash loans    47041.335         450000.0   \n",
       "4     1784265      202054         Cash loans    31924.395         337500.0   \n",
       "\n",
       "   AMT_CREDIT  AMT_DOWN_PAYMENT  AMT_GOODS_PRICE WEEKDAY_APPR_PROCESS_START  \\\n",
       "0     17145.0               0.0          17145.0                   SATURDAY   \n",
       "1    679671.0               NaN         607500.0                   THURSDAY   \n",
       "2    136444.5               NaN         112500.0                    TUESDAY   \n",
       "3    470790.0               NaN         450000.0                     MONDAY   \n",
       "4    404055.0               NaN         337500.0                   THURSDAY   \n",
       "\n",
       "   HOUR_APPR_PROCESS_START  ... NAME_SELLER_INDUSTRY  CNT_PAYMENT  \\\n",
       "0                       15  ...         Connectivity         12.0   \n",
       "1                       11  ...                  XNA         36.0   \n",
       "2                       11  ...                  XNA         12.0   \n",
       "3                        7  ...                  XNA         12.0   \n",
       "4                        9  ...                  XNA         24.0   \n",
       "\n",
       "   NAME_YIELD_GROUP       PRODUCT_COMBINATION  DAYS_FIRST_DRAWING  \\\n",
       "0            middle  POS mobile with interest            365243.0   \n",
       "1        low_action          Cash X-Sell: low            365243.0   \n",
       "2              high         Cash X-Sell: high            365243.0   \n",
       "3            middle       Cash X-Sell: middle            365243.0   \n",
       "4              high         Cash Street: high                 NaN   \n",
       "\n",
       "  DAYS_FIRST_DUE DAYS_LAST_DUE_1ST_VERSION  DAYS_LAST_DUE DAYS_TERMINATION  \\\n",
       "0          -42.0                     300.0          -42.0            -37.0   \n",
       "1         -134.0                     916.0       365243.0         365243.0   \n",
       "2         -271.0                      59.0       365243.0         365243.0   \n",
       "3         -482.0                    -152.0         -182.0           -177.0   \n",
       "4            NaN                       NaN            NaN              NaN   \n",
       "\n",
       "  NFLAG_INSURED_ON_APPROVAL  \n",
       "0                       0.0  \n",
       "1                       1.0  \n",
       "2                       1.0  \n",
       "3                       1.0  \n",
       "4                       NaN  \n",
       "\n",
       "[5 rows x 37 columns]"
      ]
     },
     "execution_count": 56,
     "metadata": {},
     "output_type": "execute_result"
    }
   ],
   "source": [
    "inp0.head()"
   ]
  },
  {
   "cell_type": "code",
   "execution_count": 57,
   "id": "f2b4d523",
   "metadata": {},
   "outputs": [
    {
     "name": "stdout",
     "output_type": "stream",
     "text": [
      "<class 'pandas.core.frame.DataFrame'>\n",
      "RangeIndex: 1670214 entries, 0 to 1670213\n",
      "Data columns (total 37 columns):\n",
      " #   Column                       Non-Null Count    Dtype  \n",
      "---  ------                       --------------    -----  \n",
      " 0   SK_ID_PREV                   1670214 non-null  int64  \n",
      " 1   SK_ID_CURR                   1670214 non-null  int64  \n",
      " 2   NAME_CONTRACT_TYPE           1670214 non-null  object \n",
      " 3   AMT_ANNUITY                  1297979 non-null  float64\n",
      " 4   AMT_APPLICATION              1670214 non-null  float64\n",
      " 5   AMT_CREDIT                   1670213 non-null  float64\n",
      " 6   AMT_DOWN_PAYMENT             774370 non-null   float64\n",
      " 7   AMT_GOODS_PRICE              1284699 non-null  float64\n",
      " 8   WEEKDAY_APPR_PROCESS_START   1670214 non-null  object \n",
      " 9   HOUR_APPR_PROCESS_START      1670214 non-null  int64  \n",
      " 10  FLAG_LAST_APPL_PER_CONTRACT  1670214 non-null  object \n",
      " 11  NFLAG_LAST_APPL_IN_DAY       1670214 non-null  int64  \n",
      " 12  RATE_DOWN_PAYMENT            774370 non-null   float64\n",
      " 13  RATE_INTEREST_PRIMARY        5951 non-null     float64\n",
      " 14  RATE_INTEREST_PRIVILEGED     5951 non-null     float64\n",
      " 15  NAME_CASH_LOAN_PURPOSE       1670214 non-null  object \n",
      " 16  NAME_CONTRACT_STATUS         1670214 non-null  object \n",
      " 17  DAYS_DECISION                1670214 non-null  int64  \n",
      " 18  NAME_PAYMENT_TYPE            1670214 non-null  object \n",
      " 19  CODE_REJECT_REASON           1670214 non-null  object \n",
      " 20  NAME_TYPE_SUITE              849809 non-null   object \n",
      " 21  NAME_CLIENT_TYPE             1670214 non-null  object \n",
      " 22  NAME_GOODS_CATEGORY          1670214 non-null  object \n",
      " 23  NAME_PORTFOLIO               1670214 non-null  object \n",
      " 24  NAME_PRODUCT_TYPE            1670214 non-null  object \n",
      " 25  CHANNEL_TYPE                 1670214 non-null  object \n",
      " 26  SELLERPLACE_AREA             1670214 non-null  int64  \n",
      " 27  NAME_SELLER_INDUSTRY         1670214 non-null  object \n",
      " 28  CNT_PAYMENT                  1297984 non-null  float64\n",
      " 29  NAME_YIELD_GROUP             1670214 non-null  object \n",
      " 30  PRODUCT_COMBINATION          1669868 non-null  object \n",
      " 31  DAYS_FIRST_DRAWING           997149 non-null   float64\n",
      " 32  DAYS_FIRST_DUE               997149 non-null   float64\n",
      " 33  DAYS_LAST_DUE_1ST_VERSION    997149 non-null   float64\n",
      " 34  DAYS_LAST_DUE                997149 non-null   float64\n",
      " 35  DAYS_TERMINATION             997149 non-null   float64\n",
      " 36  NFLAG_INSURED_ON_APPROVAL    997149 non-null   float64\n",
      "dtypes: float64(15), int64(6), object(16)\n",
      "memory usage: 471.5+ MB\n"
     ]
    }
   ],
   "source": [
    "inp0.info()"
   ]
  },
  {
   "cell_type": "code",
   "execution_count": 58,
   "id": "a37a45f5",
   "metadata": {},
   "outputs": [
    {
     "data": {
      "text/plain": [
       "SK_ID_PREV                      0.000000\n",
       "SK_ID_CURR                      0.000000\n",
       "NAME_CONTRACT_TYPE              0.000000\n",
       "AMT_ANNUITY                    22.286665\n",
       "AMT_APPLICATION                 0.000000\n",
       "AMT_CREDIT                      0.000060\n",
       "AMT_DOWN_PAYMENT               53.636480\n",
       "AMT_GOODS_PRICE                23.081773\n",
       "WEEKDAY_APPR_PROCESS_START      0.000000\n",
       "HOUR_APPR_PROCESS_START         0.000000\n",
       "FLAG_LAST_APPL_PER_CONTRACT     0.000000\n",
       "NFLAG_LAST_APPL_IN_DAY          0.000000\n",
       "RATE_DOWN_PAYMENT              53.636480\n",
       "RATE_INTEREST_PRIMARY          99.643698\n",
       "RATE_INTEREST_PRIVILEGED       99.643698\n",
       "NAME_CASH_LOAN_PURPOSE          0.000000\n",
       "NAME_CONTRACT_STATUS            0.000000\n",
       "DAYS_DECISION                   0.000000\n",
       "NAME_PAYMENT_TYPE               0.000000\n",
       "CODE_REJECT_REASON              0.000000\n",
       "NAME_TYPE_SUITE                49.119754\n",
       "NAME_CLIENT_TYPE                0.000000\n",
       "NAME_GOODS_CATEGORY             0.000000\n",
       "NAME_PORTFOLIO                  0.000000\n",
       "NAME_PRODUCT_TYPE               0.000000\n",
       "CHANNEL_TYPE                    0.000000\n",
       "SELLERPLACE_AREA                0.000000\n",
       "NAME_SELLER_INDUSTRY            0.000000\n",
       "CNT_PAYMENT                    22.286366\n",
       "NAME_YIELD_GROUP                0.000000\n",
       "PRODUCT_COMBINATION             0.020716\n",
       "DAYS_FIRST_DRAWING             40.298129\n",
       "DAYS_FIRST_DUE                 40.298129\n",
       "DAYS_LAST_DUE_1ST_VERSION      40.298129\n",
       "DAYS_LAST_DUE                  40.298129\n",
       "DAYS_TERMINATION               40.298129\n",
       "NFLAG_INSURED_ON_APPROVAL      40.298129\n",
       "dtype: float64"
      ]
     },
     "execution_count": 58,
     "metadata": {},
     "output_type": "execute_result"
    }
   ],
   "source": [
    "inp0.isnull().mean()*100"
   ]
  },
  {
   "cell_type": "markdown",
   "id": "6fbc445b",
   "metadata": {},
   "source": [
    "### Drop the column who's null value is greater than 99%"
   ]
  },
  {
   "cell_type": "code",
   "execution_count": 59,
   "id": "448536b6",
   "metadata": {},
   "outputs": [],
   "source": [
    "inp00=inp0.drop(\"RATE_INTEREST_PRIMARY\", axis=1,inplace=True)\n",
    "inp00=inp0.drop(\"RATE_INTEREST_PRIVILEGED\", axis=1,inplace=True)"
   ]
  },
  {
   "cell_type": "code",
   "execution_count": 60,
   "id": "f59b9d33",
   "metadata": {},
   "outputs": [
    {
     "data": {
      "text/plain": [
       "(1670214, 35)"
      ]
     },
     "execution_count": 60,
     "metadata": {},
     "output_type": "execute_result"
    }
   ],
   "source": [
    "inp0.shape"
   ]
  },
  {
   "cell_type": "markdown",
   "id": "61f2108b",
   "metadata": {},
   "source": [
    "### Impute null values\n",
    "\n",
    "#### Mode with categorical value and median with continuous value"
   ]
  },
  {
   "cell_type": "code",
   "execution_count": 61,
   "id": "c9317b31",
   "metadata": {},
   "outputs": [],
   "source": [
    "cat_col=[\"NAME_CONTRACT_TYPE\",\"WEEKDAY_APPR_PROCESS_START\",\"HOUR_APPR_PROCESS_START\",\"FLAG_LAST_APPL_PER_CONTRACT\",\"NFLAG_LAST_APPL_IN_DAY\",\"NAME_CONTRACT_STATUS\",\"NAME_PAYMENT_TYPE\",\"CODE_REJECT_REASON\",\"NAME_TYPE_SUITE\",\"NAME_CLIENT_TYPE\",\"NAME_GOODS_CATEGORY\",\"NAME_PORTFOLIO\",\"NAME_PRODUCT_TYPE\",\"CHANNEL_TYPE\",\"NAME_SELLER_INDUSTRY\",\"NAME_YIELD_GROUP\",\"PRODUCT_COMBINATION\",\"NFLAG_INSURED_ON_APPROVAL\"]\n",
    "cont_col=[\"AMT_ANNUITY \",\"AMT_APPLICATION\",\"AMT_CREDIT\",\"AMT_DOWN_PAYMENT\",\"AMT_GOODS_PRICE\",\"RATE_DOWN_PAYMENT\",\"DAYS_DECISION\",\"SELLERPLACE_AREA\",\"CNT_PAYMENT\",\"DAYS_FIRST_DRAWING\",\"DAYS_FIRST_DUE\",\"DAYS_LAST_DUE_1ST_VERSION\",\"DAYS_LAST_DUE\",\"DAYS_TERMINATION\"]"
   ]
  },
  {
   "cell_type": "code",
   "execution_count": 62,
   "id": "b4dfd749",
   "metadata": {},
   "outputs": [
    {
     "data": {
      "text/plain": [
       "32"
      ]
     },
     "execution_count": 62,
     "metadata": {},
     "output_type": "execute_result"
    }
   ],
   "source": [
    "len(cat_col)+len(cont_col)"
   ]
  },
  {
   "cell_type": "code",
   "execution_count": 63,
   "id": "c5030a85",
   "metadata": {},
   "outputs": [
    {
     "data": {
      "text/plain": [
       "XAP                                 922661\n",
       "XNA                                 677918\n",
       "Repairs                              23765\n",
       "Other                                15608\n",
       "Urgent needs                          8412\n",
       "Buying a used car                     2888\n",
       "Building a house or an annex          2693\n",
       "Everyday expenses                     2416\n",
       "Medicine                              2174\n",
       "Payments on other loans               1931\n",
       "Education                             1573\n",
       "Journey                               1239\n",
       "Purchase of electronic equipment      1061\n",
       "Buying a new car                      1012\n",
       "Wedding / gift / holiday               962\n",
       "Buying a home                          865\n",
       "Car repairs                            797\n",
       "Furniture                              749\n",
       "Buying a holiday home / land           533\n",
       "Business development                   426\n",
       "Gasification / water supply            300\n",
       "Buying a garage                        136\n",
       "Hobby                                   55\n",
       "Money for a third person                25\n",
       "Refusal to name the goal                15\n",
       "Name: NAME_CASH_LOAN_PURPOSE, dtype: int64"
      ]
     },
     "execution_count": 63,
     "metadata": {},
     "output_type": "execute_result"
    }
   ],
   "source": [
    "inp0.NAME_CASH_LOAN_PURPOSE.value_counts()"
   ]
  },
  {
   "cell_type": "code",
   "execution_count": 64,
   "id": "fdfc92b3",
   "metadata": {},
   "outputs": [],
   "source": [
    "inp00=inp0.drop(\"NAME_CASH_LOAN_PURPOSE\", axis=1, inplace=True)"
   ]
  },
  {
   "cell_type": "code",
   "execution_count": 65,
   "id": "a2d2bcf7",
   "metadata": {},
   "outputs": [
    {
     "data": {
      "text/plain": [
       "(1670214, 34)"
      ]
     },
     "execution_count": 65,
     "metadata": {},
     "output_type": "execute_result"
    }
   ],
   "source": [
    "inp0.shape"
   ]
  },
  {
   "cell_type": "markdown",
   "id": "ae111036",
   "metadata": {},
   "source": [
    "#### Put it in a loop to impute all \"XNA\" and \"XAP\""
   ]
  },
  {
   "cell_type": "code",
   "execution_count": 66,
   "id": "7c987bb6",
   "metadata": {},
   "outputs": [],
   "source": [
    "for i in cat_col:\n",
    "    mode_value=inp0[i].mode()[0]\n",
    "    inp0[i]=inp0[i].replace(\"XNA\",mode_value)"
   ]
  },
  {
   "cell_type": "code",
   "execution_count": 67,
   "id": "fe77b02b",
   "metadata": {},
   "outputs": [],
   "source": [
    "for i in cat_col:\n",
    "    mode_value=inp0[i].mode()[0]\n",
    "    inp0[i]=inp0[i].replace(\"XAP\",mode_value)"
   ]
  },
  {
   "cell_type": "code",
   "execution_count": 68,
   "id": "bf254f7f",
   "metadata": {},
   "outputs": [
    {
     "data": {
      "text/html": [
       "<div>\n",
       "<style scoped>\n",
       "    .dataframe tbody tr th:only-of-type {\n",
       "        vertical-align: middle;\n",
       "    }\n",
       "\n",
       "    .dataframe tbody tr th {\n",
       "        vertical-align: top;\n",
       "    }\n",
       "\n",
       "    .dataframe thead th {\n",
       "        text-align: right;\n",
       "    }\n",
       "</style>\n",
       "<table border=\"1\" class=\"dataframe\">\n",
       "  <thead>\n",
       "    <tr style=\"text-align: right;\">\n",
       "      <th></th>\n",
       "      <th>SK_ID_PREV</th>\n",
       "      <th>SK_ID_CURR</th>\n",
       "      <th>AMT_ANNUITY</th>\n",
       "      <th>AMT_APPLICATION</th>\n",
       "      <th>AMT_CREDIT</th>\n",
       "      <th>AMT_DOWN_PAYMENT</th>\n",
       "      <th>AMT_GOODS_PRICE</th>\n",
       "      <th>HOUR_APPR_PROCESS_START</th>\n",
       "      <th>NFLAG_LAST_APPL_IN_DAY</th>\n",
       "      <th>RATE_DOWN_PAYMENT</th>\n",
       "      <th>DAYS_DECISION</th>\n",
       "      <th>SELLERPLACE_AREA</th>\n",
       "      <th>CNT_PAYMENT</th>\n",
       "      <th>DAYS_FIRST_DRAWING</th>\n",
       "      <th>DAYS_FIRST_DUE</th>\n",
       "      <th>DAYS_LAST_DUE_1ST_VERSION</th>\n",
       "      <th>DAYS_LAST_DUE</th>\n",
       "      <th>DAYS_TERMINATION</th>\n",
       "      <th>NFLAG_INSURED_ON_APPROVAL</th>\n",
       "    </tr>\n",
       "  </thead>\n",
       "  <tbody>\n",
       "    <tr>\n",
       "      <th>count</th>\n",
       "      <td>1.670214e+06</td>\n",
       "      <td>1.670214e+06</td>\n",
       "      <td>1.297979e+06</td>\n",
       "      <td>1.670214e+06</td>\n",
       "      <td>1.670213e+06</td>\n",
       "      <td>7.743700e+05</td>\n",
       "      <td>1.284699e+06</td>\n",
       "      <td>1.670214e+06</td>\n",
       "      <td>1.670214e+06</td>\n",
       "      <td>774370.000000</td>\n",
       "      <td>1.670214e+06</td>\n",
       "      <td>1.670214e+06</td>\n",
       "      <td>1.297984e+06</td>\n",
       "      <td>997149.000000</td>\n",
       "      <td>997149.000000</td>\n",
       "      <td>997149.000000</td>\n",
       "      <td>997149.000000</td>\n",
       "      <td>997149.000000</td>\n",
       "      <td>997149.000000</td>\n",
       "    </tr>\n",
       "    <tr>\n",
       "      <th>mean</th>\n",
       "      <td>1.923089e+06</td>\n",
       "      <td>2.783572e+05</td>\n",
       "      <td>1.595512e+04</td>\n",
       "      <td>1.752339e+05</td>\n",
       "      <td>1.961140e+05</td>\n",
       "      <td>6.697402e+03</td>\n",
       "      <td>2.278473e+05</td>\n",
       "      <td>1.248418e+01</td>\n",
       "      <td>9.964675e-01</td>\n",
       "      <td>0.079637</td>\n",
       "      <td>-8.806797e+02</td>\n",
       "      <td>3.139511e+02</td>\n",
       "      <td>1.605408e+01</td>\n",
       "      <td>342209.855039</td>\n",
       "      <td>13826.269337</td>\n",
       "      <td>33767.774054</td>\n",
       "      <td>76582.403064</td>\n",
       "      <td>81992.343838</td>\n",
       "      <td>0.332570</td>\n",
       "    </tr>\n",
       "    <tr>\n",
       "      <th>std</th>\n",
       "      <td>5.325980e+05</td>\n",
       "      <td>1.028148e+05</td>\n",
       "      <td>1.478214e+04</td>\n",
       "      <td>2.927798e+05</td>\n",
       "      <td>3.185746e+05</td>\n",
       "      <td>2.092150e+04</td>\n",
       "      <td>3.153966e+05</td>\n",
       "      <td>3.334028e+00</td>\n",
       "      <td>5.932963e-02</td>\n",
       "      <td>0.107823</td>\n",
       "      <td>7.790997e+02</td>\n",
       "      <td>7.127443e+03</td>\n",
       "      <td>1.456729e+01</td>\n",
       "      <td>88916.115834</td>\n",
       "      <td>72444.869708</td>\n",
       "      <td>106857.034789</td>\n",
       "      <td>149647.415123</td>\n",
       "      <td>153303.516729</td>\n",
       "      <td>0.471134</td>\n",
       "    </tr>\n",
       "    <tr>\n",
       "      <th>min</th>\n",
       "      <td>1.000001e+06</td>\n",
       "      <td>1.000010e+05</td>\n",
       "      <td>0.000000e+00</td>\n",
       "      <td>0.000000e+00</td>\n",
       "      <td>0.000000e+00</td>\n",
       "      <td>-9.000000e-01</td>\n",
       "      <td>0.000000e+00</td>\n",
       "      <td>0.000000e+00</td>\n",
       "      <td>0.000000e+00</td>\n",
       "      <td>-0.000015</td>\n",
       "      <td>-2.922000e+03</td>\n",
       "      <td>-1.000000e+00</td>\n",
       "      <td>0.000000e+00</td>\n",
       "      <td>-2922.000000</td>\n",
       "      <td>-2892.000000</td>\n",
       "      <td>-2801.000000</td>\n",
       "      <td>-2889.000000</td>\n",
       "      <td>-2874.000000</td>\n",
       "      <td>0.000000</td>\n",
       "    </tr>\n",
       "    <tr>\n",
       "      <th>25%</th>\n",
       "      <td>1.461857e+06</td>\n",
       "      <td>1.893290e+05</td>\n",
       "      <td>6.321780e+03</td>\n",
       "      <td>1.872000e+04</td>\n",
       "      <td>2.416050e+04</td>\n",
       "      <td>0.000000e+00</td>\n",
       "      <td>5.084100e+04</td>\n",
       "      <td>1.000000e+01</td>\n",
       "      <td>1.000000e+00</td>\n",
       "      <td>0.000000</td>\n",
       "      <td>-1.300000e+03</td>\n",
       "      <td>-1.000000e+00</td>\n",
       "      <td>6.000000e+00</td>\n",
       "      <td>365243.000000</td>\n",
       "      <td>-1628.000000</td>\n",
       "      <td>-1242.000000</td>\n",
       "      <td>-1314.000000</td>\n",
       "      <td>-1270.000000</td>\n",
       "      <td>0.000000</td>\n",
       "    </tr>\n",
       "    <tr>\n",
       "      <th>50%</th>\n",
       "      <td>1.923110e+06</td>\n",
       "      <td>2.787145e+05</td>\n",
       "      <td>1.125000e+04</td>\n",
       "      <td>7.104600e+04</td>\n",
       "      <td>8.054100e+04</td>\n",
       "      <td>1.638000e+03</td>\n",
       "      <td>1.123200e+05</td>\n",
       "      <td>1.200000e+01</td>\n",
       "      <td>1.000000e+00</td>\n",
       "      <td>0.051605</td>\n",
       "      <td>-5.810000e+02</td>\n",
       "      <td>3.000000e+00</td>\n",
       "      <td>1.200000e+01</td>\n",
       "      <td>365243.000000</td>\n",
       "      <td>-831.000000</td>\n",
       "      <td>-361.000000</td>\n",
       "      <td>-537.000000</td>\n",
       "      <td>-499.000000</td>\n",
       "      <td>0.000000</td>\n",
       "    </tr>\n",
       "    <tr>\n",
       "      <th>75%</th>\n",
       "      <td>2.384280e+06</td>\n",
       "      <td>3.675140e+05</td>\n",
       "      <td>2.065842e+04</td>\n",
       "      <td>1.803600e+05</td>\n",
       "      <td>2.164185e+05</td>\n",
       "      <td>7.740000e+03</td>\n",
       "      <td>2.340000e+05</td>\n",
       "      <td>1.500000e+01</td>\n",
       "      <td>1.000000e+00</td>\n",
       "      <td>0.108909</td>\n",
       "      <td>-2.800000e+02</td>\n",
       "      <td>8.200000e+01</td>\n",
       "      <td>2.400000e+01</td>\n",
       "      <td>365243.000000</td>\n",
       "      <td>-411.000000</td>\n",
       "      <td>129.000000</td>\n",
       "      <td>-74.000000</td>\n",
       "      <td>-44.000000</td>\n",
       "      <td>1.000000</td>\n",
       "    </tr>\n",
       "    <tr>\n",
       "      <th>max</th>\n",
       "      <td>2.845382e+06</td>\n",
       "      <td>4.562550e+05</td>\n",
       "      <td>4.180581e+05</td>\n",
       "      <td>6.905160e+06</td>\n",
       "      <td>6.905160e+06</td>\n",
       "      <td>3.060045e+06</td>\n",
       "      <td>6.905160e+06</td>\n",
       "      <td>2.300000e+01</td>\n",
       "      <td>1.000000e+00</td>\n",
       "      <td>1.000000</td>\n",
       "      <td>-1.000000e+00</td>\n",
       "      <td>4.000000e+06</td>\n",
       "      <td>8.400000e+01</td>\n",
       "      <td>365243.000000</td>\n",
       "      <td>365243.000000</td>\n",
       "      <td>365243.000000</td>\n",
       "      <td>365243.000000</td>\n",
       "      <td>365243.000000</td>\n",
       "      <td>1.000000</td>\n",
       "    </tr>\n",
       "  </tbody>\n",
       "</table>\n",
       "</div>"
      ],
      "text/plain": [
       "         SK_ID_PREV    SK_ID_CURR   AMT_ANNUITY  AMT_APPLICATION  \\\n",
       "count  1.670214e+06  1.670214e+06  1.297979e+06     1.670214e+06   \n",
       "mean   1.923089e+06  2.783572e+05  1.595512e+04     1.752339e+05   \n",
       "std    5.325980e+05  1.028148e+05  1.478214e+04     2.927798e+05   \n",
       "min    1.000001e+06  1.000010e+05  0.000000e+00     0.000000e+00   \n",
       "25%    1.461857e+06  1.893290e+05  6.321780e+03     1.872000e+04   \n",
       "50%    1.923110e+06  2.787145e+05  1.125000e+04     7.104600e+04   \n",
       "75%    2.384280e+06  3.675140e+05  2.065842e+04     1.803600e+05   \n",
       "max    2.845382e+06  4.562550e+05  4.180581e+05     6.905160e+06   \n",
       "\n",
       "         AMT_CREDIT  AMT_DOWN_PAYMENT  AMT_GOODS_PRICE  \\\n",
       "count  1.670213e+06      7.743700e+05     1.284699e+06   \n",
       "mean   1.961140e+05      6.697402e+03     2.278473e+05   \n",
       "std    3.185746e+05      2.092150e+04     3.153966e+05   \n",
       "min    0.000000e+00     -9.000000e-01     0.000000e+00   \n",
       "25%    2.416050e+04      0.000000e+00     5.084100e+04   \n",
       "50%    8.054100e+04      1.638000e+03     1.123200e+05   \n",
       "75%    2.164185e+05      7.740000e+03     2.340000e+05   \n",
       "max    6.905160e+06      3.060045e+06     6.905160e+06   \n",
       "\n",
       "       HOUR_APPR_PROCESS_START  NFLAG_LAST_APPL_IN_DAY  RATE_DOWN_PAYMENT  \\\n",
       "count             1.670214e+06            1.670214e+06      774370.000000   \n",
       "mean              1.248418e+01            9.964675e-01           0.079637   \n",
       "std               3.334028e+00            5.932963e-02           0.107823   \n",
       "min               0.000000e+00            0.000000e+00          -0.000015   \n",
       "25%               1.000000e+01            1.000000e+00           0.000000   \n",
       "50%               1.200000e+01            1.000000e+00           0.051605   \n",
       "75%               1.500000e+01            1.000000e+00           0.108909   \n",
       "max               2.300000e+01            1.000000e+00           1.000000   \n",
       "\n",
       "       DAYS_DECISION  SELLERPLACE_AREA   CNT_PAYMENT  DAYS_FIRST_DRAWING  \\\n",
       "count   1.670214e+06      1.670214e+06  1.297984e+06       997149.000000   \n",
       "mean   -8.806797e+02      3.139511e+02  1.605408e+01       342209.855039   \n",
       "std     7.790997e+02      7.127443e+03  1.456729e+01        88916.115834   \n",
       "min    -2.922000e+03     -1.000000e+00  0.000000e+00        -2922.000000   \n",
       "25%    -1.300000e+03     -1.000000e+00  6.000000e+00       365243.000000   \n",
       "50%    -5.810000e+02      3.000000e+00  1.200000e+01       365243.000000   \n",
       "75%    -2.800000e+02      8.200000e+01  2.400000e+01       365243.000000   \n",
       "max    -1.000000e+00      4.000000e+06  8.400000e+01       365243.000000   \n",
       "\n",
       "       DAYS_FIRST_DUE  DAYS_LAST_DUE_1ST_VERSION  DAYS_LAST_DUE  \\\n",
       "count   997149.000000              997149.000000  997149.000000   \n",
       "mean     13826.269337               33767.774054   76582.403064   \n",
       "std      72444.869708              106857.034789  149647.415123   \n",
       "min      -2892.000000               -2801.000000   -2889.000000   \n",
       "25%      -1628.000000               -1242.000000   -1314.000000   \n",
       "50%       -831.000000                -361.000000    -537.000000   \n",
       "75%       -411.000000                 129.000000     -74.000000   \n",
       "max     365243.000000              365243.000000  365243.000000   \n",
       "\n",
       "       DAYS_TERMINATION  NFLAG_INSURED_ON_APPROVAL  \n",
       "count     997149.000000              997149.000000  \n",
       "mean       81992.343838                   0.332570  \n",
       "std       153303.516729                   0.471134  \n",
       "min        -2874.000000                   0.000000  \n",
       "25%        -1270.000000                   0.000000  \n",
       "50%         -499.000000                   0.000000  \n",
       "75%          -44.000000                   1.000000  \n",
       "max       365243.000000                   1.000000  "
      ]
     },
     "execution_count": 68,
     "metadata": {},
     "output_type": "execute_result"
    }
   ],
   "source": [
    "inp0.describe()"
   ]
  },
  {
   "cell_type": "markdown",
   "id": "04c59c63",
   "metadata": {},
   "source": [
    "#### Change the categorical datatype to Object "
   ]
  },
  {
   "cell_type": "code",
   "execution_count": 69,
   "id": "8fb517e0",
   "metadata": {},
   "outputs": [],
   "source": [
    "for i in cat_col:\n",
    "    inp0[i]=inp0[i].astype(\"object\")"
   ]
  },
  {
   "cell_type": "code",
   "execution_count": 70,
   "id": "7713068f",
   "metadata": {},
   "outputs": [
    {
     "data": {
      "text/html": [
       "<div>\n",
       "<style scoped>\n",
       "    .dataframe tbody tr th:only-of-type {\n",
       "        vertical-align: middle;\n",
       "    }\n",
       "\n",
       "    .dataframe tbody tr th {\n",
       "        vertical-align: top;\n",
       "    }\n",
       "\n",
       "    .dataframe thead th {\n",
       "        text-align: right;\n",
       "    }\n",
       "</style>\n",
       "<table border=\"1\" class=\"dataframe\">\n",
       "  <thead>\n",
       "    <tr style=\"text-align: right;\">\n",
       "      <th></th>\n",
       "      <th>SK_ID_PREV</th>\n",
       "      <th>SK_ID_CURR</th>\n",
       "      <th>AMT_ANNUITY</th>\n",
       "      <th>AMT_APPLICATION</th>\n",
       "      <th>AMT_CREDIT</th>\n",
       "      <th>AMT_DOWN_PAYMENT</th>\n",
       "      <th>AMT_GOODS_PRICE</th>\n",
       "      <th>RATE_DOWN_PAYMENT</th>\n",
       "      <th>DAYS_DECISION</th>\n",
       "      <th>SELLERPLACE_AREA</th>\n",
       "      <th>CNT_PAYMENT</th>\n",
       "      <th>DAYS_FIRST_DRAWING</th>\n",
       "      <th>DAYS_FIRST_DUE</th>\n",
       "      <th>DAYS_LAST_DUE_1ST_VERSION</th>\n",
       "      <th>DAYS_LAST_DUE</th>\n",
       "      <th>DAYS_TERMINATION</th>\n",
       "    </tr>\n",
       "  </thead>\n",
       "  <tbody>\n",
       "    <tr>\n",
       "      <th>count</th>\n",
       "      <td>1.670214e+06</td>\n",
       "      <td>1.670214e+06</td>\n",
       "      <td>1.297979e+06</td>\n",
       "      <td>1.670214e+06</td>\n",
       "      <td>1.670213e+06</td>\n",
       "      <td>7.743700e+05</td>\n",
       "      <td>1.284699e+06</td>\n",
       "      <td>774370.000000</td>\n",
       "      <td>1.670214e+06</td>\n",
       "      <td>1.670214e+06</td>\n",
       "      <td>1.297984e+06</td>\n",
       "      <td>997149.000000</td>\n",
       "      <td>997149.000000</td>\n",
       "      <td>997149.000000</td>\n",
       "      <td>997149.000000</td>\n",
       "      <td>997149.000000</td>\n",
       "    </tr>\n",
       "    <tr>\n",
       "      <th>mean</th>\n",
       "      <td>1.923089e+06</td>\n",
       "      <td>2.783572e+05</td>\n",
       "      <td>1.595512e+04</td>\n",
       "      <td>1.752339e+05</td>\n",
       "      <td>1.961140e+05</td>\n",
       "      <td>6.697402e+03</td>\n",
       "      <td>2.278473e+05</td>\n",
       "      <td>0.079637</td>\n",
       "      <td>-8.806797e+02</td>\n",
       "      <td>3.139511e+02</td>\n",
       "      <td>1.605408e+01</td>\n",
       "      <td>342209.855039</td>\n",
       "      <td>13826.269337</td>\n",
       "      <td>33767.774054</td>\n",
       "      <td>76582.403064</td>\n",
       "      <td>81992.343838</td>\n",
       "    </tr>\n",
       "    <tr>\n",
       "      <th>std</th>\n",
       "      <td>5.325980e+05</td>\n",
       "      <td>1.028148e+05</td>\n",
       "      <td>1.478214e+04</td>\n",
       "      <td>2.927798e+05</td>\n",
       "      <td>3.185746e+05</td>\n",
       "      <td>2.092150e+04</td>\n",
       "      <td>3.153966e+05</td>\n",
       "      <td>0.107823</td>\n",
       "      <td>7.790997e+02</td>\n",
       "      <td>7.127443e+03</td>\n",
       "      <td>1.456729e+01</td>\n",
       "      <td>88916.115834</td>\n",
       "      <td>72444.869708</td>\n",
       "      <td>106857.034789</td>\n",
       "      <td>149647.415123</td>\n",
       "      <td>153303.516729</td>\n",
       "    </tr>\n",
       "    <tr>\n",
       "      <th>min</th>\n",
       "      <td>1.000001e+06</td>\n",
       "      <td>1.000010e+05</td>\n",
       "      <td>0.000000e+00</td>\n",
       "      <td>0.000000e+00</td>\n",
       "      <td>0.000000e+00</td>\n",
       "      <td>-9.000000e-01</td>\n",
       "      <td>0.000000e+00</td>\n",
       "      <td>-0.000015</td>\n",
       "      <td>-2.922000e+03</td>\n",
       "      <td>-1.000000e+00</td>\n",
       "      <td>0.000000e+00</td>\n",
       "      <td>-2922.000000</td>\n",
       "      <td>-2892.000000</td>\n",
       "      <td>-2801.000000</td>\n",
       "      <td>-2889.000000</td>\n",
       "      <td>-2874.000000</td>\n",
       "    </tr>\n",
       "    <tr>\n",
       "      <th>25%</th>\n",
       "      <td>1.461857e+06</td>\n",
       "      <td>1.893290e+05</td>\n",
       "      <td>6.321780e+03</td>\n",
       "      <td>1.872000e+04</td>\n",
       "      <td>2.416050e+04</td>\n",
       "      <td>0.000000e+00</td>\n",
       "      <td>5.084100e+04</td>\n",
       "      <td>0.000000</td>\n",
       "      <td>-1.300000e+03</td>\n",
       "      <td>-1.000000e+00</td>\n",
       "      <td>6.000000e+00</td>\n",
       "      <td>365243.000000</td>\n",
       "      <td>-1628.000000</td>\n",
       "      <td>-1242.000000</td>\n",
       "      <td>-1314.000000</td>\n",
       "      <td>-1270.000000</td>\n",
       "    </tr>\n",
       "    <tr>\n",
       "      <th>50%</th>\n",
       "      <td>1.923110e+06</td>\n",
       "      <td>2.787145e+05</td>\n",
       "      <td>1.125000e+04</td>\n",
       "      <td>7.104600e+04</td>\n",
       "      <td>8.054100e+04</td>\n",
       "      <td>1.638000e+03</td>\n",
       "      <td>1.123200e+05</td>\n",
       "      <td>0.051605</td>\n",
       "      <td>-5.810000e+02</td>\n",
       "      <td>3.000000e+00</td>\n",
       "      <td>1.200000e+01</td>\n",
       "      <td>365243.000000</td>\n",
       "      <td>-831.000000</td>\n",
       "      <td>-361.000000</td>\n",
       "      <td>-537.000000</td>\n",
       "      <td>-499.000000</td>\n",
       "    </tr>\n",
       "    <tr>\n",
       "      <th>75%</th>\n",
       "      <td>2.384280e+06</td>\n",
       "      <td>3.675140e+05</td>\n",
       "      <td>2.065842e+04</td>\n",
       "      <td>1.803600e+05</td>\n",
       "      <td>2.164185e+05</td>\n",
       "      <td>7.740000e+03</td>\n",
       "      <td>2.340000e+05</td>\n",
       "      <td>0.108909</td>\n",
       "      <td>-2.800000e+02</td>\n",
       "      <td>8.200000e+01</td>\n",
       "      <td>2.400000e+01</td>\n",
       "      <td>365243.000000</td>\n",
       "      <td>-411.000000</td>\n",
       "      <td>129.000000</td>\n",
       "      <td>-74.000000</td>\n",
       "      <td>-44.000000</td>\n",
       "    </tr>\n",
       "    <tr>\n",
       "      <th>max</th>\n",
       "      <td>2.845382e+06</td>\n",
       "      <td>4.562550e+05</td>\n",
       "      <td>4.180581e+05</td>\n",
       "      <td>6.905160e+06</td>\n",
       "      <td>6.905160e+06</td>\n",
       "      <td>3.060045e+06</td>\n",
       "      <td>6.905160e+06</td>\n",
       "      <td>1.000000</td>\n",
       "      <td>-1.000000e+00</td>\n",
       "      <td>4.000000e+06</td>\n",
       "      <td>8.400000e+01</td>\n",
       "      <td>365243.000000</td>\n",
       "      <td>365243.000000</td>\n",
       "      <td>365243.000000</td>\n",
       "      <td>365243.000000</td>\n",
       "      <td>365243.000000</td>\n",
       "    </tr>\n",
       "  </tbody>\n",
       "</table>\n",
       "</div>"
      ],
      "text/plain": [
       "         SK_ID_PREV    SK_ID_CURR   AMT_ANNUITY  AMT_APPLICATION  \\\n",
       "count  1.670214e+06  1.670214e+06  1.297979e+06     1.670214e+06   \n",
       "mean   1.923089e+06  2.783572e+05  1.595512e+04     1.752339e+05   \n",
       "std    5.325980e+05  1.028148e+05  1.478214e+04     2.927798e+05   \n",
       "min    1.000001e+06  1.000010e+05  0.000000e+00     0.000000e+00   \n",
       "25%    1.461857e+06  1.893290e+05  6.321780e+03     1.872000e+04   \n",
       "50%    1.923110e+06  2.787145e+05  1.125000e+04     7.104600e+04   \n",
       "75%    2.384280e+06  3.675140e+05  2.065842e+04     1.803600e+05   \n",
       "max    2.845382e+06  4.562550e+05  4.180581e+05     6.905160e+06   \n",
       "\n",
       "         AMT_CREDIT  AMT_DOWN_PAYMENT  AMT_GOODS_PRICE  RATE_DOWN_PAYMENT  \\\n",
       "count  1.670213e+06      7.743700e+05     1.284699e+06      774370.000000   \n",
       "mean   1.961140e+05      6.697402e+03     2.278473e+05           0.079637   \n",
       "std    3.185746e+05      2.092150e+04     3.153966e+05           0.107823   \n",
       "min    0.000000e+00     -9.000000e-01     0.000000e+00          -0.000015   \n",
       "25%    2.416050e+04      0.000000e+00     5.084100e+04           0.000000   \n",
       "50%    8.054100e+04      1.638000e+03     1.123200e+05           0.051605   \n",
       "75%    2.164185e+05      7.740000e+03     2.340000e+05           0.108909   \n",
       "max    6.905160e+06      3.060045e+06     6.905160e+06           1.000000   \n",
       "\n",
       "       DAYS_DECISION  SELLERPLACE_AREA   CNT_PAYMENT  DAYS_FIRST_DRAWING  \\\n",
       "count   1.670214e+06      1.670214e+06  1.297984e+06       997149.000000   \n",
       "mean   -8.806797e+02      3.139511e+02  1.605408e+01       342209.855039   \n",
       "std     7.790997e+02      7.127443e+03  1.456729e+01        88916.115834   \n",
       "min    -2.922000e+03     -1.000000e+00  0.000000e+00        -2922.000000   \n",
       "25%    -1.300000e+03     -1.000000e+00  6.000000e+00       365243.000000   \n",
       "50%    -5.810000e+02      3.000000e+00  1.200000e+01       365243.000000   \n",
       "75%    -2.800000e+02      8.200000e+01  2.400000e+01       365243.000000   \n",
       "max    -1.000000e+00      4.000000e+06  8.400000e+01       365243.000000   \n",
       "\n",
       "       DAYS_FIRST_DUE  DAYS_LAST_DUE_1ST_VERSION  DAYS_LAST_DUE  \\\n",
       "count   997149.000000              997149.000000  997149.000000   \n",
       "mean     13826.269337               33767.774054   76582.403064   \n",
       "std      72444.869708              106857.034789  149647.415123   \n",
       "min      -2892.000000               -2801.000000   -2889.000000   \n",
       "25%      -1628.000000               -1242.000000   -1314.000000   \n",
       "50%       -831.000000                -361.000000    -537.000000   \n",
       "75%       -411.000000                 129.000000     -74.000000   \n",
       "max     365243.000000              365243.000000  365243.000000   \n",
       "\n",
       "       DAYS_TERMINATION  \n",
       "count     997149.000000  \n",
       "mean       81992.343838  \n",
       "std       153303.516729  \n",
       "min        -2874.000000  \n",
       "25%        -1270.000000  \n",
       "50%         -499.000000  \n",
       "75%          -44.000000  \n",
       "max       365243.000000  "
      ]
     },
     "execution_count": 70,
     "metadata": {},
     "output_type": "execute_result"
    }
   ],
   "source": [
    "inp0.describe()"
   ]
  },
  {
   "cell_type": "markdown",
   "id": "f2f643fd",
   "metadata": {},
   "source": [
    "### Merging Application data and Privious application data with ID"
   ]
  },
  {
   "cell_type": "code",
   "execution_count": 71,
   "id": "b11b9b44",
   "metadata": {},
   "outputs": [],
   "source": [
    "inp1_1=inp1_1.merge(inp0, on=\"SK_ID_CURR\")  ## merge the application and previous application data sets target value is 1"
   ]
  },
  {
   "cell_type": "code",
   "execution_count": 72,
   "id": "de69109e",
   "metadata": {},
   "outputs": [],
   "source": [
    "inp1_0=inp1_0.merge(inp0, on=\"SK_ID_CURR\") ## merge the application and previous application data set target value is 0"
   ]
  },
  {
   "cell_type": "code",
   "execution_count": 73,
   "id": "29d6d645",
   "metadata": {},
   "outputs": [
    {
     "data": {
      "text/plain": [
       "(18150, 114)"
      ]
     },
     "execution_count": 73,
     "metadata": {},
     "output_type": "execute_result"
    }
   ],
   "source": [
    "inp1_1.shape"
   ]
  },
  {
   "cell_type": "code",
   "execution_count": 74,
   "id": "e3d80aac",
   "metadata": {},
   "outputs": [
    {
     "data": {
      "text/plain": [
       "(63145, 114)"
      ]
     },
     "execution_count": 74,
     "metadata": {},
     "output_type": "execute_result"
    }
   ],
   "source": [
    "inp1_0.shape"
   ]
  },
  {
   "cell_type": "code",
   "execution_count": 75,
   "id": "e757e048",
   "metadata": {},
   "outputs": [
    {
     "name": "stdout",
     "output_type": "stream",
     "text": [
      "<class 'pandas.core.frame.DataFrame'>\n",
      "Int64Index: 18150 entries, 0 to 18149\n",
      "Columns: 114 entries, SK_ID_CURR to NFLAG_INSURED_ON_APPROVAL\n",
      "dtypes: float64(42), int64(41), object(31)\n",
      "memory usage: 15.9+ MB\n"
     ]
    }
   ],
   "source": [
    "inp1_1.info()"
   ]
  },
  {
   "cell_type": "code",
   "execution_count": 76,
   "id": "8823cd69",
   "metadata": {},
   "outputs": [
    {
     "name": "stdout",
     "output_type": "stream",
     "text": [
      "<class 'pandas.core.frame.DataFrame'>\n",
      "Int64Index: 63145 entries, 0 to 63144\n",
      "Columns: 114 entries, SK_ID_CURR to NFLAG_INSURED_ON_APPROVAL\n",
      "dtypes: float64(42), int64(41), object(31)\n",
      "memory usage: 55.4+ MB\n"
     ]
    }
   ],
   "source": [
    "inp1_0.info()"
   ]
  },
  {
   "cell_type": "code",
   "execution_count": 77,
   "id": "a78836ea",
   "metadata": {},
   "outputs": [
    {
     "data": {
      "text/plain": [
       "Index(['SK_ID_CURR', 'TARGET', 'NAME_CONTRACT_TYPE_x', 'CODE_GENDER',\n",
       "       'FLAG_OWN_CAR', 'FLAG_OWN_REALTY', 'CNT_CHILDREN', 'AMT_INCOME_TOTAL',\n",
       "       'AMT_CREDIT_x', 'AMT_ANNUITY_x',\n",
       "       ...\n",
       "       'NAME_SELLER_INDUSTRY', 'CNT_PAYMENT', 'NAME_YIELD_GROUP',\n",
       "       'PRODUCT_COMBINATION', 'DAYS_FIRST_DRAWING', 'DAYS_FIRST_DUE',\n",
       "       'DAYS_LAST_DUE_1ST_VERSION', 'DAYS_LAST_DUE', 'DAYS_TERMINATION',\n",
       "       'NFLAG_INSURED_ON_APPROVAL'],\n",
       "      dtype='object', length=114)"
      ]
     },
     "execution_count": 77,
     "metadata": {},
     "output_type": "execute_result"
    }
   ],
   "source": [
    "inp1_1.columns"
   ]
  },
  {
   "cell_type": "code",
   "execution_count": 78,
   "id": "60d9e3b6",
   "metadata": {},
   "outputs": [
    {
     "name": "stdout",
     "output_type": "stream",
     "text": [
      "18\n",
      "14\n"
     ]
    }
   ],
   "source": [
    "cat_col=[\"NAME_CONTRACT_TYPE\",\"WEEKDAY_APPR_PROCESS_START\",\"HOUR_APPR_PROCESS_START\",\"FLAG_LAST_APPL_PER_CONTRACT\",\"NFLAG_LAST_APPL_IN_DAY\",\"NAME_CONTRACT_STATUS\",\"NAME_PAYMENT_TYPE\",\"CODE_REJECT_REASON\",\"NAME_TYPE_SUITE\",\"NAME_CLIENT_TYPE\",\"NAME_GOODS_CATEGORY\",\"NAME_PORTFOLIO\",\"NAME_PRODUCT_TYPE\",\"CHANNEL_TYPE\",\"NAME_SELLER_INDUSTRY\",\"NAME_YIELD_GROUP\",\"PRODUCT_COMBINATION\",\"NFLAG_INSURED_ON_APPROVAL\"]\n",
    "cont_col=[\"AMT_ANNUITY \",\"AMT_APPLICATION\",\"AMT_CREDIT\",\"AMT_DOWN_PAYMENT\",\"AMT_GOODS_PRICE\",\"RATE_DOWN_PAYMENT\",\"DAYS_DECISION\",\"SELLERPLACE_AREA\",\"CNT_PAYMENT\",\"DAYS_FIRST_DRAWING\",\"DAYS_FIRST_DUE\",\"DAYS_LAST_DUE_1ST_VERSION\",\"DAYS_LAST_DUE\",\"DAYS_TERMINATION\"]\n",
    "print(len(cat_col))\n",
    "print(len(cont_col))"
   ]
  },
  {
   "cell_type": "code",
   "execution_count": 79,
   "id": "8e874663",
   "metadata": {},
   "outputs": [
    {
     "data": {
      "text/plain": [
       "SK_ID_CURR                       0.000000\n",
       "TARGET                           0.000000\n",
       "NAME_CONTRACT_TYPE_x             0.000000\n",
       "CODE_GENDER                      0.000000\n",
       "FLAG_OWN_CAR                     0.000000\n",
       "FLAG_OWN_REALTY                  0.000000\n",
       "CNT_CHILDREN                     0.000000\n",
       "AMT_INCOME_TOTAL                 0.000000\n",
       "AMT_CREDIT_x                     0.000000\n",
       "AMT_ANNUITY_x                    0.000000\n",
       "AMT_GOODS_PRICE_x                0.000000\n",
       "NAME_TYPE_SUITE_x                0.000000\n",
       "NAME_INCOME_TYPE                 0.000000\n",
       "NAME_EDUCATION_TYPE              0.000000\n",
       "NAME_FAMILY_STATUS               0.000000\n",
       "NAME_HOUSING_TYPE                0.000000\n",
       "REGION_POPULATION_RELATIVE       0.000000\n",
       "DAYS_BIRTH                       0.000000\n",
       "DAYS_EMPLOYED                    0.000000\n",
       "DAYS_REGISTRATION                0.000000\n",
       "DAYS_ID_PUBLISH                  0.000000\n",
       "FLAG_MOBIL                       0.000000\n",
       "FLAG_EMP_PHONE                   0.000000\n",
       "FLAG_WORK_PHONE                  0.000000\n",
       "FLAG_CONT_MOBILE                 0.000000\n",
       "FLAG_PHONE                       0.000000\n",
       "FLAG_EMAIL                       0.000000\n",
       "OCCUPATION_TYPE                  0.000000\n",
       "CNT_FAM_MEMBERS                  0.000000\n",
       "REGION_RATING_CLIENT             0.000000\n",
       "REGION_RATING_CLIENT_W_CITY      0.000000\n",
       "WEEKDAY_APPR_PROCESS_START_x     0.000000\n",
       "HOUR_APPR_PROCESS_START_x        0.000000\n",
       "REG_REGION_NOT_LIVE_REGION       0.000000\n",
       "REG_REGION_NOT_WORK_REGION       0.000000\n",
       "LIVE_REGION_NOT_WORK_REGION      0.000000\n",
       "REG_CITY_NOT_LIVE_CITY           0.000000\n",
       "REG_CITY_NOT_WORK_CITY           0.000000\n",
       "LIVE_CITY_NOT_WORK_CITY          0.000000\n",
       "ORGANIZATION_TYPE                0.000000\n",
       "EXT_SOURCE_2                     0.000000\n",
       "EXT_SOURCE_3                     0.000000\n",
       "YEARS_BEGINEXPLUATATION_AVG      0.000000\n",
       "FLOORSMAX_AVG                    0.000000\n",
       "YEARS_BEGINEXPLUATATION_MODE     0.000000\n",
       "FLOORSMAX_MODE                   0.000000\n",
       "YEARS_BEGINEXPLUATATION_MEDI     0.000000\n",
       "FLOORSMAX_MEDI                   0.000000\n",
       "TOTALAREA_MODE                   0.000000\n",
       "EMERGENCYSTATE_MODE              0.000000\n",
       "OBS_30_CNT_SOCIAL_CIRCLE         0.000000\n",
       "DEF_30_CNT_SOCIAL_CIRCLE         0.000000\n",
       "OBS_60_CNT_SOCIAL_CIRCLE         0.000000\n",
       "DEF_60_CNT_SOCIAL_CIRCLE         0.000000\n",
       "DAYS_LAST_PHONE_CHANGE           0.000000\n",
       "FLAG_DOCUMENT_2                  0.000000\n",
       "FLAG_DOCUMENT_3                  0.000000\n",
       "FLAG_DOCUMENT_4                  0.000000\n",
       "FLAG_DOCUMENT_5                  0.000000\n",
       "FLAG_DOCUMENT_6                  0.000000\n",
       "FLAG_DOCUMENT_7                  0.000000\n",
       "FLAG_DOCUMENT_8                  0.000000\n",
       "FLAG_DOCUMENT_9                  0.000000\n",
       "FLAG_DOCUMENT_10                 0.000000\n",
       "FLAG_DOCUMENT_11                 0.000000\n",
       "FLAG_DOCUMENT_12                 0.000000\n",
       "FLAG_DOCUMENT_13                 0.000000\n",
       "FLAG_DOCUMENT_14                 0.000000\n",
       "FLAG_DOCUMENT_15                 0.000000\n",
       "FLAG_DOCUMENT_16                 0.000000\n",
       "FLAG_DOCUMENT_17                 0.000000\n",
       "FLAG_DOCUMENT_18                 0.000000\n",
       "FLAG_DOCUMENT_19                 0.000000\n",
       "FLAG_DOCUMENT_20                 0.000000\n",
       "FLAG_DOCUMENT_21                 0.000000\n",
       "AMT_REQ_CREDIT_BUREAU_HOUR       0.000000\n",
       "AMT_REQ_CREDIT_BUREAU_DAY        0.000000\n",
       "AMT_REQ_CREDIT_BUREAU_WEEK       0.000000\n",
       "AMT_REQ_CREDIT_BUREAU_MON        0.000000\n",
       "AMT_REQ_CREDIT_BUREAU_QRT        0.000000\n",
       "AMT_REQ_CREDIT_BUREAU_YEAR       0.000000\n",
       "SK_ID_PREV                       0.000000\n",
       "NAME_CONTRACT_TYPE_y             0.000000\n",
       "AMT_ANNUITY_y                   27.724518\n",
       "AMT_APPLICATION                  0.000000\n",
       "AMT_CREDIT_y                     0.000000\n",
       "AMT_DOWN_PAYMENT                61.691460\n",
       "AMT_GOODS_PRICE_y               27.333333\n",
       "WEEKDAY_APPR_PROCESS_START_y     0.000000\n",
       "HOUR_APPR_PROCESS_START_y        0.000000\n",
       "FLAG_LAST_APPL_PER_CONTRACT      0.000000\n",
       "NFLAG_LAST_APPL_IN_DAY           0.000000\n",
       "RATE_DOWN_PAYMENT               61.691460\n",
       "NAME_CONTRACT_STATUS             0.000000\n",
       "DAYS_DECISION                    0.000000\n",
       "NAME_PAYMENT_TYPE                0.000000\n",
       "CODE_REJECT_REASON               0.000000\n",
       "NAME_TYPE_SUITE_y               56.490358\n",
       "NAME_CLIENT_TYPE                 0.000000\n",
       "NAME_GOODS_CATEGORY              0.000000\n",
       "NAME_PORTFOLIO                   0.000000\n",
       "NAME_PRODUCT_TYPE                0.000000\n",
       "CHANNEL_TYPE                     0.000000\n",
       "SELLERPLACE_AREA                 0.000000\n",
       "NAME_SELLER_INDUSTRY             0.000000\n",
       "CNT_PAYMENT                     27.724518\n",
       "NAME_YIELD_GROUP                 0.000000\n",
       "PRODUCT_COMBINATION              0.121212\n",
       "DAYS_FIRST_DRAWING              55.206612\n",
       "DAYS_FIRST_DUE                  55.206612\n",
       "DAYS_LAST_DUE_1ST_VERSION       55.206612\n",
       "DAYS_LAST_DUE                   55.206612\n",
       "DAYS_TERMINATION                55.206612\n",
       "NFLAG_INSURED_ON_APPROVAL       55.206612\n",
       "dtype: float64"
      ]
     },
     "execution_count": 79,
     "metadata": {},
     "output_type": "execute_result"
    }
   ],
   "source": [
    "inp1_1.isnull().mean()*100"
   ]
  },
  {
   "cell_type": "code",
   "execution_count": 80,
   "id": "6bb9f901",
   "metadata": {},
   "outputs": [],
   "source": [
    "temp=(inp1_1.isnull().mean()*100).reset_index()\n",
    "temp=temp.rename(columns={0:\"missing value %\"})\n",
    "drop_col=list(temp[temp[\"missing value %\"]>50][\"index\"])"
   ]
  },
  {
   "cell_type": "code",
   "execution_count": 81,
   "id": "48e64941",
   "metadata": {},
   "outputs": [],
   "source": [
    "inp1_temp=inp1_1.drop(drop_col, axis=1, inplace=True)"
   ]
  },
  {
   "cell_type": "code",
   "execution_count": 82,
   "id": "589f80fe",
   "metadata": {},
   "outputs": [
    {
     "data": {
      "text/plain": [
       "(18150, 105)"
      ]
     },
     "execution_count": 82,
     "metadata": {},
     "output_type": "execute_result"
    }
   ],
   "source": [
    "inp1_1.shape"
   ]
  },
  {
   "cell_type": "code",
   "execution_count": 83,
   "id": "f6ff752d",
   "metadata": {},
   "outputs": [
    {
     "data": {
      "text/html": [
       "<div>\n",
       "<style scoped>\n",
       "    .dataframe tbody tr th:only-of-type {\n",
       "        vertical-align: middle;\n",
       "    }\n",
       "\n",
       "    .dataframe tbody tr th {\n",
       "        vertical-align: top;\n",
       "    }\n",
       "\n",
       "    .dataframe thead th {\n",
       "        text-align: right;\n",
       "    }\n",
       "</style>\n",
       "<table border=\"1\" class=\"dataframe\">\n",
       "  <thead>\n",
       "    <tr style=\"text-align: right;\">\n",
       "      <th></th>\n",
       "      <th>index</th>\n",
       "      <th>missing value %</th>\n",
       "    </tr>\n",
       "  </thead>\n",
       "  <tbody>\n",
       "    <tr>\n",
       "      <th>83</th>\n",
       "      <td>AMT_ANNUITY_y</td>\n",
       "      <td>27.724518</td>\n",
       "    </tr>\n",
       "    <tr>\n",
       "      <th>86</th>\n",
       "      <td>AMT_GOODS_PRICE_y</td>\n",
       "      <td>27.333333</td>\n",
       "    </tr>\n",
       "    <tr>\n",
       "      <th>102</th>\n",
       "      <td>CNT_PAYMENT</td>\n",
       "      <td>27.724518</td>\n",
       "    </tr>\n",
       "    <tr>\n",
       "      <th>104</th>\n",
       "      <td>PRODUCT_COMBINATION</td>\n",
       "      <td>0.121212</td>\n",
       "    </tr>\n",
       "  </tbody>\n",
       "</table>\n",
       "</div>"
      ],
      "text/plain": [
       "                   index  missing value %\n",
       "83         AMT_ANNUITY_y        27.724518\n",
       "86     AMT_GOODS_PRICE_y        27.333333\n",
       "102          CNT_PAYMENT        27.724518\n",
       "104  PRODUCT_COMBINATION         0.121212"
      ]
     },
     "execution_count": 83,
     "metadata": {},
     "output_type": "execute_result"
    }
   ],
   "source": [
    "temp=(inp1_1.isnull().mean()*100).reset_index()\n",
    "temp=temp.rename(columns={0:\"missing value %\"})\n",
    "temp[temp[\"missing value %\"]>0]"
   ]
  },
  {
   "cell_type": "code",
   "execution_count": 84,
   "id": "0aa92dc8",
   "metadata": {},
   "outputs": [
    {
     "data": {
      "text/plain": [
       "17"
      ]
     },
     "execution_count": 84,
     "metadata": {},
     "output_type": "execute_result"
    }
   ],
   "source": [
    "inp1_1.PRODUCT_COMBINATION.nunique()"
   ]
  },
  {
   "cell_type": "code",
   "execution_count": 85,
   "id": "b8915811",
   "metadata": {},
   "outputs": [],
   "source": [
    "cont_=[\"AMT_ANNUITY_y\",\"AMT_GOODS_PRICE_y\"]\n",
    "cat_=[\"CNT_PAYMENT\",\"PRODUCT_COMBINATION\"]"
   ]
  },
  {
   "cell_type": "code",
   "execution_count": 86,
   "id": "2bfb1ec3",
   "metadata": {},
   "outputs": [],
   "source": [
    "for i in cont_:\n",
    "    median_=inp1_1[i].median()\n",
    "    inp1_1[i]=inp1_1[i].fillna(median_)"
   ]
  },
  {
   "cell_type": "code",
   "execution_count": 87,
   "id": "d7615194",
   "metadata": {},
   "outputs": [],
   "source": [
    "for i in cat_:\n",
    "    mode_=inp1_1[i].mode()[0]\n",
    "    inp1_1[i]=inp1_1[i].fillna(mode_)"
   ]
  },
  {
   "cell_type": "code",
   "execution_count": 88,
   "id": "cfefbbad",
   "metadata": {},
   "outputs": [
    {
     "data": {
      "text/plain": [
       "SK_ID_CURR                       0.000000\n",
       "TARGET                           0.000000\n",
       "NAME_CONTRACT_TYPE_x             0.000000\n",
       "CODE_GENDER                      0.000000\n",
       "FLAG_OWN_CAR                     0.000000\n",
       "FLAG_OWN_REALTY                  0.000000\n",
       "CNT_CHILDREN                     0.000000\n",
       "AMT_INCOME_TOTAL                 0.000000\n",
       "AMT_CREDIT_x                     0.000000\n",
       "AMT_ANNUITY_x                    0.000000\n",
       "AMT_GOODS_PRICE_x                0.000000\n",
       "NAME_TYPE_SUITE_x                0.000000\n",
       "NAME_INCOME_TYPE                 0.000000\n",
       "NAME_EDUCATION_TYPE              0.000000\n",
       "NAME_FAMILY_STATUS               0.000000\n",
       "NAME_HOUSING_TYPE                0.000000\n",
       "REGION_POPULATION_RELATIVE       0.000000\n",
       "DAYS_BIRTH                       0.000000\n",
       "DAYS_EMPLOYED                    0.000000\n",
       "DAYS_REGISTRATION                0.000000\n",
       "DAYS_ID_PUBLISH                  0.000000\n",
       "FLAG_MOBIL                       0.000000\n",
       "FLAG_EMP_PHONE                   0.000000\n",
       "FLAG_WORK_PHONE                  0.000000\n",
       "FLAG_CONT_MOBILE                 0.000000\n",
       "FLAG_PHONE                       0.000000\n",
       "FLAG_EMAIL                       0.000000\n",
       "OCCUPATION_TYPE                  0.000000\n",
       "CNT_FAM_MEMBERS                  0.000000\n",
       "REGION_RATING_CLIENT             0.000000\n",
       "REGION_RATING_CLIENT_W_CITY      0.000000\n",
       "WEEKDAY_APPR_PROCESS_START_x     0.000000\n",
       "HOUR_APPR_PROCESS_START_x        0.000000\n",
       "REG_REGION_NOT_LIVE_REGION       0.000000\n",
       "REG_REGION_NOT_WORK_REGION       0.000000\n",
       "LIVE_REGION_NOT_WORK_REGION      0.000000\n",
       "REG_CITY_NOT_LIVE_CITY           0.000000\n",
       "REG_CITY_NOT_WORK_CITY           0.000000\n",
       "LIVE_CITY_NOT_WORK_CITY          0.000000\n",
       "ORGANIZATION_TYPE                0.000000\n",
       "EXT_SOURCE_2                     0.000000\n",
       "EXT_SOURCE_3                     0.000000\n",
       "YEARS_BEGINEXPLUATATION_AVG      0.000000\n",
       "FLOORSMAX_AVG                    0.000000\n",
       "YEARS_BEGINEXPLUATATION_MODE     0.000000\n",
       "FLOORSMAX_MODE                   0.000000\n",
       "YEARS_BEGINEXPLUATATION_MEDI     0.000000\n",
       "FLOORSMAX_MEDI                   0.000000\n",
       "TOTALAREA_MODE                   0.000000\n",
       "EMERGENCYSTATE_MODE              0.000000\n",
       "OBS_30_CNT_SOCIAL_CIRCLE         0.000000\n",
       "DEF_30_CNT_SOCIAL_CIRCLE         0.000000\n",
       "OBS_60_CNT_SOCIAL_CIRCLE         0.000000\n",
       "DEF_60_CNT_SOCIAL_CIRCLE         0.000000\n",
       "DAYS_LAST_PHONE_CHANGE           0.000000\n",
       "FLAG_DOCUMENT_2                  0.000000\n",
       "FLAG_DOCUMENT_3                  0.000000\n",
       "FLAG_DOCUMENT_4                  0.000000\n",
       "FLAG_DOCUMENT_5                  0.000000\n",
       "FLAG_DOCUMENT_6                  0.000000\n",
       "FLAG_DOCUMENT_7                  0.000000\n",
       "FLAG_DOCUMENT_8                  0.000000\n",
       "FLAG_DOCUMENT_9                  0.000000\n",
       "FLAG_DOCUMENT_10                 0.000000\n",
       "FLAG_DOCUMENT_11                 0.000000\n",
       "FLAG_DOCUMENT_12                 0.000000\n",
       "FLAG_DOCUMENT_13                 0.000000\n",
       "FLAG_DOCUMENT_14                 0.000000\n",
       "FLAG_DOCUMENT_15                 0.000000\n",
       "FLAG_DOCUMENT_16                 0.000000\n",
       "FLAG_DOCUMENT_17                 0.000000\n",
       "FLAG_DOCUMENT_18                 0.000000\n",
       "FLAG_DOCUMENT_19                 0.000000\n",
       "FLAG_DOCUMENT_20                 0.000000\n",
       "FLAG_DOCUMENT_21                 0.000000\n",
       "AMT_REQ_CREDIT_BUREAU_HOUR       0.000000\n",
       "AMT_REQ_CREDIT_BUREAU_DAY        0.000000\n",
       "AMT_REQ_CREDIT_BUREAU_WEEK       0.000000\n",
       "AMT_REQ_CREDIT_BUREAU_MON        0.000000\n",
       "AMT_REQ_CREDIT_BUREAU_QRT        0.000000\n",
       "AMT_REQ_CREDIT_BUREAU_YEAR       0.000000\n",
       "SK_ID_PREV                       0.000000\n",
       "NAME_CONTRACT_TYPE_y             0.000000\n",
       "AMT_ANNUITY_y                   25.254573\n",
       "AMT_APPLICATION                  0.000000\n",
       "AMT_CREDIT_y                     0.000000\n",
       "AMT_DOWN_PAYMENT                56.517539\n",
       "AMT_GOODS_PRICE_y               24.852324\n",
       "WEEKDAY_APPR_PROCESS_START_y     0.000000\n",
       "HOUR_APPR_PROCESS_START_y        0.000000\n",
       "FLAG_LAST_APPL_PER_CONTRACT      0.000000\n",
       "NFLAG_LAST_APPL_IN_DAY           0.000000\n",
       "RATE_DOWN_PAYMENT               56.517539\n",
       "NAME_CONTRACT_STATUS             0.000000\n",
       "DAYS_DECISION                    0.000000\n",
       "NAME_PAYMENT_TYPE                0.000000\n",
       "CODE_REJECT_REASON               0.000000\n",
       "NAME_TYPE_SUITE_y               53.307467\n",
       "NAME_CLIENT_TYPE                 0.000000\n",
       "NAME_GOODS_CATEGORY              0.000000\n",
       "NAME_PORTFOLIO                   0.000000\n",
       "NAME_PRODUCT_TYPE                0.000000\n",
       "CHANNEL_TYPE                     0.000000\n",
       "SELLERPLACE_AREA                 0.000000\n",
       "NAME_SELLER_INDUSTRY             0.000000\n",
       "CNT_PAYMENT                     25.254573\n",
       "NAME_YIELD_GROUP                 0.000000\n",
       "PRODUCT_COMBINATION              0.045926\n",
       "DAYS_FIRST_DRAWING              49.145617\n",
       "DAYS_FIRST_DUE                  49.145617\n",
       "DAYS_LAST_DUE_1ST_VERSION       49.145617\n",
       "DAYS_LAST_DUE                   49.145617\n",
       "DAYS_TERMINATION                49.145617\n",
       "NFLAG_INSURED_ON_APPROVAL       49.145617\n",
       "dtype: float64"
      ]
     },
     "execution_count": 88,
     "metadata": {},
     "output_type": "execute_result"
    }
   ],
   "source": [
    "inp1_0.isnull().mean()*100"
   ]
  },
  {
   "cell_type": "code",
   "execution_count": 89,
   "id": "4eaa15db",
   "metadata": {},
   "outputs": [],
   "source": [
    "temp1=(inp1_0.isnull().mean()*100).reset_index()\n",
    "temp1=temp1.rename(columns={0:\"Missing value %\"})\n",
    "drop_col=list(temp1[temp1[\"Missing value %\"]>45][\"index\"])"
   ]
  },
  {
   "cell_type": "code",
   "execution_count": 90,
   "id": "27bd7e78",
   "metadata": {},
   "outputs": [],
   "source": [
    "inp1_0temp=inp1_0.drop(drop_col, axis=1, inplace=True)"
   ]
  },
  {
   "cell_type": "code",
   "execution_count": 91,
   "id": "b4716c3b",
   "metadata": {},
   "outputs": [
    {
     "data": {
      "text/plain": [
       "(63145, 105)"
      ]
     },
     "execution_count": 91,
     "metadata": {},
     "output_type": "execute_result"
    }
   ],
   "source": [
    "inp1_0.shape"
   ]
  },
  {
   "cell_type": "code",
   "execution_count": 92,
   "id": "3932b051",
   "metadata": {},
   "outputs": [
    {
     "data": {
      "text/html": [
       "<div>\n",
       "<style scoped>\n",
       "    .dataframe tbody tr th:only-of-type {\n",
       "        vertical-align: middle;\n",
       "    }\n",
       "\n",
       "    .dataframe tbody tr th {\n",
       "        vertical-align: top;\n",
       "    }\n",
       "\n",
       "    .dataframe thead th {\n",
       "        text-align: right;\n",
       "    }\n",
       "</style>\n",
       "<table border=\"1\" class=\"dataframe\">\n",
       "  <thead>\n",
       "    <tr style=\"text-align: right;\">\n",
       "      <th></th>\n",
       "      <th>index</th>\n",
       "      <th>missing value %</th>\n",
       "    </tr>\n",
       "  </thead>\n",
       "  <tbody>\n",
       "    <tr>\n",
       "      <th>83</th>\n",
       "      <td>AMT_ANNUITY_y</td>\n",
       "      <td>25.254573</td>\n",
       "    </tr>\n",
       "    <tr>\n",
       "      <th>86</th>\n",
       "      <td>AMT_GOODS_PRICE_y</td>\n",
       "      <td>24.852324</td>\n",
       "    </tr>\n",
       "    <tr>\n",
       "      <th>102</th>\n",
       "      <td>CNT_PAYMENT</td>\n",
       "      <td>25.254573</td>\n",
       "    </tr>\n",
       "    <tr>\n",
       "      <th>104</th>\n",
       "      <td>PRODUCT_COMBINATION</td>\n",
       "      <td>0.045926</td>\n",
       "    </tr>\n",
       "  </tbody>\n",
       "</table>\n",
       "</div>"
      ],
      "text/plain": [
       "                   index  missing value %\n",
       "83         AMT_ANNUITY_y        25.254573\n",
       "86     AMT_GOODS_PRICE_y        24.852324\n",
       "102          CNT_PAYMENT        25.254573\n",
       "104  PRODUCT_COMBINATION         0.045926"
      ]
     },
     "execution_count": 92,
     "metadata": {},
     "output_type": "execute_result"
    }
   ],
   "source": [
    "temp1=(inp1_0.isnull().mean()*100).reset_index()\n",
    "temp1=temp1.rename(columns={0:\"missing value %\"})\n",
    "temp1[temp1[\"missing value %\"]>0]"
   ]
  },
  {
   "cell_type": "code",
   "execution_count": 93,
   "id": "a323558e",
   "metadata": {},
   "outputs": [],
   "source": [
    "for i in cont_:\n",
    "    median_=inp1_0[i].median()\n",
    "    inp1_0[i]=inp1_0[i].fillna(median_)"
   ]
  },
  {
   "cell_type": "code",
   "execution_count": 94,
   "id": "23f1a720",
   "metadata": {},
   "outputs": [],
   "source": [
    "for i in cat_:\n",
    "    mode_=inp1_0[i].mode()[0]\n",
    "    inp1_0[i]=inp1_0[i].fillna(mode_)"
   ]
  },
  {
   "cell_type": "code",
   "execution_count": 95,
   "id": "fad50357",
   "metadata": {},
   "outputs": [
    {
     "data": {
      "text/plain": [
       "SK_ID_CURR                      0\n",
       "TARGET                          0\n",
       "NAME_CONTRACT_TYPE_x            0\n",
       "CODE_GENDER                     0\n",
       "FLAG_OWN_CAR                    0\n",
       "FLAG_OWN_REALTY                 0\n",
       "CNT_CHILDREN                    0\n",
       "AMT_INCOME_TOTAL                0\n",
       "AMT_CREDIT_x                    0\n",
       "AMT_ANNUITY_x                   0\n",
       "AMT_GOODS_PRICE_x               0\n",
       "NAME_TYPE_SUITE_x               0\n",
       "NAME_INCOME_TYPE                0\n",
       "NAME_EDUCATION_TYPE             0\n",
       "NAME_FAMILY_STATUS              0\n",
       "NAME_HOUSING_TYPE               0\n",
       "REGION_POPULATION_RELATIVE      0\n",
       "DAYS_BIRTH                      0\n",
       "DAYS_EMPLOYED                   0\n",
       "DAYS_REGISTRATION               0\n",
       "DAYS_ID_PUBLISH                 0\n",
       "FLAG_MOBIL                      0\n",
       "FLAG_EMP_PHONE                  0\n",
       "FLAG_WORK_PHONE                 0\n",
       "FLAG_CONT_MOBILE                0\n",
       "FLAG_PHONE                      0\n",
       "FLAG_EMAIL                      0\n",
       "OCCUPATION_TYPE                 0\n",
       "CNT_FAM_MEMBERS                 0\n",
       "REGION_RATING_CLIENT            0\n",
       "REGION_RATING_CLIENT_W_CITY     0\n",
       "WEEKDAY_APPR_PROCESS_START_x    0\n",
       "HOUR_APPR_PROCESS_START_x       0\n",
       "REG_REGION_NOT_LIVE_REGION      0\n",
       "REG_REGION_NOT_WORK_REGION      0\n",
       "LIVE_REGION_NOT_WORK_REGION     0\n",
       "REG_CITY_NOT_LIVE_CITY          0\n",
       "REG_CITY_NOT_WORK_CITY          0\n",
       "LIVE_CITY_NOT_WORK_CITY         0\n",
       "ORGANIZATION_TYPE               0\n",
       "EXT_SOURCE_2                    0\n",
       "EXT_SOURCE_3                    0\n",
       "YEARS_BEGINEXPLUATATION_AVG     0\n",
       "FLOORSMAX_AVG                   0\n",
       "YEARS_BEGINEXPLUATATION_MODE    0\n",
       "FLOORSMAX_MODE                  0\n",
       "YEARS_BEGINEXPLUATATION_MEDI    0\n",
       "FLOORSMAX_MEDI                  0\n",
       "TOTALAREA_MODE                  0\n",
       "EMERGENCYSTATE_MODE             0\n",
       "OBS_30_CNT_SOCIAL_CIRCLE        0\n",
       "DEF_30_CNT_SOCIAL_CIRCLE        0\n",
       "OBS_60_CNT_SOCIAL_CIRCLE        0\n",
       "DEF_60_CNT_SOCIAL_CIRCLE        0\n",
       "DAYS_LAST_PHONE_CHANGE          0\n",
       "FLAG_DOCUMENT_2                 0\n",
       "FLAG_DOCUMENT_3                 0\n",
       "FLAG_DOCUMENT_4                 0\n",
       "FLAG_DOCUMENT_5                 0\n",
       "FLAG_DOCUMENT_6                 0\n",
       "FLAG_DOCUMENT_7                 0\n",
       "FLAG_DOCUMENT_8                 0\n",
       "FLAG_DOCUMENT_9                 0\n",
       "FLAG_DOCUMENT_10                0\n",
       "FLAG_DOCUMENT_11                0\n",
       "FLAG_DOCUMENT_12                0\n",
       "FLAG_DOCUMENT_13                0\n",
       "FLAG_DOCUMENT_14                0\n",
       "FLAG_DOCUMENT_15                0\n",
       "FLAG_DOCUMENT_16                0\n",
       "FLAG_DOCUMENT_17                0\n",
       "FLAG_DOCUMENT_18                0\n",
       "FLAG_DOCUMENT_19                0\n",
       "FLAG_DOCUMENT_20                0\n",
       "FLAG_DOCUMENT_21                0\n",
       "AMT_REQ_CREDIT_BUREAU_HOUR      0\n",
       "AMT_REQ_CREDIT_BUREAU_DAY       0\n",
       "AMT_REQ_CREDIT_BUREAU_WEEK      0\n",
       "AMT_REQ_CREDIT_BUREAU_MON       0\n",
       "AMT_REQ_CREDIT_BUREAU_QRT       0\n",
       "AMT_REQ_CREDIT_BUREAU_YEAR      0\n",
       "SK_ID_PREV                      0\n",
       "NAME_CONTRACT_TYPE_y            0\n",
       "AMT_ANNUITY_y                   0\n",
       "AMT_APPLICATION                 0\n",
       "AMT_CREDIT_y                    0\n",
       "AMT_GOODS_PRICE_y               0\n",
       "WEEKDAY_APPR_PROCESS_START_y    0\n",
       "HOUR_APPR_PROCESS_START_y       0\n",
       "FLAG_LAST_APPL_PER_CONTRACT     0\n",
       "NFLAG_LAST_APPL_IN_DAY          0\n",
       "NAME_CONTRACT_STATUS            0\n",
       "DAYS_DECISION                   0\n",
       "NAME_PAYMENT_TYPE               0\n",
       "CODE_REJECT_REASON              0\n",
       "NAME_CLIENT_TYPE                0\n",
       "NAME_GOODS_CATEGORY             0\n",
       "NAME_PORTFOLIO                  0\n",
       "NAME_PRODUCT_TYPE               0\n",
       "CHANNEL_TYPE                    0\n",
       "SELLERPLACE_AREA                0\n",
       "NAME_SELLER_INDUSTRY            0\n",
       "CNT_PAYMENT                     0\n",
       "NAME_YIELD_GROUP                0\n",
       "PRODUCT_COMBINATION             0\n",
       "dtype: int64"
      ]
     },
     "execution_count": 95,
     "metadata": {},
     "output_type": "execute_result"
    }
   ],
   "source": [
    "inp1_0.isnull().sum()"
   ]
  },
  {
   "cell_type": "code",
   "execution_count": 96,
   "id": "3420dc04",
   "metadata": {},
   "outputs": [
    {
     "data": {
      "image/png": "[encoded data removed]",
      "text/plain": [
       "<Figure size 720x360 with 2 Axes>"
      ]
     },
     "metadata": {
      "needs_background": "light"
     },
     "output_type": "display_data"
    }
   ],
   "source": [
    "plt.figure(figsize=(10,5))\n",
    "\n",
    "plt.subplot(1,2,1)\n",
    "sns.distplot(inp1_1.AMT_ANNUITY_y)\n",
    "\n",
    "plt.subplot(1,2,2)\n",
    "sns.distplot(inp1_0.AMT_ANNUITY_y)\n",
    "\n",
    "plt.show()"
   ]
  },
  {
   "cell_type": "markdown",
   "id": "f9ac03b5",
   "metadata": {},
   "source": [
    "Incase of numerical values, if the mean and median are same it is advised to fill by mean. \n",
    "\n",
    "If mean and median are not same then substitute missing value by median outlier mean is not equal to median"
   ]
  },
  {
   "cell_type": "code",
   "execution_count": 100,
   "id": "891ac8b9",
   "metadata": {},
   "outputs": [
    {
     "name": "stdout",
     "output_type": "stream",
     "text": [
      "['NAME_CONTRACT_STATUS', 'WEEKDAY_APPR_PROCESS_START_y', 'FLAG_OWN_REALTY', 'NAME_HOUSING_TYPE', 'CHANNEL_TYPE', 'NFLAG_LAST_APPL_IN_DAY', 'NAME_EDUCATION_TYPE', 'CODE_REJECT_REASON', 'FLAG_OWN_CAR', 'NAME_SELLER_INDUSTRY', 'OCCUPATION_TYPE', 'NAME_CONTRACT_TYPE_y', 'NAME_CONTRACT_TYPE_x', 'NAME_GOODS_CATEGORY', 'WEEKDAY_APPR_PROCESS_START_x', 'NAME_PRODUCT_TYPE', 'NAME_TYPE_SUITE_x', 'NAME_PAYMENT_TYPE', 'NAME_INCOME_TYPE', 'NAME_FAMILY_STATUS', 'EMERGENCYSTATE_MODE', 'CODE_GENDER', 'NAME_PORTFOLIO', 'NAME_CLIENT_TYPE', 'ORGANIZATION_TYPE', 'NAME_YIELD_GROUP', 'PRODUCT_COMBINATION', 'FLAG_LAST_APPL_PER_CONTRACT', 'HOUR_APPR_PROCESS_START_y']\n",
      "29\n"
     ]
    }
   ],
   "source": [
    "catagorical_merge_col=list(set(inp1_1.columns)-set(inp1_1.describe().columns))\n",
    "print(catagorical_merge_col)\n",
    "print(len(catagorical_merge_col))"
   ]
  },
  {
   "cell_type": "code",
   "execution_count": 104,
   "id": "f8f63515",
   "metadata": {},
   "outputs": [
    {
     "name": "stdout",
     "output_type": "stream",
     "text": [
      "['NAME_CONTRACT_STATUS', 'WEEKDAY_APPR_PROCESS_START_y', 'FLAG_OWN_REALTY', 'NAME_HOUSING_TYPE', 'CHANNEL_TYPE', 'NFLAG_LAST_APPL_IN_DAY', 'NAME_EDUCATION_TYPE', 'CODE_REJECT_REASON', 'FLAG_OWN_CAR', 'NAME_SELLER_INDUSTRY', 'OCCUPATION_TYPE', 'NAME_CONTRACT_TYPE_y', 'NAME_CONTRACT_TYPE_x', 'NAME_GOODS_CATEGORY', 'WEEKDAY_APPR_PROCESS_START_x', 'NAME_PRODUCT_TYPE', 'NAME_TYPE_SUITE_x', 'NAME_PAYMENT_TYPE', 'NAME_INCOME_TYPE', 'NAME_FAMILY_STATUS', 'EMERGENCYSTATE_MODE', 'CODE_GENDER', 'NAME_PORTFOLIO', 'NAME_CLIENT_TYPE', 'ORGANIZATION_TYPE', 'NAME_YIELD_GROUP', 'PRODUCT_COMBINATION', 'FLAG_LAST_APPL_PER_CONTRACT', 'HOUR_APPR_PROCESS_START_y']\n",
      "29\n"
     ]
    }
   ],
   "source": [
    "catagorical_merge_col0=list(set(inp1_0.columns)-set(inp1_0.describe().columns))\n",
    "print(catagorical_merge_col0)\n",
    "print(len(catagorical_merge_col0))"
   ]
  },
  {
   "cell_type": "code",
   "execution_count": 101,
   "id": "d25b018a",
   "metadata": {},
   "outputs": [
    {
     "name": "stdout",
     "output_type": "stream",
     "text": [
      "Index(['SK_ID_CURR', 'TARGET', 'CNT_CHILDREN', 'AMT_INCOME_TOTAL',\n",
      "       'AMT_CREDIT_x', 'AMT_ANNUITY_x', 'AMT_GOODS_PRICE_x',\n",
      "       'REGION_POPULATION_RELATIVE', 'DAYS_BIRTH', 'DAYS_EMPLOYED',\n",
      "       'DAYS_REGISTRATION', 'DAYS_ID_PUBLISH', 'FLAG_MOBIL', 'FLAG_EMP_PHONE',\n",
      "       'FLAG_WORK_PHONE', 'FLAG_CONT_MOBILE', 'FLAG_PHONE', 'FLAG_EMAIL',\n",
      "       'CNT_FAM_MEMBERS', 'REGION_RATING_CLIENT',\n",
      "       'REGION_RATING_CLIENT_W_CITY', 'HOUR_APPR_PROCESS_START_x',\n",
      "       'REG_REGION_NOT_LIVE_REGION', 'REG_REGION_NOT_WORK_REGION',\n",
      "       'LIVE_REGION_NOT_WORK_REGION', 'REG_CITY_NOT_LIVE_CITY',\n",
      "       'REG_CITY_NOT_WORK_CITY', 'LIVE_CITY_NOT_WORK_CITY', 'EXT_SOURCE_2',\n",
      "       'EXT_SOURCE_3', 'YEARS_BEGINEXPLUATATION_AVG', 'FLOORSMAX_AVG',\n",
      "       'YEARS_BEGINEXPLUATATION_MODE', 'FLOORSMAX_MODE',\n",
      "       'YEARS_BEGINEXPLUATATION_MEDI', 'FLOORSMAX_MEDI', 'TOTALAREA_MODE',\n",
      "       'OBS_30_CNT_SOCIAL_CIRCLE', 'DEF_30_CNT_SOCIAL_CIRCLE',\n",
      "       'OBS_60_CNT_SOCIAL_CIRCLE', 'DEF_60_CNT_SOCIAL_CIRCLE',\n",
      "       'DAYS_LAST_PHONE_CHANGE', 'FLAG_DOCUMENT_2', 'FLAG_DOCUMENT_3',\n",
      "       'FLAG_DOCUMENT_4', 'FLAG_DOCUMENT_5', 'FLAG_DOCUMENT_6',\n",
      "       'FLAG_DOCUMENT_7', 'FLAG_DOCUMENT_8', 'FLAG_DOCUMENT_9',\n",
      "       'FLAG_DOCUMENT_10', 'FLAG_DOCUMENT_11', 'FLAG_DOCUMENT_12',\n",
      "       'FLAG_DOCUMENT_13', 'FLAG_DOCUMENT_14', 'FLAG_DOCUMENT_15',\n",
      "       'FLAG_DOCUMENT_16', 'FLAG_DOCUMENT_17', 'FLAG_DOCUMENT_18',\n",
      "       'FLAG_DOCUMENT_19', 'FLAG_DOCUMENT_20', 'FLAG_DOCUMENT_21',\n",
      "       'AMT_REQ_CREDIT_BUREAU_HOUR', 'AMT_REQ_CREDIT_BUREAU_DAY',\n",
      "       'AMT_REQ_CREDIT_BUREAU_WEEK', 'AMT_REQ_CREDIT_BUREAU_MON',\n",
      "       'AMT_REQ_CREDIT_BUREAU_QRT', 'AMT_REQ_CREDIT_BUREAU_YEAR', 'SK_ID_PREV',\n",
      "       'AMT_ANNUITY_y', 'AMT_APPLICATION', 'AMT_CREDIT_y', 'AMT_GOODS_PRICE_y',\n",
      "       'DAYS_DECISION', 'SELLERPLACE_AREA', 'CNT_PAYMENT'],\n",
      "      dtype='object')\n",
      "76\n"
     ]
    }
   ],
   "source": [
    "numerical_merge_col=inp1_1.describe().columns\n",
    "print(numerical_merge_col)\n",
    "print(len(numerical_merge_col))"
   ]
  },
  {
   "cell_type": "code",
   "execution_count": null,
   "id": "ec8394fb",
   "metadata": {},
   "outputs": [],
   "source": [
    "# cat_col=[\"NAME_CONTRACT_TYPE\",\"WEEKDAY_APPR_PROCESS_START\",\"HOUR_APPR_PROCESS_START\",\"FLAG_LAST_APPL_PER_CONTRACT\",\"NFLAG_LAST_APPL_IN_DAY\",\"NAME_CONTRACT_STATUS\",\"NAME_PAYMENT_TYPE\",\"CODE_REJECT_REASON\",\"NAME_TYPE_SUITE\",\"NAME_CLIENT_TYPE\",\"NAME_GOODS_CATEGORY\",\"NAME_PORTFOLIO\",\"NAME_PRODUCT_TYPE\",\"CHANNEL_TYPE\",\"NAME_SELLER_INDUSTRY\",\"NAME_YIELD_GROUP\",\"PRODUCT_COMBINATION\",\"NFLAG_INSURED_ON_APPROVAL\"]\n",
    "# cont_col=[\"AMT_ANNUITY \",\"AMT_APPLICATION\",\"AMT_CREDIT\",\"AMT_DOWN_PAYMENT\",\"AMT_GOODS_PRICE\",\"RATE_DOWN_PAYMENT\",\"DAYS_DECISION\",\"SELLERPLACE_AREA\",\"CNT_PAYMENT\",\"DAYS_FIRST_DRAWING\",\"DAYS_FIRST_DUE\",\"DAYS_LAST_DUE_1ST_VERSION\",\"DAYS_LAST_DUE\",\"DAYS_TERMINATION\"]\n",
    "\n",
    "# cont_columns=[\"AMT_INCOME_TOTAL\",\"AMT_CREDIT_x\",\"AMT_ANNUITY_x\",\"AMT_GOODS_PRICE_x\",\"REGION_POPULATION_RELATIVE\",\"DAYS_BIRTH\",\"DAYS_EMPLOYED\",\"DAYS_REGISTRATION\",\"DAYS_ID_PUBLISH\",\"EXT_SOURCE_2\",\"EXT_SOURCE_3\",\"FLOORSMAX_MODE\",\"YEARS_BEGINEXPLUATATION_MODE\",\"YEARS_BEGINEXPLUATATION_MEDI\",\"FLOORSMAX_MEDI\",\"FLOORSMAX_AVG\",\"YEARS_BEGINEXPLUATATION_AVG\",\"TOTALAREA_MODE\",\"DAYS_LAST_PHONE_CHANGE\"]\n",
    "# categ_columns=[\"TARGET\",\"NAME_CONTRACT_TYPE\",\"CODE_GENDER\",\"FLAG_OWN_CAR\",\"FLAG_OWN_REALTY\",\"CNT_CHILDREN\",\"NAME_TYPE_SUITE\", \"NAME_INCOME_TYPE\",\"NAME_EDUCATION_TYPE\",\"NAME_FAMILY_STATUS\",\"NAME_HOUSING_TYPE\",\"FLAG_MOBIL\",\"FLAG_EMP_PHONE\",\"FLAG_WORK_PHONE\",\"FLAG_CONT_MOBILE\",\"FLAG_PHONE\",\"FLAG_EMAIL\",\"OCCUPATION_TYPE\",\"CNT_FAM_MEMBERS\",\"REGION_RATING_CLIENT\",\"REGION_RATING_CLIENT_W_CITY\",\"WEEKDAY_APPR_PROCESS_START\",\"HOUR_APPR_PROCESS_START\",\"REG_REGION_NOT_LIVE_REGION\",\"REG_REGION_NOT_WORK_REGION\",\"LIVE_REGION_NOT_WORK_REGION\",\"REG_CITY_NOT_LIVE_CITY\",\"REG_CITY_NOT_WORK_CITY\",\"LIVE_CITY_NOT_WORK_CITY\",\"ORGANIZATION_TYPE\",\"EMERGENCYSTATE_MODE\",\"DEF_30_CNT_SOCIAL_CIRCLE\",\"OBS_30_CNT_SOCIAL_CIRCLE\",\"OBS_60_CNT_SOCIAL_CIRCLE\",\"DEF_60_CNT_SOCIAL_CIRCLE\",\"FLAG_DOCUMENT_2\",\"FLAG_DOCUMENT_3\",\"FLAG_DOCUMENT_4\",\"FLAG_DOCUMENT_5\",\"FLAG_DOCUMENT_6\",\"FLAG_DOCUMENT_7\",\"FLAG_DOCUMENT_8\",\"FLAG_DOCUMENT_9\",\"FLAG_DOCUMENT_10\",\"FLAG_DOCUMENT_11\",\"FLAG_DOCUMENT_12\",\"FLAG_DOCUMENT_13\",\"FLAG_DOCUMENT_14\",\"FLAG_DOCUMENT_15\",\"FLAG_DOCUMENT_16\",\"FLAG_DOCUMENT_17\",\"FLAG_DOCUMENT_18\",\"FLAG_DOCUMENT_19\",\"FLAG_DOCUMENT_20\",\"FLAG_DOCUMENT_21\",\"AMT_REQ_CREDIT_BUREAU_HOUR\",\"AMT_REQ_CREDIT_BUREAU_DAY\",\"AMT_REQ_CREDIT_BUREAU_WEEK\",\"AMT_REQ_CREDIT_BUREAU_MON\",\"AMT_REQ_CREDIT_BUREAU_QRT\",\"AMT_REQ_CREDIT_BUREAU_YEAR\"]"
   ]
  },
  {
   "cell_type": "code",
   "execution_count": 152,
   "id": "d5800da5",
   "metadata": {},
   "outputs": [
    {
     "data": {
      "text/plain": [
       "<Figure size 1080x576 with 0 Axes>"
      ]
     },
     "metadata": {},
     "output_type": "display_data"
    },
    {
     "data": {
      "image/png": "[encoded data removed]",
      "text/plain": [
       "<Figure size 432x288 with 1 Axes>"
      ]
     },
     "metadata": {
      "needs_background": "light"
     },
     "output_type": "display_data"
    }
   ],
   "source": [
    "fig=plt.figure(figsize=(15,8))\n",
    "\n",
    "inp1_1.plot.bar(x=\"OCCUPATION_TYPE\",y=\"TARGET\")\n",
    "plt.show()"
   ]
  },
  {
   "cell_type": "code",
   "execution_count": 102,
   "id": "46cf24ee",
   "metadata": {},
   "outputs": [
    {
     "data": {
      "text/plain": [
       "Approved        33484\n",
       "Refused         16260\n",
       "Canceled        12041\n",
       "Unused offer     1360\n",
       "Name: NAME_CONTRACT_STATUS, dtype: int64"
      ]
     },
     "execution_count": 102,
     "metadata": {},
     "output_type": "execute_result"
    }
   ],
   "source": [
    "inp1_0.NAME_CONTRACT_STATUS.value_counts()"
   ]
  },
  {
   "cell_type": "code",
   "execution_count": 114,
   "id": "95eea396",
   "metadata": {},
   "outputs": [
    {
     "data": {
      "image/png": "[encoded data removed]",
      "text/plain": [
       "<Figure size 1080x720 with 2 Axes>"
      ]
     },
     "metadata": {
      "needs_background": "light"
     },
     "output_type": "display_data"
    }
   ],
   "source": [
    "fig=plt.figure(figsize=(15,10))\n",
    "\n",
    "plt.subplot(1,2,1)\n",
    "plt.title(\"Target defaulters\")\n",
    "sns.countplot(x=\"NAME_CONTRACT_STATUS\", hue=\"TARGET\" ,data=inp1_1)\n",
    "\n",
    "plt.subplot(1,2,2)\n",
    "plt.title(\"Target Non-defaulters\")\n",
    "sns.countplot(x=\"NAME_CONTRACT_STATUS\", hue=\"TARGET\" ,data=inp1_0,)\n",
    "\n",
    "plt.show()"
   ]
  },
  {
   "cell_type": "markdown",
   "id": "27873fc8",
   "metadata": {},
   "source": [
    "Observation:\n",
    "    1. Great defference between the defaulters and non defaulters in there contract status.\n",
    "    2. But in both cases Approved cases are more than the rest of the status.\n",
    "    3. Used offers are very less in defaulters.\n",
    "    \n",
    "    "
   ]
  },
  {
   "cell_type": "code",
   "execution_count": null,
   "id": "b7319472",
   "metadata": {},
   "outputs": [],
   "source": [
    "# cat_col=[\"NAME_CONTRACT_TYPE\",\"WEEKDAY_APPR_PROCESS_START\",\"HOUR_APPR_PROCESS_START\",\"FLAG_LAST_APPL_PER_CONTRACT\",\"NFLAG_LAST_APPL_IN_DAY\",\"NAME_CONTRACT_STATUS\",\"NAME_PAYMENT_TYPE\",\"CODE_REJECT_REASON\",\"NAME_TYPE_SUITE\",\"NAME_CLIENT_TYPE\",\"NAME_GOODS_CATEGORY\",\"NAME_PORTFOLIO\",\"NAME_PRODUCT_TYPE\",\"CHANNEL_TYPE\",\"NAME_SELLER_INDUSTRY\",\"NAME_YIELD_GROUP\",\"PRODUCT_COMBINATION\",\"NFLAG_INSURED_ON_APPROVAL\"]\n",
    "# cont_col=[\"AMT_ANNUITY \",\"AMT_APPLICATION\",\"AMT_CREDIT\",\"AMT_DOWN_PAYMENT\",\"AMT_GOODS_PRICE\",\"RATE_DOWN_PAYMENT\",\"DAYS_DECISION\",\"SELLERPLACE_AREA\",\"CNT_PAYMENT\",\"DAYS_FIRST_DRAWING\",\"DAYS_FIRST_DUE\",\"DAYS_LAST_DUE_1ST_VERSION\",\"DAYS_LAST_DUE\",\"DAYS_TERMINATION\"]\n",
    "\n",
    "# cont_columns=[\"AMT_INCOME_TOTAL\",\"AMT_CREDIT_x\",\"AMT_ANNUITY_x\",\"AMT_GOODS_PRICE_x\",\"REGION_POPULATION_RELATIVE\",\"DAYS_BIRTH\",\"DAYS_EMPLOYED\",\"DAYS_REGISTRATION\",\"DAYS_ID_PUBLISH\",\"EXT_SOURCE_2\",\"EXT_SOURCE_3\",\"FLOORSMAX_MODE\",\"YEARS_BEGINEXPLUATATION_MODE\",\"YEARS_BEGINEXPLUATATION_MEDI\",\"FLOORSMAX_MEDI\",\"FLOORSMAX_AVG\",\"YEARS_BEGINEXPLUATATION_AVG\",\"TOTALAREA_MODE\",\"DAYS_LAST_PHONE_CHANGE\"]\n",
    "# categ_columns=[\"TARGET\",\"NAME_CONTRACT_TYPE\",\"CODE_GENDER\",\"FLAG_OWN_CAR\",\"FLAG_OWN_REALTY\",\"CNT_CHILDREN\",\"NAME_TYPE_SUITE\", \"NAME_INCOME_TYPE\",\"NAME_EDUCATION_TYPE\",\"NAME_FAMILY_STATUS\",\"NAME_HOUSING_TYPE\",\"FLAG_MOBIL\",\"FLAG_EMP_PHONE\",\"FLAG_WORK_PHONE\",\"FLAG_CONT_MOBILE\",\"FLAG_PHONE\",\"FLAG_EMAIL\",\"OCCUPATION_TYPE\",\"CNT_FAM_MEMBERS\",\"REGION_RATING_CLIENT\",\"REGION_RATING_CLIENT_W_CITY\",\"WEEKDAY_APPR_PROCESS_START\",\"HOUR_APPR_PROCESS_START\",\"REG_REGION_NOT_LIVE_REGION\",\"REG_REGION_NOT_WORK_REGION\",\"LIVE_REGION_NOT_WORK_REGION\",\"REG_CITY_NOT_LIVE_CITY\",\"REG_CITY_NOT_WORK_CITY\",\"LIVE_CITY_NOT_WORK_CITY\",\"ORGANIZATION_TYPE\",\"EMERGENCYSTATE_MODE\",\"DEF_30_CNT_SOCIAL_CIRCLE\",\"OBS_30_CNT_SOCIAL_CIRCLE\",\"OBS_60_CNT_SOCIAL_CIRCLE\",\"DEF_60_CNT_SOCIAL_CIRCLE\",\"FLAG_DOCUMENT_2\",\"FLAG_DOCUMENT_3\",\"FLAG_DOCUMENT_4\",\"FLAG_DOCUMENT_5\",\"FLAG_DOCUMENT_6\",\"FLAG_DOCUMENT_7\",\"FLAG_DOCUMENT_8\",\"FLAG_DOCUMENT_9\",\"FLAG_DOCUMENT_10\",\"FLAG_DOCUMENT_11\",\"FLAG_DOCUMENT_12\",\"FLAG_DOCUMENT_13\",\"FLAG_DOCUMENT_14\",\"FLAG_DOCUMENT_15\",\"FLAG_DOCUMENT_16\",\"FLAG_DOCUMENT_17\",\"FLAG_DOCUMENT_18\",\"FLAG_DOCUMENT_19\",\"FLAG_DOCUMENT_20\",\"FLAG_DOCUMENT_21\",\"AMT_REQ_CREDIT_BUREAU_HOUR\",\"AMT_REQ_CREDIT_BUREAU_DAY\",\"AMT_REQ_CREDIT_BUREAU_WEEK\",\"AMT_REQ_CREDIT_BUREAU_MON\",\"AMT_REQ_CREDIT_BUREAU_QRT\",\"AMT_REQ_CREDIT_BUREAU_YEAR\"]"
   ]
  },
  {
   "cell_type": "code",
   "execution_count": 150,
   "id": "50cd187c",
   "metadata": {},
   "outputs": [
    {
     "data": {
      "image/png": "[encoded data removed]",
      "text/plain": [
       "<Figure size 936x360 with 2 Axes>"
      ]
     },
     "metadata": {
      "needs_background": "light"
     },
     "output_type": "display_data"
    }
   ],
   "source": [
    "fig=plt.figure(figsize=(13,5))\n",
    "\n",
    "plt.subplot(1,2,1)\n",
    "plt.scatter(inp1_1[\"AMT_INCOME_TOTAL\"] , inp1_1.AMT_CREDIT_x, c= 'Green', alpha= 0.7, s = 150 )\n",
    "\n",
    "plt.title(\"Income vs Loan Amount of Defaulters\", fontdict={\"fontsize\":20, 'fontweight':5, 'color':'Purple'})\n",
    "\n",
    "\n",
    "plt.subplot(1,2,2)\n",
    "plt.scatter(inp1_0[\"CODE_GENDER\"] == \"M\", inp1_0.AMT_CREDIT_x, c= 'Green', alpha= 0.7, s = 150, label=\"Male\" )\n",
    "\n",
    "plt.scatter(inp1_0[\"CODE_GENDER\"] == \"F\", inp1_0.AMT_CREDIT_x, c= 'Yellow', alpha= 0.7, s = 100, label=\"Female\" )\n",
    "\n",
    "plt.title(\"Gender vs Loan Amount of Non Defaulters\", fontdict={\"fontsize\":20, 'fontweight':5, 'color':'Purple'})\n",
    "plt.xlabel(\"Gender\",fontdict={\"fontsize\":10, 'fontweight':5, 'color':'blue'})\n",
    "plt.ylabel(\"Loan Amount\",fontdict={\"fontsize\":10, 'fontweight':5, 'color':'Blue'})\n",
    "\n",
    "plt.legend()\n",
    "plt.show()\n"
   ]
  },
  {
   "cell_type": "code",
   "execution_count": 155,
   "id": "56e3975f",
   "metadata": {},
   "outputs": [
    {
     "data": {
      "text/plain": [
       "Text(0, 0.5, 'Loan Amt_credit')"
      ]
     },
     "execution_count": 155,
     "metadata": {},
     "output_type": "execute_result"
    },
    {
     "data": {
      "image/png": "[encoded data removed]",
      "text/plain": [
       "<Figure size 432x288 with 1 Axes>"
      ]
     },
     "metadata": {
      "needs_background": "light"
     },
     "output_type": "display_data"
    }
   ],
   "source": [
    "plt.bar(inp1_1.CODE_GENDER,inp1_1.AMT_CREDIT_x)\n",
    "plt.title(\"CODE_GENDER vs Amt_credit\\n\", fontdict={\"fontsize\":20, 'fontweight':5, 'color':'Black'})\n",
    "plt.xlabel(\"CODE_GENDER\",fontdict={\"fontsize\":10, 'fontweight':5, 'color':'blue'})\n",
    "plt.ylabel(\"Loan Amt_credit\",fontdict={\"fontsize\":10, 'fontweight':5, 'color':'Blue'})"
   ]
  },
  {
   "cell_type": "code",
   "execution_count": 156,
   "id": "40895557",
   "metadata": {},
   "outputs": [
    {
     "data": {
      "text/plain": [
       "Text(0, 0.5, 'Loan Amt_credit')"
      ]
     },
     "execution_count": 156,
     "metadata": {},
     "output_type": "execute_result"
    },
    {
     "data": {
      "image/png": "[encoded data removed]",
      "text/plain": [
       "<Figure size 432x288 with 1 Axes>"
      ]
     },
     "metadata": {
      "needs_background": "light"
     },
     "output_type": "display_data"
    }
   ],
   "source": [
    "plt.bar(inp1_0.CODE_GENDER,inp1_0.AMT_CREDIT_x)\n",
    "plt.title(\"CODE_GENDER vs Amt_credit\\n\", fontdict={\"fontsize\":20, 'fontweight':5, 'color':'Black'})\n",
    "plt.xlabel(\"CODE_GENDER\",fontdict={\"fontsize\":10, 'fontweight':5, 'color':'blue'})\n",
    "plt.ylabel(\"Loan Amt_credit\",fontdict={\"fontsize\":10, 'fontweight':5, 'color':'Blue'})"
   ]
  },
  {
   "cell_type": "code",
   "execution_count": 177,
   "id": "200f813c",
   "metadata": {},
   "outputs": [
    {
     "data": {
      "text/plain": [
       "array(['Cash through the bank', 'Non-cash from your account',\n",
       "       'Cashless from the account of the employer'], dtype=object)"
      ]
     },
     "execution_count": 177,
     "metadata": {},
     "output_type": "execute_result"
    }
   ],
   "source": [
    "inp1_1.NAME_PAYMENT_TYPE.unique()"
   ]
  },
  {
   "cell_type": "code",
   "execution_count": null,
   "id": "7ea4aabc",
   "metadata": {},
   "outputs": [],
   "source": [
    "# ['NAME_CONTRACT_STATUS', 'WEEKDAY_APPR_PROCESS_START_y', 'FLAG_OWN_REALTY', 'NAME_HOUSING_TYPE', 'CHANNEL_TYPE', 'NFLAG_LAST_APPL_IN_DAY', 'NAME_EDUCATION_TYPE', 'CODE_REJECT_REASON', 'FLAG_OWN_CAR', 'NAME_SELLER_INDUSTRY', 'OCCUPATION_TYPE', 'NAME_CONTRACT_TYPE_y', 'NAME_CONTRACT_TYPE_x', 'NAME_GOODS_CATEGORY', 'WEEKDAY_APPR_PROCESS_START_x', 'NAME_PRODUCT_TYPE', 'NAME_TYPE_SUITE_x', 'NAME_PAYMENT_TYPE', 'NAME_INCOME_TYPE', 'NAME_FAMILY_STATUS', 'EMERGENCYSTATE_MODE', 'CODE_GENDER', 'NAME_PORTFOLIO', 'NAME_CLIENT_TYPE', 'ORGANIZATION_TYPE', 'NAME_YIELD_GROUP', 'PRODUCT_COMBINATION', 'FLAG_LAST_APPL_PER_CONTRACT', 'HOUR_APPR_PROCESS_START_y']"
   ]
  },
  {
   "cell_type": "code",
   "execution_count": null,
   "id": "2c6a7177",
   "metadata": {},
   "outputs": [],
   "source": [
    "# CNT_CHILDREN', 'AMT_INCOME_TOTAL',\n",
    "#        'AMT_CREDIT_x', 'AMT_ANNUITY_x', 'AMT_GOODS_PRICE_x',\n",
    "#        'REGION_POPULATION_RELATIVE', 'DAYS_BIRTH', 'DAYS_EMPLOYED',\n",
    "#        'DAYS_REGISTRATION', 'DAYS_ID_PUBLISH', 'FLAG_MOBIL', 'FLAG_EMP_PHONE',\n",
    "#        'FLAG_WORK_PHONE', 'FLAG_CONT_MOBILE', 'FLAG_PHONE', 'FLAG_EMAIL',\n",
    "#        'CNT_FAM_MEMBERS', 'REGION_RATING_CLIENT',\n",
    "#        'REGION_RATING_CLIENT_W_CITY', 'HOUR_APPR_PROCESS_START_x',\n",
    "#        'REG_REGION_NOT_LIVE_REGION', 'REG_REGION_NOT_WORK_REGION',\n",
    "#        'LIVE_REGION_NOT_WORK_REGION', 'REG_CITY_NOT_LIVE_CITY',\n",
    "#        'REG_CITY_NOT_WORK_CITY', 'LIVE_CITY_NOT_WORK_CITY', 'EXT_SOURCE_2',\n",
    "#        'EXT_SOURCE_3', 'YEARS_BEGINEXPLUATATION_AVG', 'FLOORSMAX_AVG',\n",
    "#        'YEARS_BEGINEXPLUATATION_MODE', 'FLOORSMAX_MODE'"
   ]
  },
  {
   "cell_type": "code",
   "execution_count": 171,
   "id": "a15addab",
   "metadata": {},
   "outputs": [
    {
     "data": {
      "image/png": "[encoded data removed]",
      "text/plain": [
       "<Figure size 432x288 with 1 Axes>"
      ]
     },
     "metadata": {
      "needs_background": "light"
     },
     "output_type": "display_data"
    }
   ],
   "source": [
    "\n",
    "inp1_1.plot (x='AMT_CREDIT_x', y='AMT_GOODS_PRICE_x', kind='scatter',c=\"Green\",  label=\"Defaulter\")\n",
    "\n",
    "plt.title(\"AMT_CREDIT vs AMT_GOODS_PRICE \\n\", fontdict={\"fontsize\":20, 'fontweight':5, 'color':'Black'})\n",
    "plt.xlabel(\"AMT_CREDIT\",fontdict={\"fontsize\":10, 'fontweight':5, 'color':'blue'})\n",
    "plt.ylabel(\"AMT_GOODS_PRICE\",fontdict={\"fontsize\":10, 'fontweight':5, 'color':'blue'})\n",
    "\n",
    "\n",
    "\n",
    "plt.legend()\n",
    "plt.show ()"
   ]
  },
  {
   "cell_type": "code",
   "execution_count": 172,
   "id": "e8565af4",
   "metadata": {},
   "outputs": [
    {
     "data": {
      "image/png": "[encoded data removed]",
      "text/plain": [
       "<Figure size 432x288 with 1 Axes>"
      ]
     },
     "metadata": {
      "needs_background": "light"
     },
     "output_type": "display_data"
    }
   ],
   "source": [
    "\n",
    "inp1_0.plot (x='AMT_CREDIT_x', y='AMT_GOODS_PRICE_x', kind='scatter',c=\"Cyan\", label=\"Non Defaulter\")\n",
    "\n",
    "plt.title(\"AMT_CREDIT vs AMT_GOODS_PRICE \\n\", fontdict={\"fontsize\":20, 'fontweight':5, 'color':'Black'})\n",
    "plt.xlabel(\"AMT_CREDIT\",fontdict={\"fontsize\":10, 'fontweight':5, 'color':'blue'})\n",
    "plt.ylabel(\"AMT_GOODS_PRICE\",fontdict={\"fontsize\":10, 'fontweight':5, 'color':'blue'})\n",
    "\n",
    "plt.legend()\n",
    "plt.show ()"
   ]
  },
  {
   "cell_type": "code",
   "execution_count": 180,
   "id": "afb08faf",
   "metadata": {},
   "outputs": [
    {
     "data": {
      "image/png": "[encoded data removed]",
      "text/plain": [
       "<Figure size 432x288 with 1 Axes>"
      ]
     },
     "metadata": {
      "needs_background": "light"
     },
     "output_type": "display_data"
    }
   ],
   "source": [
    "sns.boxplot(x=inp1_1.NAME_PAYMENT_TYPE, y=inp1_1.AMT_CREDIT_x)\n",
    "plt.title(\"Payment type vs Goods price \\n\")\n",
    "plt.xticks(rotation=45)\n",
    "plt.show()"
   ]
  },
  {
   "cell_type": "code",
   "execution_count": null,
   "id": "9b8cdac2",
   "metadata": {},
   "outputs": [],
   "source": [
    "end-----"
   ]
  }
 ],
 "metadata": {
  "kernelspec": {
   "display_name": "Python 3 (ipykernel)",
   "language": "python",
   "name": "python3"
  },
  "language_info": {
   "codemirror_mode": {
    "name": "ipython",
    "version": 3
   },
   "file_extension": ".py",
   "mimetype": "text/x-python",
   "name": "python",
   "nbconvert_exporter": "python",
   "pygments_lexer": "ipython3",
   "version": "3.9.7"
  }
 },
 "nbformat": 4,
 "nbformat_minor": 5
}
